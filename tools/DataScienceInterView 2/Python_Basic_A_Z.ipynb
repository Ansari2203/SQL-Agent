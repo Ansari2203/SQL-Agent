{
  "nbformat": 4,
  "nbformat_minor": 0,
  "metadata": {
    "colab": {
      "provenance": [],
      "collapsed_sections": [
        "V22HKYWG8SYa",
        "KTyslSR98tcO",
        "bDrGPnRu83bq",
        "T2go7CRRCCuE",
        "LqMfdRlfOR99",
        "sz7YQAPvOeWz",
        "iix13LyUPQEl",
        "0M97fib2Kogp",
        "72IHNTpRMdcg"
      ],
      "toc_visible": true
    },
    "kernelspec": {
      "name": "python3",
      "display_name": "Python 3"
    }
  },
  "cells": [
    {
      "cell_type": "markdown",
      "source": [
        "# Comments"
      ],
      "metadata": {
        "id": "V22HKYWG8SYa"
      }
    },
    {
      "cell_type": "code",
      "metadata": {
        "id": "qCL4miYQjt22",
        "colab": {
          "base_uri": "https://localhost:8080/",
          "height": 35
        },
        "outputId": "c7cf2c6c-bbc0-4608-9757-b173f0f76ec2"
      },
      "source": [
        "##############\n",
        "# Comments\n",
        "##############\n",
        "\n",
        "# I am SingleLine Comment\n",
        "'''\n",
        "This\n",
        "is\n",
        "a\n",
        "multipline\n",
        "comments\n",
        "'''\n",
        "\n",
        "\"\"\"\n",
        "This\n",
        "is\n",
        "also\n",
        "multipline\n",
        "comments\n",
        "\"\"\""
      ],
      "execution_count": null,
      "outputs": [
        {
          "output_type": "execute_result",
          "data": {
            "application/vnd.google.colaboratory.intrinsic+json": {
              "type": "string"
            },
            "text/plain": [
              "'\\nThis \\nis \\nalso\\nmultipline \\ncomments\\n'"
            ]
          },
          "metadata": {
            "tags": []
          },
          "execution_count": 1
        }
      ]
    },
    {
      "cell_type": "markdown",
      "source": [
        "# Variables"
      ],
      "metadata": {
        "id": "KTyslSR98tcO"
      }
    },
    {
      "cell_type": "code",
      "metadata": {
        "id": "fVXyZ9Vlj2i6",
        "colab": {
          "base_uri": "https://localhost:8080/"
        },
        "outputId": "c685846a-db00-46bc-dcf9-087c9327c66b"
      },
      "source": [
        "##############\n",
        "# Variables\n",
        "##############\n",
        "a = 10\n",
        "b = 10.3\n",
        "c = \"Hello India\"\n",
        "d = True\n",
        "\n",
        "print(\"Signle assignment :\",a,b,c,d)\n",
        "##################MultiAssignment\n",
        "a,b,c,d = (10,10.3,\"Hello India\",True)\n",
        "print(\"Multiple assignment :\",a,b,c,d)\n",
        "\n",
        "################check type\n",
        "print(type(d))\n",
        "\n",
        "#####################casting\n",
        "#a = float(a)\n",
        "a = str(a)\n",
        "#a = int(a)\n",
        "#a = bool(a)\n",
        "print(type(a))\n",
        "\n",
        "#####################string variable (by default it is a list) starts index from 0\n",
        "var = \"India\"\n",
        "var2 = \"\"\"\n",
        "this is method to\n",
        "store antire document\n",
        "into a string variable\n",
        "\"\"\"\n",
        "print(var)\n",
        "print(var[0]) #print 0 index\n",
        "print(var[0:3]) #print position 0 to 3 char index\n",
        "print(var[-1]) #print last char\n",
        "print(var[2:]) #print from index 2 to end\n",
        "print(var[::-1]) # reverse a string\n",
        "print(var2) # print entire doc as a string variable"
      ],
      "execution_count": null,
      "outputs": [
        {
          "output_type": "stream",
          "name": "stdout",
          "text": [
            "Signle assignment : 10 10.3 Hello India True\n",
            "Multiple assignment : 10 10.3 Hello India True\n",
            "<class 'bool'>\n",
            "<class 'str'>\n",
            " \n",
            "this is method to \n",
            "store antire document \n",
            "into a string variable \n",
            "\n",
            "India\n",
            "I\n",
            "Ind\n",
            "a\n",
            "dia\n",
            "aidnI\n"
          ]
        }
      ]
    },
    {
      "cell_type": "code",
      "source": [
        "input_string = \"india\"\n",
        "sorted_string = ''.join(sorted(input_string))\n",
        "print(sorted_string)"
      ],
      "metadata": {
        "colab": {
          "base_uri": "https://localhost:8080/"
        },
        "id": "oJB6bLd5-K_4",
        "outputId": "4a6b0315-7732-4a9a-9cae-b866e68f36eb"
      },
      "execution_count": null,
      "outputs": [
        {
          "output_type": "stream",
          "name": "stdout",
          "text": [
            "adiin\n"
          ]
        }
      ]
    },
    {
      "cell_type": "code",
      "source": [
        "var = \"India\"\n",
        "var[::-1]"
      ],
      "metadata": {
        "colab": {
          "base_uri": "https://localhost:8080/",
          "height": 35
        },
        "id": "0mmlgKFc-QWq",
        "outputId": "5d3a62a6-6bd3-4d7f-d14a-6daf1800e219"
      },
      "execution_count": null,
      "outputs": [
        {
          "output_type": "execute_result",
          "data": {
            "text/plain": [
              "'aidnI'"
            ],
            "application/vnd.google.colaboratory.intrinsic+json": {
              "type": "string"
            }
          },
          "metadata": {},
          "execution_count": 14
        }
      ]
    },
    {
      "cell_type": "code",
      "source": [
        "\"\".join(sorted(var))"
      ],
      "metadata": {
        "colab": {
          "base_uri": "https://localhost:8080/",
          "height": 35
        },
        "id": "hVOATb41AQTp",
        "outputId": "fe5444fc-e048-4ff2-b51f-7206e4572ef7"
      },
      "execution_count": null,
      "outputs": [
        {
          "output_type": "execute_result",
          "data": {
            "text/plain": [
              "'Iadin'"
            ],
            "application/vnd.google.colaboratory.intrinsic+json": {
              "type": "string"
            }
          },
          "metadata": {},
          "execution_count": 16
        }
      ]
    },
    {
      "cell_type": "markdown",
      "source": [
        "# Number Operations"
      ],
      "metadata": {
        "id": "bDrGPnRu83bq"
      }
    },
    {
      "cell_type": "code",
      "source": [
        "##############\n",
        "#  Number Operations in Python\n",
        "##############\n",
        "print(\"Addition : \",10+2)\n",
        "print(\"Multiplication : \",10*2)\n",
        "print(\"Subtraction : \",10-2)\n",
        "print(\"Division : \",10/2)\n",
        "print(\"Exponentiation(Power) : \",10**2)\n",
        "print(\"Modulus(remainder) :\", 10%2)\n",
        "print(\"Floor division\t :\", 10//2)"
      ],
      "metadata": {
        "colab": {
          "base_uri": "https://localhost:8080/"
        },
        "id": "EaAix9mk6PNg",
        "outputId": "821972f0-a8a5-4dbf-be09-d9e28025f8c3"
      },
      "execution_count": null,
      "outputs": [
        {
          "output_type": "stream",
          "name": "stdout",
          "text": [
            "Addition :  12\n",
            "Multiplication :  20\n",
            "Subtraction :  8\n",
            "Division :  5.0\n",
            "Exponentiation(Power) :  100\n",
            "Modulus : 0\n",
            "Floor division\t : 5\n"
          ]
        }
      ]
    },
    {
      "cell_type": "markdown",
      "source": [
        "# Casting\n",
        "\n",
        "1.   int()\n",
        "2.   float()\n",
        "3.   str()"
      ],
      "metadata": {
        "id": "T2go7CRRCCuE"
      }
    },
    {
      "cell_type": "code",
      "source": [
        "str_var1 = \"10\"\n",
        "int_var = 20\n",
        "print(\"Addition : \",int(str_var1) + 2)\n",
        "str_var2 = \"India\"\n",
        "print(\"Concate : \", str(int_var) + str_var2)"
      ],
      "metadata": {
        "colab": {
          "base_uri": "https://localhost:8080/"
        },
        "id": "l3rxgrY1Cd2S",
        "outputId": "706ce46f-c67d-4529-83c1-7a9df7622136"
      },
      "execution_count": null,
      "outputs": [
        {
          "output_type": "stream",
          "name": "stdout",
          "text": [
            "Addition :  12\n",
            "Concate :  20India\n"
          ]
        }
      ]
    },
    {
      "cell_type": "markdown",
      "source": [
        "# String Functions"
      ],
      "metadata": {
        "id": "JDra9sSiJ38k"
      }
    },
    {
      "cell_type": "code",
      "metadata": {
        "id": "4nan9V5Fj6Jm",
        "colab": {
          "base_uri": "https://localhost:8080/"
        },
        "outputId": "17e28e5c-5feb-4067-ffa0-98852fafc9f2"
      },
      "source": [
        "##############\n",
        "# String Functions\n",
        "##############\n",
        "\n",
        "#################String Concatination\n",
        "name = \"Juned Ansari\"\n",
        "age = 32\n",
        "print(\"Hello: \" + name + \" and Age : \" + str(age))\n",
        "#############fstring\n",
        "print(f\"My Name is {name} and I am {age} Years Old\")\n",
        "print(name[6:12]) #print from index to number of charaters\n",
        "##############String Methods\n",
        "str1 = \"hello india how are you\"\n",
        "print(str1.capitalize()) #Hello india how are you\n",
        "print(str1.upper()) #HELLO INDIA HOW ARE YOU\n",
        "print(str1.lower()) #hello india how are you\n",
        "print(str1.swapcase())\n",
        "print(len(str1)) #print length of the string\n",
        "a = \" Hello, World! \"\n",
        "print(a.strip()) # it is like trim\n",
        "a = \"Hello, World!\"\n",
        "print(a.replace(\"H\", \"J\")) #replace\n",
        "a = \"Hello, World!\"\n",
        "print(a.split(\",\")) # returns ['Hello', ' World!']\n",
        "print(str1.replace(\"india\",\"everyone\"))\n",
        "print(str1.count('e')) #count specified char in given string"
      ],
      "execution_count": null,
      "outputs": [
        {
          "output_type": "stream",
          "name": "stdout",
          "text": [
            "Hello: Juned Ansari and Age : 32\n",
            "My Name is Juned Ansari and I am 32 Years Old\n",
            "Ansari\n",
            "Hello india how are you\n",
            "HELLO INDIA HOW ARE YOU\n",
            "hello india how are you\n",
            "HELLO INDIA HOW ARE YOU\n",
            "23\n",
            "Hello, World!\n",
            "Jello, World!\n",
            "['Hello', ' World!']\n",
            "hello everyone how are you\n",
            "0\n"
          ]
        }
      ]
    },
    {
      "cell_type": "markdown",
      "source": [
        "\n",
        "\n",
        "```\n",
        "# This is formatted as code\n",
        "```\n",
        "\n",
        "# Data Structure\n",
        "*   List - (it is same like array in javascript)\n",
        "*   tuples(it is like constant(immutable list), you can not change its members value, it does not support item assignment)\n",
        "*   sets(unordered and unindexed does not have duplicates) it is unique elements set\n",
        "*   Dictionary (it is like javascript object, unordered , changeable and indexed, no duplicate members)\n",
        "\n"
      ],
      "metadata": {
        "id": "M9ehL7Z1LQ_Y"
      }
    },
    {
      "cell_type": "code",
      "metadata": {
        "id": "G9y0Spxmj8p5",
        "colab": {
          "base_uri": "https://localhost:8080/"
        },
        "outputId": "10251a42-5282-4008-9ce6-ee10a14736a8"
      },
      "source": [
        "### Data Structure ####\n",
        "##############\n",
        "# List - (it is same like array in javascript)\n",
        "##############\n",
        "a = [1,3,4,5,61,45,5]\n",
        "print(type(a))\n",
        "\n",
        "b = [1,3,[1,2,3],4]\n",
        "print(b)\n",
        "print(b[2])\n",
        "print(b[2][1])\n",
        "\n",
        "fruits = ['apple','orange','mango','banana']\n",
        "print(fruits)\n",
        "### Iterate\n",
        "for objfruits in fruits:\n",
        "  print(objfruits)\n",
        "\n",
        "print(fruits[1])\n",
        "fruits.append(\"Chiku\") #insert element at the end of the list\n",
        "print(fruits)\n",
        "fruits.remove(\"Chiku\") #removes element from the end of the list.\n",
        "print(fruits)\n",
        "fruits.insert(2,'Grapes') #insert at specific position\n",
        "print(fruits)\n",
        "fruits.pop(2) #remove specific element by index\n",
        "print(fruits)\n",
        "fruits.reverse() #reverse list\n",
        "print(fruits)\n",
        "fruits.sort() #ascending order\n",
        "print(fruits)\n",
        "fruits.sort(reverse=True) #descending order\n",
        "print(fruits)\n",
        "print(len(fruits)) #length of a list\n",
        "print(\"Search in list: \",\"apple\" in fruits) #return True of found\n",
        "\n",
        "# List Comprehension (one line code)\n",
        "lst = [1,2,3,4,5]\n",
        "even = [i for i in lst if i%2==0]\n",
        "print(\"Even Number List\", even)\n",
        "print(\"Square of all the numbers in list\", [(i*i) for i in lst])"
      ],
      "execution_count": null,
      "outputs": [
        {
          "output_type": "stream",
          "name": "stdout",
          "text": [
            "<class 'list'>\n",
            "[1, 3, [1, 2, 3], 4]\n",
            "[1, 2, 3]\n",
            "2\n",
            "['apple', 'orange', 'mango', 'banana']\n",
            "apple\n",
            "orange\n",
            "mango\n",
            "banana\n",
            "orange\n",
            "['apple', 'orange', 'mango', 'banana', 'Chiku']\n",
            "['apple', 'orange', 'mango', 'banana']\n",
            "['apple', 'orange', 'Grapes', 'mango', 'banana']\n",
            "['apple', 'orange', 'mango', 'banana']\n",
            "['banana', 'mango', 'orange', 'apple']\n",
            "['apple', 'banana', 'mango', 'orange']\n",
            "['orange', 'mango', 'banana', 'apple']\n",
            "4\n",
            "Search in list:  True\n",
            "Even Number List [2, 4]\n",
            "Square of all the numbers in list [1, 4, 9, 16, 25]\n"
          ]
        }
      ]
    },
    {
      "cell_type": "code",
      "metadata": {
        "id": "d5kvrwxcj-9F",
        "colab": {
          "base_uri": "https://localhost:8080/"
        },
        "outputId": "f17c74f9-99e0-44ba-b53b-d4cedabc1c83"
      },
      "source": [
        "##############\n",
        "# tuples(it is like constant(immutable list), you can not change its members value, it does not support item assignment)\n",
        "##############\n",
        "fruits_t = (\"apple\",\"orange\",\"Mango\",\"orange\")\n",
        "### Iterate\n",
        "for objfruits in fruits_t:\n",
        "  print(objfruits)\n",
        "\n",
        "print(fruits_t)\n",
        "print(fruits_t[1])\n",
        "#fruits_t[1] = \"Grapes\" it does not support item assignment\n",
        "#print(fruits_t)\n",
        "print(len(fruits_t))\n",
        "del fruits_t\n",
        "# print(fruits_t)"
      ],
      "execution_count": null,
      "outputs": [
        {
          "output_type": "stream",
          "name": "stdout",
          "text": [
            "apple\n",
            "orange\n",
            "Mango\n",
            "orange\n",
            "('apple', 'orange', 'Mango', 'orange')\n",
            "orange\n",
            "4\n"
          ]
        }
      ]
    },
    {
      "cell_type": "code",
      "metadata": {
        "id": "aodoTBUWkA3Y",
        "colab": {
          "base_uri": "https://localhost:8080/",
          "height": 187
        },
        "outputId": "10eea19d-208e-49c3-843e-f95c449d65c7"
      },
      "source": [
        "##############\n",
        "# sets(unordered and unindexed does not have duplicates) it is unique elements set\n",
        "##############\n",
        "fruits_set = {\"apple\",\"orange\",\"mango\"}\n",
        "### Iterate\n",
        "for objfruits in fruits:\n",
        "  print(objfruits)\n",
        "\n",
        "print(fruits_set)\n",
        "fruits_set = {\"apple\",\"orange\",\"mango\",\"orange\"}\n",
        "print(fruits_set) #it will print {'apple', 'mango', 'orange'} do one orange is automatically deleted\n",
        "#check in set\n",
        "print('orange' in fruits_set)\n",
        "fruits_set.add('grapes') # add new element to set\n",
        "print(fruits_set)\n",
        "fruits_set.remove('grapes') #remove from set\n",
        "print(fruits_set)\n",
        "fruits_set.clear() #clear set\n",
        "print(fruits_set)\n",
        "#del fruits_set # delete completly\n",
        "#print(fruits_set)"
      ],
      "execution_count": null,
      "outputs": [
        {
          "output_type": "stream",
          "text": [
            "orange\n",
            "mango\n",
            "banana\n",
            "apple\n",
            "{'mango', 'apple', 'orange'}\n",
            "{'mango', 'apple', 'orange'}\n",
            "True\n",
            "{'mango', 'apple', 'grapes', 'orange'}\n",
            "{'mango', 'apple', 'orange'}\n",
            "set()\n"
          ],
          "name": "stdout"
        }
      ]
    },
    {
      "cell_type": "code",
      "metadata": {
        "id": "1ftHnRXWkC7o",
        "colab": {
          "base_uri": "https://localhost:8080/"
        },
        "outputId": "178a9d2f-b56a-4b4b-a93e-65d2a3f8b3f5"
      },
      "source": [
        "##############\n",
        "# Dictionary (it is like javascript object, unordered , changeable and indexed, no duplicate members)\n",
        "##############\n",
        "person = {\n",
        "    'fname':'juned',\n",
        "    'lname':'Ansari',\n",
        "    'age':32,\n",
        "    'hobbies':['travelling','net surfing','painting']\n",
        "}\n",
        "print(person) #Print entire dictionary\n",
        "print(person['hobbies'][0]) #print specific element by key\n",
        "### Iterate\n",
        "for obj in person:\n",
        "  print(person[obj])\n",
        "\n",
        "#access only one field\n",
        "print(person['fname'])\n",
        "print(person.get('fname'))\n",
        "\n",
        "#add new member\n",
        "person['Mobile'] = '9904773679'\n",
        "print(person)\n",
        "\n",
        "#Get Keys\n",
        "print(\"Keys:\",person.keys())\n",
        "\n",
        "#get values\n",
        "print(\"Values:\",person.items())\n",
        "\n",
        "#Loop Through a dictionary\n",
        "for x in person:\n",
        "  print(person[x])\n",
        "\n",
        "#check length of dictionary\n",
        "print(\"Length:\",len(person))\n",
        "\n",
        "#Adding Items to Dictionay\n",
        "person['city'] = \"Surat\"\n",
        "print(person)\n",
        "\n",
        "#Removing Items from Dictionary\n",
        "person.pop(\"city\")\n",
        "print(person)\n",
        "\n",
        "person['city'] = \"Surat\"\n",
        "print(person)\n",
        "del person[\"city\"]\n",
        "print(person)\n",
        "\n",
        "#Delete Dictionay Completely\n",
        "#####del person\n",
        "# del person\n",
        "print(person)\n",
        "\n",
        "#Empty Dictionary like Truncate\n",
        "person.clear()\n",
        "print(person)"
      ],
      "execution_count": null,
      "outputs": [
        {
          "output_type": "stream",
          "name": "stdout",
          "text": [
            "{'fname': 'juned', 'lname': 'Ansari', 'age': 32, 'hobbies': ['travelling', 'net surfing', 'painting']}\n",
            "travelling\n",
            "juned\n",
            "Ansari\n",
            "32\n",
            "['travelling', 'net surfing', 'painting']\n",
            "juned\n",
            "juned\n",
            "{'fname': 'juned', 'lname': 'Ansari', 'age': 32, 'hobbies': ['travelling', 'net surfing', 'painting'], 'Mobile': '9904773679'}\n",
            "Keys: dict_keys(['fname', 'lname', 'age', 'hobbies', 'Mobile'])\n",
            "Values: dict_items([('fname', 'juned'), ('lname', 'Ansari'), ('age', 32), ('hobbies', ['travelling', 'net surfing', 'painting']), ('Mobile', '9904773679')])\n",
            "juned\n",
            "Ansari\n",
            "32\n",
            "['travelling', 'net surfing', 'painting']\n",
            "9904773679\n",
            "Length: 5\n",
            "{'fname': 'juned', 'lname': 'Ansari', 'age': 32, 'hobbies': ['travelling', 'net surfing', 'painting'], 'Mobile': '9904773679', 'city': 'Surat'}\n",
            "{'fname': 'juned', 'lname': 'Ansari', 'age': 32, 'hobbies': ['travelling', 'net surfing', 'painting'], 'Mobile': '9904773679'}\n",
            "{'fname': 'juned', 'lname': 'Ansari', 'age': 32, 'hobbies': ['travelling', 'net surfing', 'painting'], 'Mobile': '9904773679', 'city': 'Surat'}\n",
            "{'fname': 'juned', 'lname': 'Ansari', 'age': 32, 'hobbies': ['travelling', 'net surfing', 'painting'], 'Mobile': '9904773679'}\n",
            "{'fname': 'juned', 'lname': 'Ansari', 'age': 32, 'hobbies': ['travelling', 'net surfing', 'painting'], 'Mobile': '9904773679'}\n",
            "{}\n"
          ]
        }
      ]
    },
    {
      "cell_type": "markdown",
      "source": [
        "# Conditional Statements if else"
      ],
      "metadata": {
        "id": "LqMfdRlfOR99"
      }
    },
    {
      "cell_type": "code",
      "metadata": {
        "id": "Vd50nTUwkFDl",
        "colab": {
          "base_uri": "https://localhost:8080/",
          "height": 119
        },
        "outputId": "811f8045-5d9e-4b2e-b171-f206ffad39e4"
      },
      "source": [
        "##############\n",
        "# Conditional Statements if else\n",
        "##############\n",
        "a = -20\n",
        "if a > 0:\n",
        "  print(f\"{a} is Positive Value\")\n",
        "  print(str(a) + \" is Positive Value\")\n",
        "else:\n",
        "    print(f\"{a} is -Ve Value\")\n",
        "\n",
        "#and or not in if\n",
        "if a > 0 and a != 0:\n",
        "  print(f\"{a} is Positive Value\")\n",
        "else:\n",
        "  print(f\"{a} is -ve Value\")\n",
        "\n",
        "#or\n",
        "if a > 0 or a != 0:\n",
        "  print(f\"{a} is Positive Value\")\n",
        "else:\n",
        "  print(f\"{a} is -ve Value\")\n",
        "\n",
        "#not\n",
        "if not(a > 0):\n",
        "  print(f\"{a} is Not Positive\")\n",
        "\n",
        "#Membership operator (in,not in) it is like in list\n",
        "ls = [1,2,3,4,5,6,7,8]\n",
        "x = 22\n",
        "if x in ls:\n",
        "  print(f\" {x} Found in List\")\n",
        "\n",
        "if x not in ls:\n",
        "  print(f\" {x} Not Found in List\")\n",
        "\n",
        "x =1\n",
        "y =10\n",
        "#Identity Operator(is, is not)\n",
        "if x is y:\n",
        "  print(\"both are equal\")\n",
        "\n",
        "if x is not y:\n",
        "  print(\"both are not equal\")"
      ],
      "execution_count": null,
      "outputs": [
        {
          "output_type": "stream",
          "text": [
            "-20 is -Ve Value\n",
            "-20 is -ve Value\n",
            "-20 is Positive Value\n",
            "-20 is Not Positive\n",
            " 22 Not Found in List\n",
            "both are not equal\n"
          ],
          "name": "stdout"
        }
      ]
    },
    {
      "cell_type": "markdown",
      "source": [
        "# functions"
      ],
      "metadata": {
        "id": "LoRhz9kbOZRB"
      }
    },
    {
      "cell_type": "code",
      "metadata": {
        "id": "lJvRubdrkH8u",
        "colab": {
          "base_uri": "https://localhost:8080/",
          "height": 102
        },
        "outputId": "38b25413-0a3d-430c-9868-b65e5ac1516e"
      },
      "source": [
        "##############\n",
        "# functions\n",
        "##############\n",
        "\n",
        "# function with default parameter\n",
        "def test(name = 'india'):\n",
        "  print(\"this is testing function :\"+name )\n",
        "\n",
        "test(\"Juned Ansari\")\n",
        "test()\n",
        "\n",
        "# retrurn value from function\n",
        "def cal(n1,n2,sign):\n",
        "  if sign == '+':\n",
        "    total = n1+n2\n",
        "  elif sign == '-':\n",
        "    total = n1-n2\n",
        "  elif sign == '*':\n",
        "    total = n1*n2\n",
        "  else:\n",
        "    total = n1/n2\n",
        "\n",
        "  return total\n",
        "\n",
        "addidtion = cal(10,20,'+')\n",
        "print(\"addidtion:\" + str(addidtion))\n",
        "sub = cal(10,20,'-')\n",
        "print(\"Subtraction:\"+str(sub))\n",
        "\n",
        "#Lambda Function(small anonymous function which can take any number of arguments, but can have only one expression)\n",
        "getSUM = lambda n1,n2: n1+n2\n",
        "print(getSUM(10,30))"
      ],
      "execution_count": null,
      "outputs": [
        {
          "output_type": "stream",
          "text": [
            "this is testing function :Juned Ansari\n",
            "this is testing function :india\n",
            "addidtion:30\n",
            "Subtraction:-10\n",
            "40\n"
          ],
          "name": "stdout"
        }
      ]
    },
    {
      "cell_type": "code",
      "source": [
        "#####\n",
        "# Lambda Function : it is a shortcut of any normal function\n",
        "#####\n",
        "def test(num):\n",
        "    return (num*2)\n",
        "\n",
        "print(test(3))\n",
        "\n",
        "# same above function can be writter using lambda function like\n",
        "r = lambda num:num*2\n",
        "print(r(3))\n",
        "\n",
        "\n",
        "#####\n",
        "# map function : it is used to map any list to any function so that we can get the result for output of function for multiple list values at a time without any loop.\n",
        "#####\n",
        "seq = [1,2,3,4,5]\n",
        "list(map(lambda num:num*2,seq))\n",
        "\n",
        "####\n",
        "# filter function is used to filter any function for multiple values of a list\n",
        "####\n",
        "#---Example:1\n",
        "# function that filters vowels\n",
        "def fun(variable):\n",
        "    letters = ['a', 'e', 'i', 'o', 'u']\n",
        "    if (variable in letters):\n",
        "        return True\n",
        "    else:\n",
        "        return False\n",
        "\n",
        "\n",
        "# sequence\n",
        "sequence = ['g', 'e', 'e', 'j', 'k', 's', 'p', 'r']\n",
        "\n",
        "# using filter function\n",
        "filtered = filter(fun, sequence)\n",
        "print(list(filtered))\n",
        "\n",
        "#---Example:2\n",
        "seq = [1,2,3,4,5]\n",
        "list(filter(lambda num: num%2 == 0,seq))"
      ],
      "metadata": {
        "id": "Nyl0HzPKOpgW"
      },
      "execution_count": null,
      "outputs": []
    },
    {
      "cell_type": "markdown",
      "source": [
        "# CLASS & Object"
      ],
      "metadata": {
        "id": "sz7YQAPvOeWz"
      }
    },
    {
      "cell_type": "code",
      "metadata": {
        "id": "HCbKyyj9kJy8",
        "colab": {
          "base_uri": "https://localhost:8080/",
          "height": 391
        },
        "outputId": "c62dc6ce-26b5-42f2-9773-6b8646a8ce81"
      },
      "source": [
        "##############\n",
        "# CLASS & Object\n",
        "##############\n",
        "class Car:\n",
        "  #Constructor\n",
        "  def __init__(self,modelname,yearm,price):\n",
        "    self.modelname = modelname\n",
        "    self.yearm = yearm\n",
        "    self.price = price\n",
        "  def price_increase(self):\n",
        "    self.price = int(self.price*1.15)\n",
        "    return self.price\n",
        "\n",
        "\n",
        "#creat object\n",
        "honda = Car(\"HondaCT\",2019,1000000)\n",
        "tata = Car(\"Bolt\",2018,600000)\n",
        "\n",
        "print(\"Model Name:\"+honda.modelname)\n",
        "print(\"Year of Menufecture:\"+ str(honda.yearm))\n",
        "print(\"Price:\"+ str(honda.price))\n",
        "print(\"\\n\")\n",
        "print(\"Model Name:\"+tata.modelname)\n",
        "print(\"Year of Menufecture:\"+ str(tata.yearm))\n",
        "print(\"Price:\"+ str(tata.price))\n",
        "tata.cc = 1500\n",
        "print(\"CC:\", tata.cc)\n",
        "print(\"\\n\")\n",
        "\n",
        "# To check dictionay with value associated with the object\n",
        "print(tata.__dict__)\n",
        "\n",
        "# To call Class Method\n",
        "print(\"\\nBefore Price:\"+ str(honda.price))\n",
        "honda.price_increase()\n",
        "print(\"After Price:\"+ str(honda.price))\n",
        "\n",
        "print(\"\\n\")\n",
        "#### Inheritance ####\n",
        "class SuperCar(Car):\n",
        "    def flaying_feature(self):\n",
        "        return \"I can Fly\"\n",
        "\n",
        "objSuperCar = SuperCar(\"Tarzen\",2022,9000000)\n",
        "print(\"Model Name:\",objSuperCar.modelname)\n",
        "print(\"Year of Menufecture:\", objSuperCar.yearm)\n",
        "print(\"Price:\",objSuperCar.price)\n",
        "print(objSuperCar.flaying_feature())\n",
        "\n",
        "\n",
        "#### Inheritance advanced####\n",
        "class SuperCar2(Car):\n",
        "    #Constructor\n",
        "    def __init__(self,modelname,yearm,price,cc):\n",
        "      super().__init__(modelname,yearm,price)\n",
        "      self.cc = cc\n",
        "    def flaying_feature(self):\n",
        "        return \"I can Fly\"\n",
        "\n",
        "objSuperCar2 = SuperCar2(\"Tarzen\",2022,9000000,5000)\n",
        "print(objSuperCar2.__dict__)"
      ],
      "execution_count": null,
      "outputs": [
        {
          "output_type": "stream",
          "text": [
            "Model Name:HondaCT\n",
            "Year of Menufecture:2019\n",
            "Price:1000000\n",
            "\n",
            "\n",
            "Model Name:Bolt\n",
            "Year of Menufecture:2018\n",
            "Price:600000\n",
            "CC: 1500\n",
            "\n",
            "\n",
            "{'modelname': 'Bolt', 'yearm': 2018, 'price': 600000, 'cc': 1500}\n",
            "\n",
            "Before Price:1000000\n",
            "After Price:1150000\n",
            "\n",
            "\n",
            "Model Name: Tarzen\n",
            "Year of Menufecture: 2022\n",
            "Price: 9000000\n",
            "I can Fly\n",
            "{'modelname': 'Tarzen', 'yearm': 2022, 'price': 9000000, 'cc': 5000}\n"
          ],
          "name": "stdout"
        }
      ]
    },
    {
      "cell_type": "code",
      "metadata": {
        "id": "iisRSN2YtaBk",
        "colab": {
          "base_uri": "https://localhost:8080/",
          "height": 68
        },
        "outputId": "906d5670-7cc6-45a1-e2eb-273b89663563"
      },
      "source": [
        "## instance method, class method, static method\n",
        "class Testing:\n",
        "  title = \"Class Method\" #class variable\n",
        "  #Constructor\n",
        "  def instance_method(self):\n",
        "    return \"Instance Method\"\n",
        "\n",
        "  @classmethod\n",
        "  def class_method(cls):\n",
        "    return cls.title\n",
        "\n",
        "  @staticmethod\n",
        "  def static_method():\n",
        "    return \"Static Method\"\n",
        "\n",
        "#creat object\n",
        "objtest = Testing()\n",
        "\n",
        "print(objtest.instance_method()) # because we have used instance of class to call method\n",
        "print(Testing.class_method()) # here we have used class variable 'title'\n",
        "print(Testing.static_method()) # here we dont have used instance variable or class variable that is why it is called static method"
      ],
      "execution_count": null,
      "outputs": [
        {
          "output_type": "stream",
          "text": [
            "Instance Method\n",
            "Class Method\n",
            "Static Method\n"
          ],
          "name": "stdout"
        }
      ]
    },
    {
      "cell_type": "code",
      "metadata": {
        "id": "K_eDiBYuDOV8",
        "colab": {
          "base_uri": "https://localhost:8080/",
          "height": 68
        },
        "outputId": "59ce278d-713d-48e6-d49f-5320ee488008"
      },
      "source": [
        "# Class inside Class\n",
        "class Student:\n",
        "  def __init__(self,name,rollno):\n",
        "    self.name = name\n",
        "    self.rollno = rollno\n",
        "    self.lap = self.Laptop()\n",
        "  def show(self):\n",
        "    print(self.name,self.rollno)\n",
        "\n",
        "  class Laptop:\n",
        "    def __init__(self):\n",
        "      self.brand = \"Dell\"\n",
        "      self.processor = \"i5\"\n",
        "      self.ram = \"8GB\"\n",
        "\n",
        "\n",
        "\n",
        "obj = Student(\"Juned\",3)\n",
        "obj.show()\n",
        "print(obj.lap.brand,obj.lap.processor,obj.lap.ram)\n",
        "\n",
        "# direct object outside class\n",
        "obj_outside = Student.Laptop()\n",
        "print(obj_outside.brand,obj_outside.processor,obj_outside.ram)"
      ],
      "execution_count": null,
      "outputs": [
        {
          "output_type": "stream",
          "text": [
            "Juned 3\n",
            "Dell i5 8GB\n",
            "Dell i5 8GB\n"
          ],
          "name": "stdout"
        }
      ]
    },
    {
      "cell_type": "code",
      "source": [
        "lst = ['abc','xyz','c']\n",
        "lst.reverse()\n",
        "print(lst)"
      ],
      "metadata": {
        "colab": {
          "base_uri": "https://localhost:8080/"
        },
        "id": "LOSoAGtMaeos",
        "outputId": "50170068-7bd6-45f6-88a2-c8a6cc008051"
      },
      "execution_count": null,
      "outputs": [
        {
          "output_type": "stream",
          "name": "stdout",
          "text": [
            "['c', 'xyz', 'abc']\n"
          ]
        }
      ]
    },
    {
      "cell_type": "code",
      "metadata": {
        "id": "T0aCaPa6HSG8",
        "colab": {
          "base_uri": "https://localhost:8080/",
          "height": 153
        },
        "outputId": "d77a0a47-4890-41ad-841d-bf6b3b98a5db"
      },
      "source": [
        "# Inheritance (single,multiple,multi-layer)\n",
        "class A:\n",
        "  def feature1(self):\n",
        "    print(\"I am feature1\")\n",
        "\n",
        "class B(A):\n",
        "  def feature2(self):\n",
        "    print(\"I am feature2\")\n",
        "\n",
        "class C(B):\n",
        "  def feature3(self):\n",
        "    print(\"I am feature3\")\n",
        "\n",
        "objC = C()\n",
        "objC.feature1()\n",
        "objC.feature2()\n",
        "objC.feature3()\n",
        "\n",
        "print(\"\\nMultiple Inheritance\")\n",
        "\n",
        "class A:\n",
        "  def feature1(self):\n",
        "    print(\"I am feature1\")\n",
        "\n",
        "class B:\n",
        "  def feature2(self):\n",
        "    print(\"I am feature2\")\n",
        "\n",
        "class C(A,B):\n",
        "  def feature3(self):\n",
        "    print(\"I am feature3\")\n",
        "\n",
        "objC = C()\n",
        "objC.feature1()\n",
        "objC.feature2()\n",
        "objC.feature3()"
      ],
      "execution_count": null,
      "outputs": [
        {
          "output_type": "stream",
          "text": [
            "I am feature1\n",
            "I am feature2\n",
            "I am feature3\n",
            "\n",
            "Multiple Inheritance\n",
            "I am feature1\n",
            "I am feature2\n",
            "I am feature3\n"
          ],
          "name": "stdout"
        }
      ]
    },
    {
      "cell_type": "markdown",
      "source": [
        "# Exception Handling"
      ],
      "metadata": {
        "id": "iix13LyUPQEl"
      }
    },
    {
      "cell_type": "code",
      "metadata": {
        "id": "ORKxdr9qY2IE"
      },
      "source": [
        "######\n",
        "# Try, Except, Finally , raise Exception()\n",
        "######\n",
        "try:\n",
        "  print(x)\n",
        "except:\n",
        "  print(\"Something went wrong\")\n",
        "finally:\n",
        "  print(\"The 'try except' is finished\")\n",
        "\n",
        "\n",
        "if x < 0:\n",
        "  raise Exception(\"Sorry, no numbers below zero\")"
      ],
      "execution_count": null,
      "outputs": []
    },
    {
      "cell_type": "markdown",
      "source": [
        "# Iterators\n",
        "an iterator is an object that allows you to access elements from a collection or sequence one at a time. It provides two main methods: iter() and next()."
      ],
      "metadata": {
        "id": "twCgFdXtgham"
      }
    },
    {
      "cell_type": "code",
      "source": [
        "# using simple loop iterate it\n",
        "numbers = [1, 2, 3, 4, 5]\n",
        "for num in numbers:\n",
        "    print(num)\n",
        "\n",
        "numbers = [1, 2, 3, 4, 5]\n",
        "iter_obj = iter(numbers)\n",
        "while True:\n",
        "    try:\n",
        "        num = next(iter_obj)\n",
        "        print(num)\n",
        "    except StopIteration:\n",
        "        break\n",
        "\n",
        "class RemoteControl():\n",
        "    def __init__(self):\n",
        "        self.channels = [\"HBO\",\"cnn\",\"abc\",\"espn\"]\n",
        "        self.index = -1\n",
        "\n",
        "    def __iter__(self):\n",
        "        return self\n",
        "\n",
        "    def __next__(self):\n",
        "        self.index += 1\n",
        "        if self.index == len(self.channels):\n",
        "            raise StopIteration\n",
        "\n",
        "        return self.channels[self.index]\n",
        "\n",
        "r = RemoteControl()\n",
        "itr=iter(r)\n",
        "print(next(itr))\n",
        "print(next(itr))\n",
        "print(next(itr))\n",
        "print(next(itr))\n",
        "print(next(itr))"
      ],
      "metadata": {
        "colab": {
          "base_uri": "https://localhost:8080/"
        },
        "id": "pINi11Z7glFY",
        "outputId": "650461e2-5f25-4829-e0d1-59762efd3abf"
      },
      "execution_count": null,
      "outputs": [
        {
          "output_type": "stream",
          "name": "stdout",
          "text": [
            "1\n",
            "2\n",
            "3\n",
            "4\n",
            "5\n",
            "1\n",
            "2\n",
            "3\n",
            "4\n",
            "5\n"
          ]
        }
      ]
    },
    {
      "cell_type": "markdown",
      "source": [
        "# Generator\n",
        "It is a simple way of creating iterator\n",
        "  - you dont need to define iter() and next() method\n",
        "  - you dont need to raise StopIteration Exception\n",
        "  - Generators are a concise way to create iterators. They use the yield keyword instead of return to produce a sequence of values. The advantage of generators is that they are memory-efficient, as they generate values on-the-fly, rather than storing them all in memory at once. This is particularly useful when dealing with large datasets or infinite sequences."
      ],
      "metadata": {
        "id": "p0z-Bo0gh844"
      }
    },
    {
      "cell_type": "code",
      "source": [
        "def fib():\n",
        "    a, b = 0, 1\n",
        "    while True:\n",
        "        yield a\n",
        "        a, b = b, a+b\n",
        "\n",
        "for f in fib():\n",
        "    if f > 100:\n",
        "        break\n",
        "    print(f)"
      ],
      "metadata": {
        "colab": {
          "base_uri": "https://localhost:8080/"
        },
        "id": "lvR2GK1wiCEj",
        "outputId": "8e65b147-c023-4c3c-ee11-091a98b2d01a"
      },
      "execution_count": null,
      "outputs": [
        {
          "output_type": "stream",
          "name": "stdout",
          "text": [
            "0\n",
            "1\n",
            "1\n",
            "2\n",
            "3\n",
            "5\n",
            "8\n",
            "13\n",
            "21\n",
            "34\n",
            "55\n",
            "89\n"
          ]
        }
      ]
    },
    {
      "cell_type": "markdown",
      "source": [
        "# Decoretors\n",
        "decorators in Python are like wrappers that allow you to modify the behavior of a function without changing its code directly.\n",
        "\n",
        "Imagine you have a function called greet() that prints \"Hello, World!\". Now, you want to add some extra functionality to this function, such as printing a message before and after the greet() function is called. Instead of modifying the greet() function directly, you can use a decorator.\n",
        "\n",
        "A decorator is a separate function that takes the original function as input and returns a new function. This new function wraps around the original function and adds the desired extra behavior."
      ],
      "metadata": {
        "id": "0M97fib2Kogp"
      }
    },
    {
      "cell_type": "code",
      "source": [
        "# here in this code we have wrapped calc_square() and calc_cube() with time_it() function\n",
        "import time\n",
        "def time_it(func):\n",
        "    def wrapper(*args, **kwargs):\n",
        "        start = time.time()\n",
        "        result = func(*args,**kwargs)\n",
        "        end = time.time()\n",
        "        print(func.__name__ +\" took \" + str((end-start)*1000) + \"mil sec\")\n",
        "        return result\n",
        "    return wrapper\n",
        "\n",
        "@time_it\n",
        "def calc_square(numbers):\n",
        "    result = []\n",
        "    for number in numbers:\n",
        "        result.append(number*number)\n",
        "    return result\n",
        "\n",
        "@time_it\n",
        "def calc_cube(numbers):\n",
        "    result = []\n",
        "    for number in numbers:\n",
        "        result.append(number*number*number)\n",
        "    return result\n",
        "\n",
        "array = range(1,100000)\n",
        "out_square = calc_square(array)\n",
        "out_cube = calc_cube(array)"
      ],
      "metadata": {
        "id": "VEy417lPKrxy"
      },
      "execution_count": null,
      "outputs": []
    },
    {
      "cell_type": "markdown",
      "source": [
        "# Unit Testing\n",
        "![Screen Shot 2023-07-07 at 12.42.03 PM.png](data:image/png;base64,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)"
      ],
      "metadata": {
        "id": "72IHNTpRMdcg"
      }
    },
    {
      "cell_type": "code",
      "source": [],
      "metadata": {
        "id": "vrV0qhaXMqYR"
      },
      "execution_count": null,
      "outputs": []
    },
    {
      "cell_type": "markdown",
      "source": [
        "# Pandas\n",
        "What is a Series?\n",
        "A Pandas Series is like a column in a table.\n",
        "\n",
        "It is a one-dimensional array holding data of any type.\n",
        "\n",
        "What is a DataFrame?\n",
        "Collection of Series is called Data Frame"
      ],
      "metadata": {
        "id": "HklJt2dlPV8s"
      }
    },
    {
      "cell_type": "code",
      "source": [
        "# Pandas Series\n",
        "import pandas as pd\n",
        "a = [1, 7, 2]\n",
        "myvar = pd.Series(a)\n",
        "print(myvar)"
      ],
      "metadata": {
        "colab": {
          "base_uri": "https://localhost:8080/"
        },
        "id": "yeuckeN7rxph",
        "outputId": "77a3bdc0-1570-4d8b-b102-3011b9c13225"
      },
      "execution_count": null,
      "outputs": [
        {
          "output_type": "stream",
          "name": "stdout",
          "text": [
            "0    1\n",
            "1    7\n",
            "2    2\n",
            "dtype: int64\n"
          ]
        }
      ]
    },
    {
      "cell_type": "code",
      "metadata": {
        "id": "JJvbAoKrkOC8",
        "colab": {
          "base_uri": "https://localhost:8080/",
          "height": 238
        },
        "outputId": "ec073025-344b-48c3-cd02-1ce9bfff1380"
      },
      "source": [
        "######\n",
        "# Pandas\n",
        "######\n",
        "import numpy as np\n",
        "import pandas  as pd\n",
        "\n",
        "weather_data = {\n",
        "    'day': ['1/1/2017','1/2/2017','1/3/2017','1/4/2017','1/5/2017','1/6/2017'],\n",
        "    'temperature': [32,35,28,24,32,31],\n",
        "    'windspeed': [6,7,2,7,4,2],\n",
        "    'event': ['Rain', 'Sunny', 'Snow','Snow','Rain', 'Sunny']\n",
        "}\n",
        "df = pd.DataFrame(weather_data)\n",
        "df"
      ],
      "execution_count": null,
      "outputs": [
        {
          "output_type": "execute_result",
          "data": {
            "text/plain": [
              "        day  temperature  windspeed  event\n",
              "0  1/1/2017           32          6   Rain\n",
              "1  1/2/2017           35          7  Sunny\n",
              "2  1/3/2017           28          2   Snow\n",
              "3  1/4/2017           24          7   Snow\n",
              "4  1/5/2017           32          4   Rain\n",
              "5  1/6/2017           31          2  Sunny"
            ],
            "text/html": [
              "\n",
              "  <div id=\"df-2a5b02ff-7376-4572-9a8e-ecf33823be40\">\n",
              "    <div class=\"colab-df-container\">\n",
              "      <div>\n",
              "<style scoped>\n",
              "    .dataframe tbody tr th:only-of-type {\n",
              "        vertical-align: middle;\n",
              "    }\n",
              "\n",
              "    .dataframe tbody tr th {\n",
              "        vertical-align: top;\n",
              "    }\n",
              "\n",
              "    .dataframe thead th {\n",
              "        text-align: right;\n",
              "    }\n",
              "</style>\n",
              "<table border=\"1\" class=\"dataframe\">\n",
              "  <thead>\n",
              "    <tr style=\"text-align: right;\">\n",
              "      <th></th>\n",
              "      <th>day</th>\n",
              "      <th>temperature</th>\n",
              "      <th>windspeed</th>\n",
              "      <th>event</th>\n",
              "    </tr>\n",
              "  </thead>\n",
              "  <tbody>\n",
              "    <tr>\n",
              "      <th>0</th>\n",
              "      <td>1/1/2017</td>\n",
              "      <td>32</td>\n",
              "      <td>6</td>\n",
              "      <td>Rain</td>\n",
              "    </tr>\n",
              "    <tr>\n",
              "      <th>1</th>\n",
              "      <td>1/2/2017</td>\n",
              "      <td>35</td>\n",
              "      <td>7</td>\n",
              "      <td>Sunny</td>\n",
              "    </tr>\n",
              "    <tr>\n",
              "      <th>2</th>\n",
              "      <td>1/3/2017</td>\n",
              "      <td>28</td>\n",
              "      <td>2</td>\n",
              "      <td>Snow</td>\n",
              "    </tr>\n",
              "    <tr>\n",
              "      <th>3</th>\n",
              "      <td>1/4/2017</td>\n",
              "      <td>24</td>\n",
              "      <td>7</td>\n",
              "      <td>Snow</td>\n",
              "    </tr>\n",
              "    <tr>\n",
              "      <th>4</th>\n",
              "      <td>1/5/2017</td>\n",
              "      <td>32</td>\n",
              "      <td>4</td>\n",
              "      <td>Rain</td>\n",
              "    </tr>\n",
              "    <tr>\n",
              "      <th>5</th>\n",
              "      <td>1/6/2017</td>\n",
              "      <td>31</td>\n",
              "      <td>2</td>\n",
              "      <td>Sunny</td>\n",
              "    </tr>\n",
              "  </tbody>\n",
              "</table>\n",
              "</div>\n",
              "      <button class=\"colab-df-convert\" onclick=\"convertToInteractive('df-2a5b02ff-7376-4572-9a8e-ecf33823be40')\"\n",
              "              title=\"Convert this dataframe to an interactive table.\"\n",
              "              style=\"display:none;\">\n",
              "        \n",
              "  <svg xmlns=\"http://www.w3.org/2000/svg\" height=\"24px\"viewBox=\"0 0 24 24\"\n",
              "       width=\"24px\">\n",
              "    <path d=\"M0 0h24v24H0V0z\" fill=\"none\"/>\n",
              "    <path d=\"M18.56 5.44l.94 2.06.94-2.06 2.06-.94-2.06-.94-.94-2.06-.94 2.06-2.06.94zm-11 1L8.5 8.5l.94-2.06 2.06-.94-2.06-.94L8.5 2.5l-.94 2.06-2.06.94zm10 10l.94 2.06.94-2.06 2.06-.94-2.06-.94-.94-2.06-.94 2.06-2.06.94z\"/><path d=\"M17.41 7.96l-1.37-1.37c-.4-.4-.92-.59-1.43-.59-.52 0-1.04.2-1.43.59L10.3 9.45l-7.72 7.72c-.78.78-.78 2.05 0 2.83L4 21.41c.39.39.9.59 1.41.59.51 0 1.02-.2 1.41-.59l7.78-7.78 2.81-2.81c.8-.78.8-2.07 0-2.86zM5.41 20L4 18.59l7.72-7.72 1.47 1.35L5.41 20z\"/>\n",
              "  </svg>\n",
              "      </button>\n",
              "      \n",
              "  <style>\n",
              "    .colab-df-container {\n",
              "      display:flex;\n",
              "      flex-wrap:wrap;\n",
              "      gap: 12px;\n",
              "    }\n",
              "\n",
              "    .colab-df-convert {\n",
              "      background-color: #E8F0FE;\n",
              "      border: none;\n",
              "      border-radius: 50%;\n",
              "      cursor: pointer;\n",
              "      display: none;\n",
              "      fill: #1967D2;\n",
              "      height: 32px;\n",
              "      padding: 0 0 0 0;\n",
              "      width: 32px;\n",
              "    }\n",
              "\n",
              "    .colab-df-convert:hover {\n",
              "      background-color: #E2EBFA;\n",
              "      box-shadow: 0px 1px 2px rgba(60, 64, 67, 0.3), 0px 1px 3px 1px rgba(60, 64, 67, 0.15);\n",
              "      fill: #174EA6;\n",
              "    }\n",
              "\n",
              "    [theme=dark] .colab-df-convert {\n",
              "      background-color: #3B4455;\n",
              "      fill: #D2E3FC;\n",
              "    }\n",
              "\n",
              "    [theme=dark] .colab-df-convert:hover {\n",
              "      background-color: #434B5C;\n",
              "      box-shadow: 0px 1px 3px 1px rgba(0, 0, 0, 0.15);\n",
              "      filter: drop-shadow(0px 1px 2px rgba(0, 0, 0, 0.3));\n",
              "      fill: #FFFFFF;\n",
              "    }\n",
              "  </style>\n",
              "\n",
              "      <script>\n",
              "        const buttonEl =\n",
              "          document.querySelector('#df-2a5b02ff-7376-4572-9a8e-ecf33823be40 button.colab-df-convert');\n",
              "        buttonEl.style.display =\n",
              "          google.colab.kernel.accessAllowed ? 'block' : 'none';\n",
              "\n",
              "        async function convertToInteractive(key) {\n",
              "          const element = document.querySelector('#df-2a5b02ff-7376-4572-9a8e-ecf33823be40');\n",
              "          const dataTable =\n",
              "            await google.colab.kernel.invokeFunction('convertToInteractive',\n",
              "                                                     [key], {});\n",
              "          if (!dataTable) return;\n",
              "\n",
              "          const docLinkHtml = 'Like what you see? Visit the ' +\n",
              "            '<a target=\"_blank\" href=https://colab.research.google.com/notebooks/data_table.ipynb>data table notebook</a>'\n",
              "            + ' to learn more about interactive tables.';\n",
              "          element.innerHTML = '';\n",
              "          dataTable['output_type'] = 'display_data';\n",
              "          await google.colab.output.renderOutput(dataTable, element);\n",
              "          const docLink = document.createElement('div');\n",
              "          docLink.innerHTML = docLinkHtml;\n",
              "          element.appendChild(docLink);\n",
              "        }\n",
              "      </script>\n",
              "    </div>\n",
              "  </div>\n",
              "  "
            ]
          },
          "metadata": {},
          "execution_count": 1
        }
      ]
    },
    {
      "cell_type": "code",
      "metadata": {
        "id": "bbV1u8SJ5EsS",
        "colab": {
          "base_uri": "https://localhost:8080/"
        },
        "outputId": "6af6e48f-8312-4044-ef70-117f8ce70288"
      },
      "source": [
        "rows, cols = df.shape\n",
        "print(df.shape)\n",
        "print(rows)\n",
        "print(cols)\n",
        "print(df.columns) #print all the column names"
      ],
      "execution_count": null,
      "outputs": [
        {
          "output_type": "stream",
          "name": "stdout",
          "text": [
            "(6, 4)\n",
            "6\n",
            "4\n",
            "Index(['day', 'temperature', 'windspeed', 'event'], dtype='object')\n"
          ]
        }
      ]
    },
    {
      "cell_type": "code",
      "source": [
        "df.describe()"
      ],
      "metadata": {
        "colab": {
          "base_uri": "https://localhost:8080/",
          "height": 300
        },
        "id": "JhHSOD4x2sgH",
        "outputId": "aa908d20-9294-4343-80f2-fbeeb37acb8e"
      },
      "execution_count": null,
      "outputs": [
        {
          "output_type": "execute_result",
          "data": {
            "text/plain": [
              "       temperature  windspeed\n",
              "count     6.000000   6.000000\n",
              "mean     30.333333   4.666667\n",
              "std       3.829708   2.338090\n",
              "min      24.000000   2.000000\n",
              "25%      28.750000   2.500000\n",
              "50%      31.500000   5.000000\n",
              "75%      32.000000   6.750000\n",
              "max      35.000000   7.000000"
            ],
            "text/html": [
              "\n",
              "  <div id=\"df-51ca6eab-b374-407f-974c-c51d201a3be5\">\n",
              "    <div class=\"colab-df-container\">\n",
              "      <div>\n",
              "<style scoped>\n",
              "    .dataframe tbody tr th:only-of-type {\n",
              "        vertical-align: middle;\n",
              "    }\n",
              "\n",
              "    .dataframe tbody tr th {\n",
              "        vertical-align: top;\n",
              "    }\n",
              "\n",
              "    .dataframe thead th {\n",
              "        text-align: right;\n",
              "    }\n",
              "</style>\n",
              "<table border=\"1\" class=\"dataframe\">\n",
              "  <thead>\n",
              "    <tr style=\"text-align: right;\">\n",
              "      <th></th>\n",
              "      <th>temperature</th>\n",
              "      <th>windspeed</th>\n",
              "    </tr>\n",
              "  </thead>\n",
              "  <tbody>\n",
              "    <tr>\n",
              "      <th>count</th>\n",
              "      <td>6.000000</td>\n",
              "      <td>6.000000</td>\n",
              "    </tr>\n",
              "    <tr>\n",
              "      <th>mean</th>\n",
              "      <td>30.333333</td>\n",
              "      <td>4.666667</td>\n",
              "    </tr>\n",
              "    <tr>\n",
              "      <th>std</th>\n",
              "      <td>3.829708</td>\n",
              "      <td>2.338090</td>\n",
              "    </tr>\n",
              "    <tr>\n",
              "      <th>min</th>\n",
              "      <td>24.000000</td>\n",
              "      <td>2.000000</td>\n",
              "    </tr>\n",
              "    <tr>\n",
              "      <th>25%</th>\n",
              "      <td>28.750000</td>\n",
              "      <td>2.500000</td>\n",
              "    </tr>\n",
              "    <tr>\n",
              "      <th>50%</th>\n",
              "      <td>31.500000</td>\n",
              "      <td>5.000000</td>\n",
              "    </tr>\n",
              "    <tr>\n",
              "      <th>75%</th>\n",
              "      <td>32.000000</td>\n",
              "      <td>6.750000</td>\n",
              "    </tr>\n",
              "    <tr>\n",
              "      <th>max</th>\n",
              "      <td>35.000000</td>\n",
              "      <td>7.000000</td>\n",
              "    </tr>\n",
              "  </tbody>\n",
              "</table>\n",
              "</div>\n",
              "      <button class=\"colab-df-convert\" onclick=\"convertToInteractive('df-51ca6eab-b374-407f-974c-c51d201a3be5')\"\n",
              "              title=\"Convert this dataframe to an interactive table.\"\n",
              "              style=\"display:none;\">\n",
              "        \n",
              "  <svg xmlns=\"http://www.w3.org/2000/svg\" height=\"24px\"viewBox=\"0 0 24 24\"\n",
              "       width=\"24px\">\n",
              "    <path d=\"M0 0h24v24H0V0z\" fill=\"none\"/>\n",
              "    <path d=\"M18.56 5.44l.94 2.06.94-2.06 2.06-.94-2.06-.94-.94-2.06-.94 2.06-2.06.94zm-11 1L8.5 8.5l.94-2.06 2.06-.94-2.06-.94L8.5 2.5l-.94 2.06-2.06.94zm10 10l.94 2.06.94-2.06 2.06-.94-2.06-.94-.94-2.06-.94 2.06-2.06.94z\"/><path d=\"M17.41 7.96l-1.37-1.37c-.4-.4-.92-.59-1.43-.59-.52 0-1.04.2-1.43.59L10.3 9.45l-7.72 7.72c-.78.78-.78 2.05 0 2.83L4 21.41c.39.39.9.59 1.41.59.51 0 1.02-.2 1.41-.59l7.78-7.78 2.81-2.81c.8-.78.8-2.07 0-2.86zM5.41 20L4 18.59l7.72-7.72 1.47 1.35L5.41 20z\"/>\n",
              "  </svg>\n",
              "      </button>\n",
              "      \n",
              "  <style>\n",
              "    .colab-df-container {\n",
              "      display:flex;\n",
              "      flex-wrap:wrap;\n",
              "      gap: 12px;\n",
              "    }\n",
              "\n",
              "    .colab-df-convert {\n",
              "      background-color: #E8F0FE;\n",
              "      border: none;\n",
              "      border-radius: 50%;\n",
              "      cursor: pointer;\n",
              "      display: none;\n",
              "      fill: #1967D2;\n",
              "      height: 32px;\n",
              "      padding: 0 0 0 0;\n",
              "      width: 32px;\n",
              "    }\n",
              "\n",
              "    .colab-df-convert:hover {\n",
              "      background-color: #E2EBFA;\n",
              "      box-shadow: 0px 1px 2px rgba(60, 64, 67, 0.3), 0px 1px 3px 1px rgba(60, 64, 67, 0.15);\n",
              "      fill: #174EA6;\n",
              "    }\n",
              "\n",
              "    [theme=dark] .colab-df-convert {\n",
              "      background-color: #3B4455;\n",
              "      fill: #D2E3FC;\n",
              "    }\n",
              "\n",
              "    [theme=dark] .colab-df-convert:hover {\n",
              "      background-color: #434B5C;\n",
              "      box-shadow: 0px 1px 3px 1px rgba(0, 0, 0, 0.15);\n",
              "      filter: drop-shadow(0px 1px 2px rgba(0, 0, 0, 0.3));\n",
              "      fill: #FFFFFF;\n",
              "    }\n",
              "  </style>\n",
              "\n",
              "      <script>\n",
              "        const buttonEl =\n",
              "          document.querySelector('#df-51ca6eab-b374-407f-974c-c51d201a3be5 button.colab-df-convert');\n",
              "        buttonEl.style.display =\n",
              "          google.colab.kernel.accessAllowed ? 'block' : 'none';\n",
              "\n",
              "        async function convertToInteractive(key) {\n",
              "          const element = document.querySelector('#df-51ca6eab-b374-407f-974c-c51d201a3be5');\n",
              "          const dataTable =\n",
              "            await google.colab.kernel.invokeFunction('convertToInteractive',\n",
              "                                                     [key], {});\n",
              "          if (!dataTable) return;\n",
              "\n",
              "          const docLinkHtml = 'Like what you see? Visit the ' +\n",
              "            '<a target=\"_blank\" href=https://colab.research.google.com/notebooks/data_table.ipynb>data table notebook</a>'\n",
              "            + ' to learn more about interactive tables.';\n",
              "          element.innerHTML = '';\n",
              "          dataTable['output_type'] = 'display_data';\n",
              "          await google.colab.output.renderOutput(dataTable, element);\n",
              "          const docLink = document.createElement('div');\n",
              "          docLink.innerHTML = docLinkHtml;\n",
              "          element.appendChild(docLink);\n",
              "        }\n",
              "      </script>\n",
              "    </div>\n",
              "  </div>\n",
              "  "
            ]
          },
          "metadata": {},
          "execution_count": 11
        }
      ]
    },
    {
      "cell_type": "code",
      "source": [
        "df.head() #print first 5 rows"
      ],
      "metadata": {
        "colab": {
          "base_uri": "https://localhost:8080/",
          "height": 206
        },
        "id": "ouoRkfjTKZi3",
        "outputId": "0ead0dfb-37a2-4d87-be7f-5b7145a2de6f"
      },
      "execution_count": null,
      "outputs": [
        {
          "output_type": "execute_result",
          "data": {
            "text/plain": [
              "        day  temperature  windspeed  event\n",
              "0  1/1/2017           32          6   Rain\n",
              "1  1/2/2017           35          7  Sunny\n",
              "2  1/3/2017           28          2   Snow\n",
              "3  1/4/2017           24          7   Snow\n",
              "4  1/5/2017           32          4   Rain"
            ],
            "text/html": [
              "\n",
              "  <div id=\"df-b1bf3938-0d60-4e12-8b5c-ebbc0ab62435\">\n",
              "    <div class=\"colab-df-container\">\n",
              "      <div>\n",
              "<style scoped>\n",
              "    .dataframe tbody tr th:only-of-type {\n",
              "        vertical-align: middle;\n",
              "    }\n",
              "\n",
              "    .dataframe tbody tr th {\n",
              "        vertical-align: top;\n",
              "    }\n",
              "\n",
              "    .dataframe thead th {\n",
              "        text-align: right;\n",
              "    }\n",
              "</style>\n",
              "<table border=\"1\" class=\"dataframe\">\n",
              "  <thead>\n",
              "    <tr style=\"text-align: right;\">\n",
              "      <th></th>\n",
              "      <th>day</th>\n",
              "      <th>temperature</th>\n",
              "      <th>windspeed</th>\n",
              "      <th>event</th>\n",
              "    </tr>\n",
              "  </thead>\n",
              "  <tbody>\n",
              "    <tr>\n",
              "      <th>0</th>\n",
              "      <td>1/1/2017</td>\n",
              "      <td>32</td>\n",
              "      <td>6</td>\n",
              "      <td>Rain</td>\n",
              "    </tr>\n",
              "    <tr>\n",
              "      <th>1</th>\n",
              "      <td>1/2/2017</td>\n",
              "      <td>35</td>\n",
              "      <td>7</td>\n",
              "      <td>Sunny</td>\n",
              "    </tr>\n",
              "    <tr>\n",
              "      <th>2</th>\n",
              "      <td>1/3/2017</td>\n",
              "      <td>28</td>\n",
              "      <td>2</td>\n",
              "      <td>Snow</td>\n",
              "    </tr>\n",
              "    <tr>\n",
              "      <th>3</th>\n",
              "      <td>1/4/2017</td>\n",
              "      <td>24</td>\n",
              "      <td>7</td>\n",
              "      <td>Snow</td>\n",
              "    </tr>\n",
              "    <tr>\n",
              "      <th>4</th>\n",
              "      <td>1/5/2017</td>\n",
              "      <td>32</td>\n",
              "      <td>4</td>\n",
              "      <td>Rain</td>\n",
              "    </tr>\n",
              "  </tbody>\n",
              "</table>\n",
              "</div>\n",
              "      <button class=\"colab-df-convert\" onclick=\"convertToInteractive('df-b1bf3938-0d60-4e12-8b5c-ebbc0ab62435')\"\n",
              "              title=\"Convert this dataframe to an interactive table.\"\n",
              "              style=\"display:none;\">\n",
              "        \n",
              "  <svg xmlns=\"http://www.w3.org/2000/svg\" height=\"24px\"viewBox=\"0 0 24 24\"\n",
              "       width=\"24px\">\n",
              "    <path d=\"M0 0h24v24H0V0z\" fill=\"none\"/>\n",
              "    <path d=\"M18.56 5.44l.94 2.06.94-2.06 2.06-.94-2.06-.94-.94-2.06-.94 2.06-2.06.94zm-11 1L8.5 8.5l.94-2.06 2.06-.94-2.06-.94L8.5 2.5l-.94 2.06-2.06.94zm10 10l.94 2.06.94-2.06 2.06-.94-2.06-.94-.94-2.06-.94 2.06-2.06.94z\"/><path d=\"M17.41 7.96l-1.37-1.37c-.4-.4-.92-.59-1.43-.59-.52 0-1.04.2-1.43.59L10.3 9.45l-7.72 7.72c-.78.78-.78 2.05 0 2.83L4 21.41c.39.39.9.59 1.41.59.51 0 1.02-.2 1.41-.59l7.78-7.78 2.81-2.81c.8-.78.8-2.07 0-2.86zM5.41 20L4 18.59l7.72-7.72 1.47 1.35L5.41 20z\"/>\n",
              "  </svg>\n",
              "      </button>\n",
              "      \n",
              "  <style>\n",
              "    .colab-df-container {\n",
              "      display:flex;\n",
              "      flex-wrap:wrap;\n",
              "      gap: 12px;\n",
              "    }\n",
              "\n",
              "    .colab-df-convert {\n",
              "      background-color: #E8F0FE;\n",
              "      border: none;\n",
              "      border-radius: 50%;\n",
              "      cursor: pointer;\n",
              "      display: none;\n",
              "      fill: #1967D2;\n",
              "      height: 32px;\n",
              "      padding: 0 0 0 0;\n",
              "      width: 32px;\n",
              "    }\n",
              "\n",
              "    .colab-df-convert:hover {\n",
              "      background-color: #E2EBFA;\n",
              "      box-shadow: 0px 1px 2px rgba(60, 64, 67, 0.3), 0px 1px 3px 1px rgba(60, 64, 67, 0.15);\n",
              "      fill: #174EA6;\n",
              "    }\n",
              "\n",
              "    [theme=dark] .colab-df-convert {\n",
              "      background-color: #3B4455;\n",
              "      fill: #D2E3FC;\n",
              "    }\n",
              "\n",
              "    [theme=dark] .colab-df-convert:hover {\n",
              "      background-color: #434B5C;\n",
              "      box-shadow: 0px 1px 3px 1px rgba(0, 0, 0, 0.15);\n",
              "      filter: drop-shadow(0px 1px 2px rgba(0, 0, 0, 0.3));\n",
              "      fill: #FFFFFF;\n",
              "    }\n",
              "  </style>\n",
              "\n",
              "      <script>\n",
              "        const buttonEl =\n",
              "          document.querySelector('#df-b1bf3938-0d60-4e12-8b5c-ebbc0ab62435 button.colab-df-convert');\n",
              "        buttonEl.style.display =\n",
              "          google.colab.kernel.accessAllowed ? 'block' : 'none';\n",
              "\n",
              "        async function convertToInteractive(key) {\n",
              "          const element = document.querySelector('#df-b1bf3938-0d60-4e12-8b5c-ebbc0ab62435');\n",
              "          const dataTable =\n",
              "            await google.colab.kernel.invokeFunction('convertToInteractive',\n",
              "                                                     [key], {});\n",
              "          if (!dataTable) return;\n",
              "\n",
              "          const docLinkHtml = 'Like what you see? Visit the ' +\n",
              "            '<a target=\"_blank\" href=https://colab.research.google.com/notebooks/data_table.ipynb>data table notebook</a>'\n",
              "            + ' to learn more about interactive tables.';\n",
              "          element.innerHTML = '';\n",
              "          dataTable['output_type'] = 'display_data';\n",
              "          await google.colab.output.renderOutput(dataTable, element);\n",
              "          const docLink = document.createElement('div');\n",
              "          docLink.innerHTML = docLinkHtml;\n",
              "          element.appendChild(docLink);\n",
              "        }\n",
              "      </script>\n",
              "    </div>\n",
              "  </div>\n",
              "  "
            ]
          },
          "metadata": {},
          "execution_count": 4
        }
      ]
    },
    {
      "cell_type": "code",
      "source": [
        "df.tail() #print last 5 rows"
      ],
      "metadata": {
        "colab": {
          "base_uri": "https://localhost:8080/",
          "height": 206
        },
        "id": "kMw-7CH5KkTU",
        "outputId": "5f6c7674-1900-4bc0-9b9f-b7d12cbb7564"
      },
      "execution_count": null,
      "outputs": [
        {
          "output_type": "execute_result",
          "data": {
            "text/plain": [
              "        day  temperature  windspeed  event\n",
              "1  1/2/2017           35          7  Sunny\n",
              "2  1/3/2017           28          2   Snow\n",
              "3  1/4/2017           24          7   Snow\n",
              "4  1/5/2017           32          4   Rain\n",
              "5  1/6/2017           31          2  Sunny"
            ],
            "text/html": [
              "\n",
              "  <div id=\"df-665bef5b-8087-4ee0-99f2-4e4938c7cde2\">\n",
              "    <div class=\"colab-df-container\">\n",
              "      <div>\n",
              "<style scoped>\n",
              "    .dataframe tbody tr th:only-of-type {\n",
              "        vertical-align: middle;\n",
              "    }\n",
              "\n",
              "    .dataframe tbody tr th {\n",
              "        vertical-align: top;\n",
              "    }\n",
              "\n",
              "    .dataframe thead th {\n",
              "        text-align: right;\n",
              "    }\n",
              "</style>\n",
              "<table border=\"1\" class=\"dataframe\">\n",
              "  <thead>\n",
              "    <tr style=\"text-align: right;\">\n",
              "      <th></th>\n",
              "      <th>day</th>\n",
              "      <th>temperature</th>\n",
              "      <th>windspeed</th>\n",
              "      <th>event</th>\n",
              "    </tr>\n",
              "  </thead>\n",
              "  <tbody>\n",
              "    <tr>\n",
              "      <th>1</th>\n",
              "      <td>1/2/2017</td>\n",
              "      <td>35</td>\n",
              "      <td>7</td>\n",
              "      <td>Sunny</td>\n",
              "    </tr>\n",
              "    <tr>\n",
              "      <th>2</th>\n",
              "      <td>1/3/2017</td>\n",
              "      <td>28</td>\n",
              "      <td>2</td>\n",
              "      <td>Snow</td>\n",
              "    </tr>\n",
              "    <tr>\n",
              "      <th>3</th>\n",
              "      <td>1/4/2017</td>\n",
              "      <td>24</td>\n",
              "      <td>7</td>\n",
              "      <td>Snow</td>\n",
              "    </tr>\n",
              "    <tr>\n",
              "      <th>4</th>\n",
              "      <td>1/5/2017</td>\n",
              "      <td>32</td>\n",
              "      <td>4</td>\n",
              "      <td>Rain</td>\n",
              "    </tr>\n",
              "    <tr>\n",
              "      <th>5</th>\n",
              "      <td>1/6/2017</td>\n",
              "      <td>31</td>\n",
              "      <td>2</td>\n",
              "      <td>Sunny</td>\n",
              "    </tr>\n",
              "  </tbody>\n",
              "</table>\n",
              "</div>\n",
              "      <button class=\"colab-df-convert\" onclick=\"convertToInteractive('df-665bef5b-8087-4ee0-99f2-4e4938c7cde2')\"\n",
              "              title=\"Convert this dataframe to an interactive table.\"\n",
              "              style=\"display:none;\">\n",
              "        \n",
              "  <svg xmlns=\"http://www.w3.org/2000/svg\" height=\"24px\"viewBox=\"0 0 24 24\"\n",
              "       width=\"24px\">\n",
              "    <path d=\"M0 0h24v24H0V0z\" fill=\"none\"/>\n",
              "    <path d=\"M18.56 5.44l.94 2.06.94-2.06 2.06-.94-2.06-.94-.94-2.06-.94 2.06-2.06.94zm-11 1L8.5 8.5l.94-2.06 2.06-.94-2.06-.94L8.5 2.5l-.94 2.06-2.06.94zm10 10l.94 2.06.94-2.06 2.06-.94-2.06-.94-.94-2.06-.94 2.06-2.06.94z\"/><path d=\"M17.41 7.96l-1.37-1.37c-.4-.4-.92-.59-1.43-.59-.52 0-1.04.2-1.43.59L10.3 9.45l-7.72 7.72c-.78.78-.78 2.05 0 2.83L4 21.41c.39.39.9.59 1.41.59.51 0 1.02-.2 1.41-.59l7.78-7.78 2.81-2.81c.8-.78.8-2.07 0-2.86zM5.41 20L4 18.59l7.72-7.72 1.47 1.35L5.41 20z\"/>\n",
              "  </svg>\n",
              "      </button>\n",
              "      \n",
              "  <style>\n",
              "    .colab-df-container {\n",
              "      display:flex;\n",
              "      flex-wrap:wrap;\n",
              "      gap: 12px;\n",
              "    }\n",
              "\n",
              "    .colab-df-convert {\n",
              "      background-color: #E8F0FE;\n",
              "      border: none;\n",
              "      border-radius: 50%;\n",
              "      cursor: pointer;\n",
              "      display: none;\n",
              "      fill: #1967D2;\n",
              "      height: 32px;\n",
              "      padding: 0 0 0 0;\n",
              "      width: 32px;\n",
              "    }\n",
              "\n",
              "    .colab-df-convert:hover {\n",
              "      background-color: #E2EBFA;\n",
              "      box-shadow: 0px 1px 2px rgba(60, 64, 67, 0.3), 0px 1px 3px 1px rgba(60, 64, 67, 0.15);\n",
              "      fill: #174EA6;\n",
              "    }\n",
              "\n",
              "    [theme=dark] .colab-df-convert {\n",
              "      background-color: #3B4455;\n",
              "      fill: #D2E3FC;\n",
              "    }\n",
              "\n",
              "    [theme=dark] .colab-df-convert:hover {\n",
              "      background-color: #434B5C;\n",
              "      box-shadow: 0px 1px 3px 1px rgba(0, 0, 0, 0.15);\n",
              "      filter: drop-shadow(0px 1px 2px rgba(0, 0, 0, 0.3));\n",
              "      fill: #FFFFFF;\n",
              "    }\n",
              "  </style>\n",
              "\n",
              "      <script>\n",
              "        const buttonEl =\n",
              "          document.querySelector('#df-665bef5b-8087-4ee0-99f2-4e4938c7cde2 button.colab-df-convert');\n",
              "        buttonEl.style.display =\n",
              "          google.colab.kernel.accessAllowed ? 'block' : 'none';\n",
              "\n",
              "        async function convertToInteractive(key) {\n",
              "          const element = document.querySelector('#df-665bef5b-8087-4ee0-99f2-4e4938c7cde2');\n",
              "          const dataTable =\n",
              "            await google.colab.kernel.invokeFunction('convertToInteractive',\n",
              "                                                     [key], {});\n",
              "          if (!dataTable) return;\n",
              "\n",
              "          const docLinkHtml = 'Like what you see? Visit the ' +\n",
              "            '<a target=\"_blank\" href=https://colab.research.google.com/notebooks/data_table.ipynb>data table notebook</a>'\n",
              "            + ' to learn more about interactive tables.';\n",
              "          element.innerHTML = '';\n",
              "          dataTable['output_type'] = 'display_data';\n",
              "          await google.colab.output.renderOutput(dataTable, element);\n",
              "          const docLink = document.createElement('div');\n",
              "          docLink.innerHTML = docLinkHtml;\n",
              "          element.appendChild(docLink);\n",
              "        }\n",
              "      </script>\n",
              "    </div>\n",
              "  </div>\n",
              "  "
            ]
          },
          "metadata": {},
          "execution_count": 5
        }
      ]
    },
    {
      "cell_type": "code",
      "source": [
        "df[2:]"
      ],
      "metadata": {
        "colab": {
          "base_uri": "https://localhost:8080/",
          "height": 175
        },
        "id": "I9iQi_ufKtvn",
        "outputId": "6958841c-5cec-4141-ccc4-33f3082d6c6e"
      },
      "execution_count": null,
      "outputs": [
        {
          "output_type": "execute_result",
          "data": {
            "text/plain": [
              "        day  temperature  windspeed  event\n",
              "2  1/3/2017           28          2   Snow\n",
              "3  1/4/2017           24          7   Snow\n",
              "4  1/5/2017           32          4   Rain\n",
              "5  1/6/2017           31          2  Sunny"
            ],
            "text/html": [
              "\n",
              "  <div id=\"df-8005d2c8-ff09-4cf5-8b2e-8a8ba9d4d673\">\n",
              "    <div class=\"colab-df-container\">\n",
              "      <div>\n",
              "<style scoped>\n",
              "    .dataframe tbody tr th:only-of-type {\n",
              "        vertical-align: middle;\n",
              "    }\n",
              "\n",
              "    .dataframe tbody tr th {\n",
              "        vertical-align: top;\n",
              "    }\n",
              "\n",
              "    .dataframe thead th {\n",
              "        text-align: right;\n",
              "    }\n",
              "</style>\n",
              "<table border=\"1\" class=\"dataframe\">\n",
              "  <thead>\n",
              "    <tr style=\"text-align: right;\">\n",
              "      <th></th>\n",
              "      <th>day</th>\n",
              "      <th>temperature</th>\n",
              "      <th>windspeed</th>\n",
              "      <th>event</th>\n",
              "    </tr>\n",
              "  </thead>\n",
              "  <tbody>\n",
              "    <tr>\n",
              "      <th>2</th>\n",
              "      <td>1/3/2017</td>\n",
              "      <td>28</td>\n",
              "      <td>2</td>\n",
              "      <td>Snow</td>\n",
              "    </tr>\n",
              "    <tr>\n",
              "      <th>3</th>\n",
              "      <td>1/4/2017</td>\n",
              "      <td>24</td>\n",
              "      <td>7</td>\n",
              "      <td>Snow</td>\n",
              "    </tr>\n",
              "    <tr>\n",
              "      <th>4</th>\n",
              "      <td>1/5/2017</td>\n",
              "      <td>32</td>\n",
              "      <td>4</td>\n",
              "      <td>Rain</td>\n",
              "    </tr>\n",
              "    <tr>\n",
              "      <th>5</th>\n",
              "      <td>1/6/2017</td>\n",
              "      <td>31</td>\n",
              "      <td>2</td>\n",
              "      <td>Sunny</td>\n",
              "    </tr>\n",
              "  </tbody>\n",
              "</table>\n",
              "</div>\n",
              "      <button class=\"colab-df-convert\" onclick=\"convertToInteractive('df-8005d2c8-ff09-4cf5-8b2e-8a8ba9d4d673')\"\n",
              "              title=\"Convert this dataframe to an interactive table.\"\n",
              "              style=\"display:none;\">\n",
              "        \n",
              "  <svg xmlns=\"http://www.w3.org/2000/svg\" height=\"24px\"viewBox=\"0 0 24 24\"\n",
              "       width=\"24px\">\n",
              "    <path d=\"M0 0h24v24H0V0z\" fill=\"none\"/>\n",
              "    <path d=\"M18.56 5.44l.94 2.06.94-2.06 2.06-.94-2.06-.94-.94-2.06-.94 2.06-2.06.94zm-11 1L8.5 8.5l.94-2.06 2.06-.94-2.06-.94L8.5 2.5l-.94 2.06-2.06.94zm10 10l.94 2.06.94-2.06 2.06-.94-2.06-.94-.94-2.06-.94 2.06-2.06.94z\"/><path d=\"M17.41 7.96l-1.37-1.37c-.4-.4-.92-.59-1.43-.59-.52 0-1.04.2-1.43.59L10.3 9.45l-7.72 7.72c-.78.78-.78 2.05 0 2.83L4 21.41c.39.39.9.59 1.41.59.51 0 1.02-.2 1.41-.59l7.78-7.78 2.81-2.81c.8-.78.8-2.07 0-2.86zM5.41 20L4 18.59l7.72-7.72 1.47 1.35L5.41 20z\"/>\n",
              "  </svg>\n",
              "      </button>\n",
              "      \n",
              "  <style>\n",
              "    .colab-df-container {\n",
              "      display:flex;\n",
              "      flex-wrap:wrap;\n",
              "      gap: 12px;\n",
              "    }\n",
              "\n",
              "    .colab-df-convert {\n",
              "      background-color: #E8F0FE;\n",
              "      border: none;\n",
              "      border-radius: 50%;\n",
              "      cursor: pointer;\n",
              "      display: none;\n",
              "      fill: #1967D2;\n",
              "      height: 32px;\n",
              "      padding: 0 0 0 0;\n",
              "      width: 32px;\n",
              "    }\n",
              "\n",
              "    .colab-df-convert:hover {\n",
              "      background-color: #E2EBFA;\n",
              "      box-shadow: 0px 1px 2px rgba(60, 64, 67, 0.3), 0px 1px 3px 1px rgba(60, 64, 67, 0.15);\n",
              "      fill: #174EA6;\n",
              "    }\n",
              "\n",
              "    [theme=dark] .colab-df-convert {\n",
              "      background-color: #3B4455;\n",
              "      fill: #D2E3FC;\n",
              "    }\n",
              "\n",
              "    [theme=dark] .colab-df-convert:hover {\n",
              "      background-color: #434B5C;\n",
              "      box-shadow: 0px 1px 3px 1px rgba(0, 0, 0, 0.15);\n",
              "      filter: drop-shadow(0px 1px 2px rgba(0, 0, 0, 0.3));\n",
              "      fill: #FFFFFF;\n",
              "    }\n",
              "  </style>\n",
              "\n",
              "      <script>\n",
              "        const buttonEl =\n",
              "          document.querySelector('#df-8005d2c8-ff09-4cf5-8b2e-8a8ba9d4d673 button.colab-df-convert');\n",
              "        buttonEl.style.display =\n",
              "          google.colab.kernel.accessAllowed ? 'block' : 'none';\n",
              "\n",
              "        async function convertToInteractive(key) {\n",
              "          const element = document.querySelector('#df-8005d2c8-ff09-4cf5-8b2e-8a8ba9d4d673');\n",
              "          const dataTable =\n",
              "            await google.colab.kernel.invokeFunction('convertToInteractive',\n",
              "                                                     [key], {});\n",
              "          if (!dataTable) return;\n",
              "\n",
              "          const docLinkHtml = 'Like what you see? Visit the ' +\n",
              "            '<a target=\"_blank\" href=https://colab.research.google.com/notebooks/data_table.ipynb>data table notebook</a>'\n",
              "            + ' to learn more about interactive tables.';\n",
              "          element.innerHTML = '';\n",
              "          dataTable['output_type'] = 'display_data';\n",
              "          await google.colab.output.renderOutput(dataTable, element);\n",
              "          const docLink = document.createElement('div');\n",
              "          docLink.innerHTML = docLinkHtml;\n",
              "          element.appendChild(docLink);\n",
              "        }\n",
              "      </script>\n",
              "    </div>\n",
              "  </div>\n",
              "  "
            ]
          },
          "metadata": {},
          "execution_count": 6
        }
      ]
    },
    {
      "cell_type": "code",
      "source": [
        "type(df['day'])"
      ],
      "metadata": {
        "colab": {
          "base_uri": "https://localhost:8080/"
        },
        "id": "ANSMwyAL1x4C",
        "outputId": "deba09d7-128c-4a0b-f945-a684a6debd9a"
      },
      "execution_count": null,
      "outputs": [
        {
          "output_type": "execute_result",
          "data": {
            "text/plain": [
              "pandas.core.series.Series"
            ]
          },
          "metadata": {},
          "execution_count": 7
        }
      ]
    },
    {
      "cell_type": "code",
      "source": [
        "df[['day','temperature']]"
      ],
      "metadata": {
        "colab": {
          "base_uri": "https://localhost:8080/",
          "height": 238
        },
        "id": "myHZABjA1x6b",
        "outputId": "c0200a2e-5323-412e-eec5-a54adbb4c10c"
      },
      "execution_count": null,
      "outputs": [
        {
          "output_type": "execute_result",
          "data": {
            "text/plain": [
              "        day  temperature\n",
              "0  1/1/2017           32\n",
              "1  1/2/2017           35\n",
              "2  1/3/2017           28\n",
              "3  1/4/2017           24\n",
              "4  1/5/2017           32\n",
              "5  1/6/2017           31"
            ],
            "text/html": [
              "\n",
              "  <div id=\"df-43041dc2-412e-4216-b48e-3826ba9bbe4c\">\n",
              "    <div class=\"colab-df-container\">\n",
              "      <div>\n",
              "<style scoped>\n",
              "    .dataframe tbody tr th:only-of-type {\n",
              "        vertical-align: middle;\n",
              "    }\n",
              "\n",
              "    .dataframe tbody tr th {\n",
              "        vertical-align: top;\n",
              "    }\n",
              "\n",
              "    .dataframe thead th {\n",
              "        text-align: right;\n",
              "    }\n",
              "</style>\n",
              "<table border=\"1\" class=\"dataframe\">\n",
              "  <thead>\n",
              "    <tr style=\"text-align: right;\">\n",
              "      <th></th>\n",
              "      <th>day</th>\n",
              "      <th>temperature</th>\n",
              "    </tr>\n",
              "  </thead>\n",
              "  <tbody>\n",
              "    <tr>\n",
              "      <th>0</th>\n",
              "      <td>1/1/2017</td>\n",
              "      <td>32</td>\n",
              "    </tr>\n",
              "    <tr>\n",
              "      <th>1</th>\n",
              "      <td>1/2/2017</td>\n",
              "      <td>35</td>\n",
              "    </tr>\n",
              "    <tr>\n",
              "      <th>2</th>\n",
              "      <td>1/3/2017</td>\n",
              "      <td>28</td>\n",
              "    </tr>\n",
              "    <tr>\n",
              "      <th>3</th>\n",
              "      <td>1/4/2017</td>\n",
              "      <td>24</td>\n",
              "    </tr>\n",
              "    <tr>\n",
              "      <th>4</th>\n",
              "      <td>1/5/2017</td>\n",
              "      <td>32</td>\n",
              "    </tr>\n",
              "    <tr>\n",
              "      <th>5</th>\n",
              "      <td>1/6/2017</td>\n",
              "      <td>31</td>\n",
              "    </tr>\n",
              "  </tbody>\n",
              "</table>\n",
              "</div>\n",
              "      <button class=\"colab-df-convert\" onclick=\"convertToInteractive('df-43041dc2-412e-4216-b48e-3826ba9bbe4c')\"\n",
              "              title=\"Convert this dataframe to an interactive table.\"\n",
              "              style=\"display:none;\">\n",
              "        \n",
              "  <svg xmlns=\"http://www.w3.org/2000/svg\" height=\"24px\"viewBox=\"0 0 24 24\"\n",
              "       width=\"24px\">\n",
              "    <path d=\"M0 0h24v24H0V0z\" fill=\"none\"/>\n",
              "    <path d=\"M18.56 5.44l.94 2.06.94-2.06 2.06-.94-2.06-.94-.94-2.06-.94 2.06-2.06.94zm-11 1L8.5 8.5l.94-2.06 2.06-.94-2.06-.94L8.5 2.5l-.94 2.06-2.06.94zm10 10l.94 2.06.94-2.06 2.06-.94-2.06-.94-.94-2.06-.94 2.06-2.06.94z\"/><path d=\"M17.41 7.96l-1.37-1.37c-.4-.4-.92-.59-1.43-.59-.52 0-1.04.2-1.43.59L10.3 9.45l-7.72 7.72c-.78.78-.78 2.05 0 2.83L4 21.41c.39.39.9.59 1.41.59.51 0 1.02-.2 1.41-.59l7.78-7.78 2.81-2.81c.8-.78.8-2.07 0-2.86zM5.41 20L4 18.59l7.72-7.72 1.47 1.35L5.41 20z\"/>\n",
              "  </svg>\n",
              "      </button>\n",
              "      \n",
              "  <style>\n",
              "    .colab-df-container {\n",
              "      display:flex;\n",
              "      flex-wrap:wrap;\n",
              "      gap: 12px;\n",
              "    }\n",
              "\n",
              "    .colab-df-convert {\n",
              "      background-color: #E8F0FE;\n",
              "      border: none;\n",
              "      border-radius: 50%;\n",
              "      cursor: pointer;\n",
              "      display: none;\n",
              "      fill: #1967D2;\n",
              "      height: 32px;\n",
              "      padding: 0 0 0 0;\n",
              "      width: 32px;\n",
              "    }\n",
              "\n",
              "    .colab-df-convert:hover {\n",
              "      background-color: #E2EBFA;\n",
              "      box-shadow: 0px 1px 2px rgba(60, 64, 67, 0.3), 0px 1px 3px 1px rgba(60, 64, 67, 0.15);\n",
              "      fill: #174EA6;\n",
              "    }\n",
              "\n",
              "    [theme=dark] .colab-df-convert {\n",
              "      background-color: #3B4455;\n",
              "      fill: #D2E3FC;\n",
              "    }\n",
              "\n",
              "    [theme=dark] .colab-df-convert:hover {\n",
              "      background-color: #434B5C;\n",
              "      box-shadow: 0px 1px 3px 1px rgba(0, 0, 0, 0.15);\n",
              "      filter: drop-shadow(0px 1px 2px rgba(0, 0, 0, 0.3));\n",
              "      fill: #FFFFFF;\n",
              "    }\n",
              "  </style>\n",
              "\n",
              "      <script>\n",
              "        const buttonEl =\n",
              "          document.querySelector('#df-43041dc2-412e-4216-b48e-3826ba9bbe4c button.colab-df-convert');\n",
              "        buttonEl.style.display =\n",
              "          google.colab.kernel.accessAllowed ? 'block' : 'none';\n",
              "\n",
              "        async function convertToInteractive(key) {\n",
              "          const element = document.querySelector('#df-43041dc2-412e-4216-b48e-3826ba9bbe4c');\n",
              "          const dataTable =\n",
              "            await google.colab.kernel.invokeFunction('convertToInteractive',\n",
              "                                                     [key], {});\n",
              "          if (!dataTable) return;\n",
              "\n",
              "          const docLinkHtml = 'Like what you see? Visit the ' +\n",
              "            '<a target=\"_blank\" href=https://colab.research.google.com/notebooks/data_table.ipynb>data table notebook</a>'\n",
              "            + ' to learn more about interactive tables.';\n",
              "          element.innerHTML = '';\n",
              "          dataTable['output_type'] = 'display_data';\n",
              "          await google.colab.output.renderOutput(dataTable, element);\n",
              "          const docLink = document.createElement('div');\n",
              "          docLink.innerHTML = docLinkHtml;\n",
              "          element.appendChild(docLink);\n",
              "        }\n",
              "      </script>\n",
              "    </div>\n",
              "  </div>\n",
              "  "
            ]
          },
          "metadata": {},
          "execution_count": 8
        }
      ]
    },
    {
      "cell_type": "code",
      "source": [
        "# Operations On DataFrame\n",
        "df['temperature'].max()"
      ],
      "metadata": {
        "colab": {
          "base_uri": "https://localhost:8080/"
        },
        "id": "_O8AiqCU1x8m",
        "outputId": "6e3a2f16-7547-4f8a-f792-213990822121"
      },
      "execution_count": null,
      "outputs": [
        {
          "output_type": "execute_result",
          "data": {
            "text/plain": [
              "35"
            ]
          },
          "metadata": {},
          "execution_count": 9
        }
      ]
    },
    {
      "cell_type": "code",
      "source": [
        "df[df['temperature']>32] # Filter\n",
        "df['day'][df['temperature'] == df['temperature'].max()] # print Max Temprature day\n",
        "df[df['temperature'] == df['temperature'].max()] # print all info where temprature is max\n"
      ],
      "metadata": {
        "colab": {
          "base_uri": "https://localhost:8080/",
          "height": 81
        },
        "id": "iS85WgJT1x_a",
        "outputId": "86c1dd2c-2fb1-4a4f-f4ed-2ac6a0b69c54"
      },
      "execution_count": null,
      "outputs": [
        {
          "output_type": "execute_result",
          "data": {
            "text/plain": [
              "        day  temperature  windspeed  event\n",
              "1  1/2/2017           35          7  Sunny"
            ],
            "text/html": [
              "\n",
              "  <div id=\"df-6d6c1e99-2b1f-44e9-b647-7cd68642b722\">\n",
              "    <div class=\"colab-df-container\">\n",
              "      <div>\n",
              "<style scoped>\n",
              "    .dataframe tbody tr th:only-of-type {\n",
              "        vertical-align: middle;\n",
              "    }\n",
              "\n",
              "    .dataframe tbody tr th {\n",
              "        vertical-align: top;\n",
              "    }\n",
              "\n",
              "    .dataframe thead th {\n",
              "        text-align: right;\n",
              "    }\n",
              "</style>\n",
              "<table border=\"1\" class=\"dataframe\">\n",
              "  <thead>\n",
              "    <tr style=\"text-align: right;\">\n",
              "      <th></th>\n",
              "      <th>day</th>\n",
              "      <th>temperature</th>\n",
              "      <th>windspeed</th>\n",
              "      <th>event</th>\n",
              "    </tr>\n",
              "  </thead>\n",
              "  <tbody>\n",
              "    <tr>\n",
              "      <th>1</th>\n",
              "      <td>1/2/2017</td>\n",
              "      <td>35</td>\n",
              "      <td>7</td>\n",
              "      <td>Sunny</td>\n",
              "    </tr>\n",
              "  </tbody>\n",
              "</table>\n",
              "</div>\n",
              "      <button class=\"colab-df-convert\" onclick=\"convertToInteractive('df-6d6c1e99-2b1f-44e9-b647-7cd68642b722')\"\n",
              "              title=\"Convert this dataframe to an interactive table.\"\n",
              "              style=\"display:none;\">\n",
              "        \n",
              "  <svg xmlns=\"http://www.w3.org/2000/svg\" height=\"24px\"viewBox=\"0 0 24 24\"\n",
              "       width=\"24px\">\n",
              "    <path d=\"M0 0h24v24H0V0z\" fill=\"none\"/>\n",
              "    <path d=\"M18.56 5.44l.94 2.06.94-2.06 2.06-.94-2.06-.94-.94-2.06-.94 2.06-2.06.94zm-11 1L8.5 8.5l.94-2.06 2.06-.94-2.06-.94L8.5 2.5l-.94 2.06-2.06.94zm10 10l.94 2.06.94-2.06 2.06-.94-2.06-.94-.94-2.06-.94 2.06-2.06.94z\"/><path d=\"M17.41 7.96l-1.37-1.37c-.4-.4-.92-.59-1.43-.59-.52 0-1.04.2-1.43.59L10.3 9.45l-7.72 7.72c-.78.78-.78 2.05 0 2.83L4 21.41c.39.39.9.59 1.41.59.51 0 1.02-.2 1.41-.59l7.78-7.78 2.81-2.81c.8-.78.8-2.07 0-2.86zM5.41 20L4 18.59l7.72-7.72 1.47 1.35L5.41 20z\"/>\n",
              "  </svg>\n",
              "      </button>\n",
              "      \n",
              "  <style>\n",
              "    .colab-df-container {\n",
              "      display:flex;\n",
              "      flex-wrap:wrap;\n",
              "      gap: 12px;\n",
              "    }\n",
              "\n",
              "    .colab-df-convert {\n",
              "      background-color: #E8F0FE;\n",
              "      border: none;\n",
              "      border-radius: 50%;\n",
              "      cursor: pointer;\n",
              "      display: none;\n",
              "      fill: #1967D2;\n",
              "      height: 32px;\n",
              "      padding: 0 0 0 0;\n",
              "      width: 32px;\n",
              "    }\n",
              "\n",
              "    .colab-df-convert:hover {\n",
              "      background-color: #E2EBFA;\n",
              "      box-shadow: 0px 1px 2px rgba(60, 64, 67, 0.3), 0px 1px 3px 1px rgba(60, 64, 67, 0.15);\n",
              "      fill: #174EA6;\n",
              "    }\n",
              "\n",
              "    [theme=dark] .colab-df-convert {\n",
              "      background-color: #3B4455;\n",
              "      fill: #D2E3FC;\n",
              "    }\n",
              "\n",
              "    [theme=dark] .colab-df-convert:hover {\n",
              "      background-color: #434B5C;\n",
              "      box-shadow: 0px 1px 3px 1px rgba(0, 0, 0, 0.15);\n",
              "      filter: drop-shadow(0px 1px 2px rgba(0, 0, 0, 0.3));\n",
              "      fill: #FFFFFF;\n",
              "    }\n",
              "  </style>\n",
              "\n",
              "      <script>\n",
              "        const buttonEl =\n",
              "          document.querySelector('#df-6d6c1e99-2b1f-44e9-b647-7cd68642b722 button.colab-df-convert');\n",
              "        buttonEl.style.display =\n",
              "          google.colab.kernel.accessAllowed ? 'block' : 'none';\n",
              "\n",
              "        async function convertToInteractive(key) {\n",
              "          const element = document.querySelector('#df-6d6c1e99-2b1f-44e9-b647-7cd68642b722');\n",
              "          const dataTable =\n",
              "            await google.colab.kernel.invokeFunction('convertToInteractive',\n",
              "                                                     [key], {});\n",
              "          if (!dataTable) return;\n",
              "\n",
              "          const docLinkHtml = 'Like what you see? Visit the ' +\n",
              "            '<a target=\"_blank\" href=https://colab.research.google.com/notebooks/data_table.ipynb>data table notebook</a>'\n",
              "            + ' to learn more about interactive tables.';\n",
              "          element.innerHTML = '';\n",
              "          dataTable['output_type'] = 'display_data';\n",
              "          await google.colab.output.renderOutput(dataTable, element);\n",
              "          const docLink = document.createElement('div');\n",
              "          docLink.innerHTML = docLinkHtml;\n",
              "          element.appendChild(docLink);\n",
              "        }\n",
              "      </script>\n",
              "    </div>\n",
              "  </div>\n",
              "  "
            ]
          },
          "metadata": {},
          "execution_count": 10
        }
      ]
    },
    {
      "cell_type": "markdown",
      "source": [
        "loc[row:col] is used to select rows and columns by Names/Labels\n",
        "\n",
        "iloc[row:col] is used to select rows and columns by Integer Index/Position. zero based index position.\n",
        "\n",
        "![image.png](data:image/png;base64,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)"
      ],
      "metadata": {
        "id": "HPnNsO1j5NJi"
      }
    },
    {
      "cell_type": "code",
      "source": [
        "## Handling Missing Data - fillna, interpolate, dropna\n",
        "new_df = df.fillna(0)\n",
        "\n",
        "# Fill na using column names and dict\n",
        "new_df = df.fillna({\n",
        "        'temperature': 0,\n",
        "        'windspeed': 0,\n",
        "        'event': 'No Event'\n",
        "    })\n",
        "new_df\n",
        "#Use method to determine how to fill na values\n",
        "new_df = df.fillna(method=\"ffill\")\n",
        "new_df = df.fillna(method=\"bfill\")\n",
        "new_df = df.fillna(method=\"bfill\", axis=\"columns\") # axis is either \"index\" or \"columns\"\n",
        "new_df = df.dropna()"
      ],
      "metadata": {
        "id": "sAHqL6ie1yBk"
      },
      "execution_count": null,
      "outputs": []
    },
    {
      "cell_type": "code",
      "source": [
        "### Handling Missing Data - replace method\n",
        "new_df = df.replace(-99999, value=np.NaN) #Replacing single value\n",
        "new_df = df.replace(to_replace=[-99999,-88888], value=0) #Replacing list with single value\n",
        "#Replacing per column\n",
        "new_df = df.replace({\n",
        "        'temperature': -99999,\n",
        "        'windspeed': -99999,\n",
        "        'event': '0'\n",
        "    }, np.nan)\n",
        "#Replacing by using mapping\n",
        "new_df = df.replace({\n",
        "        -99999: np.nan,\n",
        "        'no event': 'Sunny',\n",
        "    })\n",
        "# replace list with another list\n",
        "df.replace(['poor', 'average', 'good', 'exceptional'], [1,2,3,4])"
      ],
      "metadata": {
        "id": "fXGHXUeg1yFz"
      },
      "execution_count": null,
      "outputs": []
    },
    {
      "cell_type": "code",
      "metadata": {
        "id": "cBXPmpHGldtN",
        "colab": {
          "base_uri": "https://localhost:8080/",
          "height": 1000
        },
        "outputId": "a34660b9-87e9-4da4-c2b3-ab3bc676963c"
      },
      "source": [
        "### Group By\n",
        "g = df.groupby(\"event\")\n",
        "for city, data in g:\n",
        "    print(\"city:\",city)\n",
        "    print(\"\\n\")\n",
        "    print(\"data:\",data)\n",
        "\n",
        "#get one specific group\n",
        "print(g.get_group('Sunny'))\n",
        "\n",
        "print(g.max()) #get max from each group\n",
        "print(g.min()) #get min from each group\n",
        "print(g.mean()) #get mean from each group\n",
        "print(g.describe()) #get 5 number summary\n",
        "print(g.plot())"
      ],
      "execution_count": null,
      "outputs": [
        {
          "output_type": "stream",
          "name": "stdout",
          "text": [
            "city: Rain\n",
            "\n",
            "\n",
            "data:         day  temperature  windspeed event\n",
            "0  1/1/2017           32          6  Rain\n",
            "4  1/5/2017           32          4  Rain\n",
            "city: Snow\n",
            "\n",
            "\n",
            "data:         day  temperature  windspeed event\n",
            "2  1/3/2017           28          2  Snow\n",
            "3  1/4/2017           24          7  Snow\n",
            "city: Sunny\n",
            "\n",
            "\n",
            "data:         day  temperature  windspeed  event\n",
            "1  1/2/2017           35          7  Sunny\n",
            "5  1/6/2017           31          2  Sunny\n",
            "        day  temperature  windspeed  event\n",
            "1  1/2/2017           35          7  Sunny\n",
            "5  1/6/2017           31          2  Sunny\n",
            "            day  temperature  windspeed\n",
            "event                                  \n",
            "Rain   1/5/2017           32          6\n",
            "Snow   1/4/2017           28          7\n",
            "Sunny  1/6/2017           35          7\n",
            "            day  temperature  windspeed\n",
            "event                                  \n",
            "Rain   1/1/2017           32          4\n",
            "Snow   1/3/2017           24          2\n",
            "Sunny  1/2/2017           31          2\n",
            "       temperature  windspeed\n",
            "event                        \n",
            "Rain          32.0        5.0\n",
            "Snow          26.0        4.5\n",
            "Sunny         33.0        4.5\n",
            "      temperature                                               windspeed  \\\n",
            "            count  mean       std   min   25%   50%   75%   max     count   \n",
            "event                                                                       \n",
            "Rain          2.0  32.0  0.000000  32.0  32.0  32.0  32.0  32.0       2.0   \n",
            "Snow          2.0  26.0  2.828427  24.0  25.0  26.0  27.0  28.0       2.0   \n",
            "Sunny         2.0  33.0  2.828427  31.0  32.0  33.0  34.0  35.0       2.0   \n",
            "\n",
            "                                                 \n",
            "      mean       std  min   25%  50%   75%  max  \n",
            "event                                            \n",
            "Rain   5.0  1.414214  4.0  4.50  5.0  5.50  6.0  \n",
            "Snow   4.5  3.535534  2.0  3.25  4.5  5.75  7.0  \n",
            "Sunny  4.5  3.535534  2.0  3.25  4.5  5.75  7.0  \n"
          ]
        },
        {
          "output_type": "stream",
          "name": "stderr",
          "text": [
            "<ipython-input-9-ada1d0d3b483>:13: FutureWarning: The default value of numeric_only in DataFrameGroupBy.mean is deprecated. In a future version, numeric_only will default to False. Either specify numeric_only or select only columns which should be valid for the function.\n",
            "  print(g.mean()) #get mean from each group\n"
          ]
        },
        {
          "output_type": "stream",
          "name": "stdout",
          "text": [
            "event\n",
            "Rain     Axes(0.125,0.11;0.775x0.77)\n",
            "Snow     Axes(0.125,0.11;0.775x0.77)\n",
            "Sunny    Axes(0.125,0.11;0.775x0.77)\n",
            "dtype: object\n"
          ]
        },
        {
          "output_type": "display_data",
          "data": {
            "text/plain": [
              "<Figure size 640x480 with 1 Axes>"
            ],
            "image/png": "[encoded data removed]"
          },
          "metadata": {}
        },
        {
          "output_type": "display_data",
          "data": {
            "text/plain": [
              "<Figure size 640x480 with 1 Axes>"
            ],
            "image/png": "[encoded data removed]"
          },
          "metadata": {}
        },
        {
          "output_type": "display_data",
          "data": {
            "text/plain": [
              "<Figure size 640x480 with 1 Axes>"
            ],
            "image/png": "[encoded data removed]"
          },
          "metadata": {}
        }
      ]
    },
    {
      "cell_type": "code",
      "source": [
        "#Pandas Concatenate\n",
        "import pandas as pd\n",
        "\n",
        "india_weather = pd.DataFrame({\n",
        "    \"city\": [\"mumbai\",\"delhi\",\"banglore\"],\n",
        "    \"temperature\": [32,45,30],\n",
        "    \"humidity\": [80, 60, 78]\n",
        "})\n",
        "print(india_weather)\n",
        "us_weather = pd.DataFrame({\n",
        "    \"city\": [\"new york\",\"chicago\",\"orlando\"],\n",
        "    \"temperature\": [21,14,35],\n",
        "    \"humidity\": [68, 65, 75]\n",
        "})\n",
        "print(us_weather)\n",
        "\n",
        "\n",
        "df = pd.concat([india_weather, us_weather], ignore_index=True)\n",
        "print(df)\n"
      ],
      "metadata": {
        "colab": {
          "base_uri": "https://localhost:8080/"
        },
        "id": "Ihv30rIKY559",
        "outputId": "b7ae899c-ebc5-4668-86cc-291d3de39514"
      },
      "execution_count": null,
      "outputs": [
        {
          "output_type": "stream",
          "name": "stdout",
          "text": [
            "       city  temperature  humidity\n",
            "0    mumbai           32        80\n",
            "1     delhi           45        60\n",
            "2  banglore           30        78\n",
            "       city  temperature  humidity\n",
            "0  new york           21        68\n",
            "1   chicago           14        65\n",
            "2   orlando           35        75\n",
            "       city  temperature  humidity\n",
            "0    mumbai           32        80\n",
            "1     delhi           45        60\n",
            "2  banglore           30        78\n",
            "3  new york           21        68\n",
            "4   chicago           14        65\n",
            "5   orlando           35        75\n"
          ]
        }
      ]
    },
    {
      "cell_type": "code",
      "source": [
        "# Merge (SQL JOIN)\n",
        "import pandas as pd\n",
        "df1 = pd.DataFrame({\n",
        "    \"city\": [\"new york\",\"chicago\",\"orlando\"],\n",
        "    \"temperature\": [21,14,35],\n",
        "})\n",
        "print(\"df1: \\n\",df1)\n",
        "df2 = pd.DataFrame({\n",
        "    \"city\": [\"chicago\",\"new york\",\"orlando\"],\n",
        "    \"humidity\": [65,68,75],\n",
        "})\n",
        "print(\"df2: \\n\",df2)\n",
        "\n",
        "#Inner Join\n",
        "df3 = pd.merge(df1, df2, on=\"city\")\n",
        "print(\"df3 - Inner Join: \\n\",df3)\n",
        "\n",
        "#Inner Join\n",
        "df4=pd.merge(df1,df2,on=\"city\",how=\"inner\")\n",
        "print(\"df4: Inner Join \\n\",df4)\n",
        "\n",
        "#Outer Join\n",
        "df5 = pd.merge(df1,df2,on=\"city\",how=\"outer\")\n",
        "print(\"df5: Outer Join \\n\",df5)\n",
        "\n",
        "#Left Join\n",
        "df6 = pd.merge(df1,df2,on=\"city\",how=\"left\")\n",
        "print(\"df6: Left Join \\n\",df5)\n",
        "\n",
        "#Right Join\n",
        "df7 = pd.merge(df1,df2,on=\"city\",how=\"right\")\n",
        "print(\"df7: Right Join \\n\",df5)\n"
      ],
      "metadata": {
        "colab": {
          "base_uri": "https://localhost:8080/"
        },
        "id": "EQA1Eu0ZZorN",
        "outputId": "1775b01d-b581-4f40-935f-330b4c41da27"
      },
      "execution_count": null,
      "outputs": [
        {
          "output_type": "stream",
          "name": "stdout",
          "text": [
            "df1: \n",
            "        city  temperature\n",
            "0  new york           21\n",
            "1   chicago           14\n",
            "2   orlando           35\n",
            "df2: \n",
            "        city  humidity\n",
            "0   chicago        65\n",
            "1  new york        68\n",
            "2   orlando        75\n",
            "df3 - Inner Join: \n",
            "        city  temperature  humidity\n",
            "0  new york           21        68\n",
            "1   chicago           14        65\n",
            "2   orlando           35        75\n",
            "df4: Inner Join \n",
            "        city  temperature  humidity\n",
            "0  new york           21        68\n",
            "1   chicago           14        65\n",
            "2   orlando           35        75\n",
            "df5: Outer Join \n",
            "        city  temperature  humidity\n",
            "0  new york           21        68\n",
            "1   chicago           14        65\n",
            "2   orlando           35        75\n",
            "df6: Left Join \n",
            "        city  temperature  humidity\n",
            "0  new york           21        68\n",
            "1   chicago           14        65\n",
            "2   orlando           35        75\n",
            "df7: Right Join \n",
            "        city  temperature  humidity\n",
            "0  new york           21        68\n",
            "1   chicago           14        65\n",
            "2   orlando           35        75\n"
          ]
        }
      ]
    },
    {
      "cell_type": "code",
      "source": [
        "#Pivot and Pivot Table\n",
        "df =  pd.DataFrame({\n",
        "    'day': ['1/1/2017','1/2/2017','1/3/2017','1/4/2017','1/5/2017','1/6/2017'],\n",
        "    'temperature': [32,35,28,24,32,31],\n",
        "    'windspeed': [6,7,2,7,4,2],\n",
        "    'event': ['Rain', 'Sunny', 'Snow','Snow','Rain', 'Sunny']\n",
        "})\n",
        "print(df)\n",
        "print(df.pivot(index='event',columns='day'))\n",
        "print(df.pivot(index='event',columns='day',values=\"temperature\"))\n",
        "print(df.pivot(index='day',columns='event'))\n",
        "\n",
        "#Pivot Table\n",
        "print(df.pivot_table(index=\"event\",columns=\"day\"))\n",
        "df.pivot_table(index=\"event\",columns=\"day\", margins=True,aggfunc=np.mean)\n",
        "\n"
      ],
      "metadata": {
        "colab": {
          "base_uri": "https://localhost:8080/",
          "height": 1000
        },
        "id": "WLFfBK0pmYEg",
        "outputId": "df47744c-e4c7-489d-ec9f-f7954b046b6d"
      },
      "execution_count": null,
      "outputs": [
        {
          "output_type": "stream",
          "name": "stdout",
          "text": [
            "        day  temperature  windspeed  event\n",
            "0  1/1/2017           32          6   Rain\n",
            "1  1/2/2017           35          7  Sunny\n",
            "2  1/3/2017           28          2   Snow\n",
            "3  1/4/2017           24          7   Snow\n",
            "4  1/5/2017           32          4   Rain\n",
            "5  1/6/2017           31          2  Sunny\n",
            "      temperature                                              windspeed  \\\n",
            "day      1/1/2017 1/2/2017 1/3/2017 1/4/2017 1/5/2017 1/6/2017  1/1/2017   \n",
            "event                                                                      \n",
            "Rain         32.0      NaN      NaN      NaN     32.0      NaN       6.0   \n",
            "Snow          NaN      NaN     28.0     24.0      NaN      NaN       NaN   \n",
            "Sunny         NaN     35.0      NaN      NaN      NaN     31.0       NaN   \n",
            "\n",
            "                                                    \n",
            "day   1/2/2017 1/3/2017 1/4/2017 1/5/2017 1/6/2017  \n",
            "event                                               \n",
            "Rain       NaN      NaN      NaN      4.0      NaN  \n",
            "Snow       NaN      2.0      7.0      NaN      NaN  \n",
            "Sunny      7.0      NaN      NaN      NaN      2.0  \n",
            "day    1/1/2017  1/2/2017  1/3/2017  1/4/2017  1/5/2017  1/6/2017\n",
            "event                                                            \n",
            "Rain       32.0       NaN       NaN       NaN      32.0       NaN\n",
            "Snow        NaN       NaN      28.0      24.0       NaN       NaN\n",
            "Sunny       NaN      35.0       NaN       NaN       NaN      31.0\n",
            "         temperature             windspeed           \n",
            "event           Rain  Snow Sunny      Rain Snow Sunny\n",
            "day                                                  \n",
            "1/1/2017        32.0   NaN   NaN       6.0  NaN   NaN\n",
            "1/2/2017         NaN   NaN  35.0       NaN  NaN   7.0\n",
            "1/3/2017         NaN  28.0   NaN       NaN  2.0   NaN\n",
            "1/4/2017         NaN  24.0   NaN       NaN  7.0   NaN\n",
            "1/5/2017        32.0   NaN   NaN       4.0  NaN   NaN\n",
            "1/6/2017         NaN   NaN  31.0       NaN  NaN   2.0\n",
            "      temperature                                              windspeed  \\\n",
            "day      1/1/2017 1/2/2017 1/3/2017 1/4/2017 1/5/2017 1/6/2017  1/1/2017   \n",
            "event                                                                      \n",
            "Rain         32.0      NaN      NaN      NaN     32.0      NaN       6.0   \n",
            "Snow          NaN      NaN     28.0     24.0      NaN      NaN       NaN   \n",
            "Sunny         NaN     35.0      NaN      NaN      NaN     31.0       NaN   \n",
            "\n",
            "                                                    \n",
            "day   1/2/2017 1/3/2017 1/4/2017 1/5/2017 1/6/2017  \n",
            "event                                               \n",
            "Rain       NaN      NaN      NaN      4.0      NaN  \n",
            "Snow       NaN      2.0      7.0      NaN      NaN  \n",
            "Sunny      7.0      NaN      NaN      NaN      2.0  \n"
          ]
        },
        {
          "output_type": "execute_result",
          "data": {
            "text/plain": [
              "      temperature                                                          \\\n",
              "day      1/1/2017 1/2/2017 1/3/2017 1/4/2017 1/5/2017 1/6/2017        All   \n",
              "event                                                                       \n",
              "Rain         32.0      NaN      NaN      NaN     32.0      NaN  32.000000   \n",
              "Snow          NaN      NaN     28.0     24.0      NaN      NaN  26.000000   \n",
              "Sunny         NaN     35.0      NaN      NaN      NaN     31.0  33.000000   \n",
              "All          32.0     35.0     28.0     24.0     32.0     31.0  30.333333   \n",
              "\n",
              "      windspeed                                                         \n",
              "day    1/1/2017 1/2/2017 1/3/2017 1/4/2017 1/5/2017 1/6/2017       All  \n",
              "event                                                                   \n",
              "Rain        6.0      NaN      NaN      NaN      4.0      NaN  5.000000  \n",
              "Snow        NaN      NaN      2.0      7.0      NaN      NaN  4.500000  \n",
              "Sunny       NaN      7.0      NaN      NaN      NaN      2.0  4.500000  \n",
              "All         6.0      7.0      2.0      7.0      4.0      2.0  4.666667  "
            ],
            "text/html": [
              "\n",
              "  <div id=\"df-1419ced9-545e-4199-9f67-f0aa25ee2962\">\n",
              "    <div class=\"colab-df-container\">\n",
              "      <div>\n",
              "<style scoped>\n",
              "    .dataframe tbody tr th:only-of-type {\n",
              "        vertical-align: middle;\n",
              "    }\n",
              "\n",
              "    .dataframe tbody tr th {\n",
              "        vertical-align: top;\n",
              "    }\n",
              "\n",
              "    .dataframe thead tr th {\n",
              "        text-align: left;\n",
              "    }\n",
              "\n",
              "    .dataframe thead tr:last-of-type th {\n",
              "        text-align: right;\n",
              "    }\n",
              "</style>\n",
              "<table border=\"1\" class=\"dataframe\">\n",
              "  <thead>\n",
              "    <tr>\n",
              "      <th></th>\n",
              "      <th colspan=\"7\" halign=\"left\">temperature</th>\n",
              "      <th colspan=\"7\" halign=\"left\">windspeed</th>\n",
              "    </tr>\n",
              "    <tr>\n",
              "      <th>day</th>\n",
              "      <th>1/1/2017</th>\n",
              "      <th>1/2/2017</th>\n",
              "      <th>1/3/2017</th>\n",
              "      <th>1/4/2017</th>\n",
              "      <th>1/5/2017</th>\n",
              "      <th>1/6/2017</th>\n",
              "      <th>All</th>\n",
              "      <th>1/1/2017</th>\n",
              "      <th>1/2/2017</th>\n",
              "      <th>1/3/2017</th>\n",
              "      <th>1/4/2017</th>\n",
              "      <th>1/5/2017</th>\n",
              "      <th>1/6/2017</th>\n",
              "      <th>All</th>\n",
              "    </tr>\n",
              "    <tr>\n",
              "      <th>event</th>\n",
              "      <th></th>\n",
              "      <th></th>\n",
              "      <th></th>\n",
              "      <th></th>\n",
              "      <th></th>\n",
              "      <th></th>\n",
              "      <th></th>\n",
              "      <th></th>\n",
              "      <th></th>\n",
              "      <th></th>\n",
              "      <th></th>\n",
              "      <th></th>\n",
              "      <th></th>\n",
              "      <th></th>\n",
              "    </tr>\n",
              "  </thead>\n",
              "  <tbody>\n",
              "    <tr>\n",
              "      <th>Rain</th>\n",
              "      <td>32.0</td>\n",
              "      <td>NaN</td>\n",
              "      <td>NaN</td>\n",
              "      <td>NaN</td>\n",
              "      <td>32.0</td>\n",
              "      <td>NaN</td>\n",
              "      <td>32.000000</td>\n",
              "      <td>6.0</td>\n",
              "      <td>NaN</td>\n",
              "      <td>NaN</td>\n",
              "      <td>NaN</td>\n",
              "      <td>4.0</td>\n",
              "      <td>NaN</td>\n",
              "      <td>5.000000</td>\n",
              "    </tr>\n",
              "    <tr>\n",
              "      <th>Snow</th>\n",
              "      <td>NaN</td>\n",
              "      <td>NaN</td>\n",
              "      <td>28.0</td>\n",
              "      <td>24.0</td>\n",
              "      <td>NaN</td>\n",
              "      <td>NaN</td>\n",
              "      <td>26.000000</td>\n",
              "      <td>NaN</td>\n",
              "      <td>NaN</td>\n",
              "      <td>2.0</td>\n",
              "      <td>7.0</td>\n",
              "      <td>NaN</td>\n",
              "      <td>NaN</td>\n",
              "      <td>4.500000</td>\n",
              "    </tr>\n",
              "    <tr>\n",
              "      <th>Sunny</th>\n",
              "      <td>NaN</td>\n",
              "      <td>35.0</td>\n",
              "      <td>NaN</td>\n",
              "      <td>NaN</td>\n",
              "      <td>NaN</td>\n",
              "      <td>31.0</td>\n",
              "      <td>33.000000</td>\n",
              "      <td>NaN</td>\n",
              "      <td>7.0</td>\n",
              "      <td>NaN</td>\n",
              "      <td>NaN</td>\n",
              "      <td>NaN</td>\n",
              "      <td>2.0</td>\n",
              "      <td>4.500000</td>\n",
              "    </tr>\n",
              "    <tr>\n",
              "      <th>All</th>\n",
              "      <td>32.0</td>\n",
              "      <td>35.0</td>\n",
              "      <td>28.0</td>\n",
              "      <td>24.0</td>\n",
              "      <td>32.0</td>\n",
              "      <td>31.0</td>\n",
              "      <td>30.333333</td>\n",
              "      <td>6.0</td>\n",
              "      <td>7.0</td>\n",
              "      <td>2.0</td>\n",
              "      <td>7.0</td>\n",
              "      <td>4.0</td>\n",
              "      <td>2.0</td>\n",
              "      <td>4.666667</td>\n",
              "    </tr>\n",
              "  </tbody>\n",
              "</table>\n",
              "</div>\n",
              "      <button class=\"colab-df-convert\" onclick=\"convertToInteractive('df-1419ced9-545e-4199-9f67-f0aa25ee2962')\"\n",
              "              title=\"Convert this dataframe to an interactive table.\"\n",
              "              style=\"display:none;\">\n",
              "        \n",
              "  <svg xmlns=\"http://www.w3.org/2000/svg\" height=\"24px\"viewBox=\"0 0 24 24\"\n",
              "       width=\"24px\">\n",
              "    <path d=\"M0 0h24v24H0V0z\" fill=\"none\"/>\n",
              "    <path d=\"M18.56 5.44l.94 2.06.94-2.06 2.06-.94-2.06-.94-.94-2.06-.94 2.06-2.06.94zm-11 1L8.5 8.5l.94-2.06 2.06-.94-2.06-.94L8.5 2.5l-.94 2.06-2.06.94zm10 10l.94 2.06.94-2.06 2.06-.94-2.06-.94-.94-2.06-.94 2.06-2.06.94z\"/><path d=\"M17.41 7.96l-1.37-1.37c-.4-.4-.92-.59-1.43-.59-.52 0-1.04.2-1.43.59L10.3 9.45l-7.72 7.72c-.78.78-.78 2.05 0 2.83L4 21.41c.39.39.9.59 1.41.59.51 0 1.02-.2 1.41-.59l7.78-7.78 2.81-2.81c.8-.78.8-2.07 0-2.86zM5.41 20L4 18.59l7.72-7.72 1.47 1.35L5.41 20z\"/>\n",
              "  </svg>\n",
              "      </button>\n",
              "      \n",
              "  <style>\n",
              "    .colab-df-container {\n",
              "      display:flex;\n",
              "      flex-wrap:wrap;\n",
              "      gap: 12px;\n",
              "    }\n",
              "\n",
              "    .colab-df-convert {\n",
              "      background-color: #E8F0FE;\n",
              "      border: none;\n",
              "      border-radius: 50%;\n",
              "      cursor: pointer;\n",
              "      display: none;\n",
              "      fill: #1967D2;\n",
              "      height: 32px;\n",
              "      padding: 0 0 0 0;\n",
              "      width: 32px;\n",
              "    }\n",
              "\n",
              "    .colab-df-convert:hover {\n",
              "      background-color: #E2EBFA;\n",
              "      box-shadow: 0px 1px 2px rgba(60, 64, 67, 0.3), 0px 1px 3px 1px rgba(60, 64, 67, 0.15);\n",
              "      fill: #174EA6;\n",
              "    }\n",
              "\n",
              "    [theme=dark] .colab-df-convert {\n",
              "      background-color: #3B4455;\n",
              "      fill: #D2E3FC;\n",
              "    }\n",
              "\n",
              "    [theme=dark] .colab-df-convert:hover {\n",
              "      background-color: #434B5C;\n",
              "      box-shadow: 0px 1px 3px 1px rgba(0, 0, 0, 0.15);\n",
              "      filter: drop-shadow(0px 1px 2px rgba(0, 0, 0, 0.3));\n",
              "      fill: #FFFFFF;\n",
              "    }\n",
              "  </style>\n",
              "\n",
              "      <script>\n",
              "        const buttonEl =\n",
              "          document.querySelector('#df-1419ced9-545e-4199-9f67-f0aa25ee2962 button.colab-df-convert');\n",
              "        buttonEl.style.display =\n",
              "          google.colab.kernel.accessAllowed ? 'block' : 'none';\n",
              "\n",
              "        async function convertToInteractive(key) {\n",
              "          const element = document.querySelector('#df-1419ced9-545e-4199-9f67-f0aa25ee2962');\n",
              "          const dataTable =\n",
              "            await google.colab.kernel.invokeFunction('convertToInteractive',\n",
              "                                                     [key], {});\n",
              "          if (!dataTable) return;\n",
              "\n",
              "          const docLinkHtml = 'Like what you see? Visit the ' +\n",
              "            '<a target=\"_blank\" href=https://colab.research.google.com/notebooks/data_table.ipynb>data table notebook</a>'\n",
              "            + ' to learn more about interactive tables.';\n",
              "          element.innerHTML = '';\n",
              "          dataTable['output_type'] = 'display_data';\n",
              "          await google.colab.output.renderOutput(dataTable, element);\n",
              "          const docLink = document.createElement('div');\n",
              "          docLink.innerHTML = docLinkHtml;\n",
              "          element.appendChild(docLink);\n",
              "        }\n",
              "      </script>\n",
              "    </div>\n",
              "  </div>\n",
              "  "
            ]
          },
          "metadata": {},
          "execution_count": 31
        }
      ]
    },
    {
      "cell_type": "code",
      "source": [
        "#Pandas Memory Management\n",
        "https://pythonspeed.com/articles/pandas-load-less-data/"
      ],
      "metadata": {
        "id": "H1iQa6WUvH0v"
      },
      "execution_count": null,
      "outputs": []
    },
    {
      "cell_type": "code",
      "metadata": {
        "id": "BJBKz6I3lfhE",
        "colab": {
          "base_uri": "https://localhost:8080/"
        },
        "outputId": "abed7365-8bf9-4ae6-a075-31fefa478ca3"
      },
      "source": [
        "### Dataframe - it is a collection of Series object\n",
        "import numpy as np\n",
        "import pandas as pd\n",
        "from numpy.random import randn\n",
        "\n",
        "np.random.seed(101)\n",
        "df = pd.DataFrame(randn(5,4),['A','B','C','D','E'],['W','X','Y','Z'])\n",
        "print(df)\n",
        "print(df['W'])\n",
        "print(type(df))\n",
        "print(type(df['W']))\n",
        "df['new'] = df['X']+df['Z'] #add new column\n",
        "print(df)\n",
        "print(df.drop('new',axis=1)) #remove column or row (axis = 1 means column and axis=0 means row by default it will be 0), inplace = True means permanent delete by default it will be False so main df will not be affected\n",
        "print(df)\n",
        "print(df.drop('new',axis=1,inplace=True))\n",
        "print(df)\n",
        "print(df.drop('E',axis=0)) #axix = 0 is optional it is 0 bydefault\n",
        "print(df)\n",
        "\n",
        "print(df[['W','Z']]) #print column\n",
        "#now how to print rows\n",
        "print(df.loc['C']) #using index lablel name\n",
        "print(df.iloc[2]) #index based location\n",
        "print(df.loc['B','Y']) #print cell value\n",
        "print(df.loc[['A','B'],['W','Z']]) #subset"
      ],
      "execution_count": null,
      "outputs": [
        {
          "output_type": "stream",
          "text": [
            "          W         X         Y         Z\n",
            "A  2.706850  0.628133  0.907969  0.503826\n",
            "B  0.651118 -0.319318 -0.848077  0.605965\n",
            "C -2.018168  0.740122  0.528813 -0.589001\n",
            "D  0.188695 -0.758872 -0.933237  0.955057\n",
            "E  0.190794  1.978757  2.605967  0.683509\n",
            "A    2.706850\n",
            "B    0.651118\n",
            "C   -2.018168\n",
            "D    0.188695\n",
            "E    0.190794\n",
            "Name: W, dtype: float64\n",
            "<class 'pandas.core.frame.DataFrame'>\n",
            "<class 'pandas.core.series.Series'>\n",
            "          W         X         Y         Z       new\n",
            "A  2.706850  0.628133  0.907969  0.503826  1.131958\n",
            "B  0.651118 -0.319318 -0.848077  0.605965  0.286647\n",
            "C -2.018168  0.740122  0.528813 -0.589001  0.151122\n",
            "D  0.188695 -0.758872 -0.933237  0.955057  0.196184\n",
            "E  0.190794  1.978757  2.605967  0.683509  2.662266\n",
            "          W         X         Y         Z\n",
            "A  2.706850  0.628133  0.907969  0.503826\n",
            "B  0.651118 -0.319318 -0.848077  0.605965\n",
            "C -2.018168  0.740122  0.528813 -0.589001\n",
            "D  0.188695 -0.758872 -0.933237  0.955057\n",
            "E  0.190794  1.978757  2.605967  0.683509\n",
            "          W         X         Y         Z       new\n",
            "A  2.706850  0.628133  0.907969  0.503826  1.131958\n",
            "B  0.651118 -0.319318 -0.848077  0.605965  0.286647\n",
            "C -2.018168  0.740122  0.528813 -0.589001  0.151122\n",
            "D  0.188695 -0.758872 -0.933237  0.955057  0.196184\n",
            "E  0.190794  1.978757  2.605967  0.683509  2.662266\n",
            "None\n",
            "          W         X         Y         Z\n",
            "A  2.706850  0.628133  0.907969  0.503826\n",
            "B  0.651118 -0.319318 -0.848077  0.605965\n",
            "C -2.018168  0.740122  0.528813 -0.589001\n",
            "D  0.188695 -0.758872 -0.933237  0.955057\n",
            "E  0.190794  1.978757  2.605967  0.683509\n",
            "          W         X         Y         Z\n",
            "A  2.706850  0.628133  0.907969  0.503826\n",
            "B  0.651118 -0.319318 -0.848077  0.605965\n",
            "C -2.018168  0.740122  0.528813 -0.589001\n",
            "D  0.188695 -0.758872 -0.933237  0.955057\n",
            "          W         X         Y         Z\n",
            "A  2.706850  0.628133  0.907969  0.503826\n",
            "B  0.651118 -0.319318 -0.848077  0.605965\n",
            "C -2.018168  0.740122  0.528813 -0.589001\n",
            "D  0.188695 -0.758872 -0.933237  0.955057\n",
            "E  0.190794  1.978757  2.605967  0.683509\n",
            "          W         Z\n",
            "A  2.706850  0.503826\n",
            "B  0.651118  0.605965\n",
            "C -2.018168 -0.589001\n",
            "D  0.188695  0.955057\n",
            "E  0.190794  0.683509\n",
            "W   -2.018168\n",
            "X    0.740122\n",
            "Y    0.528813\n",
            "Z   -0.589001\n",
            "Name: C, dtype: float64\n",
            "W   -2.018168\n",
            "X    0.740122\n",
            "Y    0.528813\n",
            "Z   -0.589001\n",
            "Name: C, dtype: float64\n",
            "-0.8480769834036315\n",
            "          W         Z\n",
            "A  2.706850  0.503826\n",
            "B  0.651118  0.605965\n"
          ],
          "name": "stdout"
        }
      ]
    },
    {
      "cell_type": "code",
      "metadata": {
        "id": "14pZEMdilhve",
        "colab": {
          "base_uri": "https://localhost:8080/",
          "height": 204
        },
        "outputId": "88190609-a872-40ef-c807-df39a0654c53"
      },
      "source": [
        "df"
      ],
      "execution_count": null,
      "outputs": [
        {
          "output_type": "execute_result",
          "data": {
            "text/html": [
              "<div>\n",
              "<style scoped>\n",
              "    .dataframe tbody tr th:only-of-type {\n",
              "        vertical-align: middle;\n",
              "    }\n",
              "\n",
              "    .dataframe tbody tr th {\n",
              "        vertical-align: top;\n",
              "    }\n",
              "\n",
              "    .dataframe thead th {\n",
              "        text-align: right;\n",
              "    }\n",
              "</style>\n",
              "<table border=\"1\" class=\"dataframe\">\n",
              "  <thead>\n",
              "    <tr style=\"text-align: right;\">\n",
              "      <th></th>\n",
              "      <th>W</th>\n",
              "      <th>X</th>\n",
              "      <th>Y</th>\n",
              "      <th>Z</th>\n",
              "    </tr>\n",
              "  </thead>\n",
              "  <tbody>\n",
              "    <tr>\n",
              "      <th>A</th>\n",
              "      <td>2.706850</td>\n",
              "      <td>0.628133</td>\n",
              "      <td>0.907969</td>\n",
              "      <td>0.503826</td>\n",
              "    </tr>\n",
              "    <tr>\n",
              "      <th>B</th>\n",
              "      <td>0.651118</td>\n",
              "      <td>-0.319318</td>\n",
              "      <td>-0.848077</td>\n",
              "      <td>0.605965</td>\n",
              "    </tr>\n",
              "    <tr>\n",
              "      <th>C</th>\n",
              "      <td>-2.018168</td>\n",
              "      <td>0.740122</td>\n",
              "      <td>0.528813</td>\n",
              "      <td>-0.589001</td>\n",
              "    </tr>\n",
              "    <tr>\n",
              "      <th>D</th>\n",
              "      <td>0.188695</td>\n",
              "      <td>-0.758872</td>\n",
              "      <td>-0.933237</td>\n",
              "      <td>0.955057</td>\n",
              "    </tr>\n",
              "    <tr>\n",
              "      <th>E</th>\n",
              "      <td>0.190794</td>\n",
              "      <td>1.978757</td>\n",
              "      <td>2.605967</td>\n",
              "      <td>0.683509</td>\n",
              "    </tr>\n",
              "  </tbody>\n",
              "</table>\n",
              "</div>"
            ],
            "text/plain": [
              "          W         X         Y         Z\n",
              "A  2.706850  0.628133  0.907969  0.503826\n",
              "B  0.651118 -0.319318 -0.848077  0.605965\n",
              "C -2.018168  0.740122  0.528813 -0.589001\n",
              "D  0.188695 -0.758872 -0.933237  0.955057\n",
              "E  0.190794  1.978757  2.605967  0.683509"
            ]
          },
          "metadata": {},
          "execution_count": 12
        }
      ]
    },
    {
      "cell_type": "code",
      "metadata": {
        "colab": {
          "base_uri": "https://localhost:8080/"
        },
        "id": "xDDyzH5I0mva",
        "outputId": "f4864047-9269-4da8-fc79-4a28f702523c"
      },
      "source": [
        "!pip install pandasql"
      ],
      "execution_count": null,
      "outputs": [
        {
          "output_type": "stream",
          "text": [
            "Requirement already satisfied: pandasql in /usr/local/lib/python3.7/dist-packages (0.7.3)\n",
            "Requirement already satisfied: sqlalchemy in /usr/local/lib/python3.7/dist-packages (from pandasql) (1.4.22)\n",
            "Requirement already satisfied: pandas in /usr/local/lib/python3.7/dist-packages (from pandasql) (1.1.5)\n",
            "Requirement already satisfied: numpy in /usr/local/lib/python3.7/dist-packages (from pandasql) (1.19.5)\n",
            "Requirement already satisfied: pytz>=2017.2 in /usr/local/lib/python3.7/dist-packages (from pandas->pandasql) (2018.9)\n",
            "Requirement already satisfied: python-dateutil>=2.7.3 in /usr/local/lib/python3.7/dist-packages (from pandas->pandasql) (2.8.2)\n",
            "Requirement already satisfied: six>=1.5 in /usr/local/lib/python3.7/dist-packages (from python-dateutil>=2.7.3->pandas->pandasql) (1.15.0)\n",
            "Requirement already satisfied: greenlet!=0.4.17 in /usr/local/lib/python3.7/dist-packages (from sqlalchemy->pandasql) (1.1.1)\n",
            "Requirement already satisfied: importlib-metadata in /usr/local/lib/python3.7/dist-packages (from sqlalchemy->pandasql) (4.6.4)\n",
            "Requirement already satisfied: zipp>=0.5 in /usr/local/lib/python3.7/dist-packages (from importlib-metadata->sqlalchemy->pandasql) (3.5.0)\n",
            "Requirement already satisfied: typing-extensions>=3.6.4 in /usr/local/lib/python3.7/dist-packages (from importlib-metadata->sqlalchemy->pandasql) (3.7.4.3)\n"
          ],
          "name": "stdout"
        }
      ]
    },
    {
      "cell_type": "code",
      "metadata": {
        "id": "eCW3Ovuq0Ort"
      },
      "source": [
        "import pandasql as ps"
      ],
      "execution_count": null,
      "outputs": []
    },
    {
      "cell_type": "code",
      "metadata": {
        "colab": {
          "base_uri": "https://localhost:8080/",
          "height": 204
        },
        "id": "1z_xZ9i60aAN",
        "outputId": "fcb05a92-1ff8-46cb-adfb-8c5946ea7d80"
      },
      "source": [
        "df =  ps.sqldf(\"select W, X from df\")\n",
        "df.head()"
      ],
      "execution_count": null,
      "outputs": [
        {
          "output_type": "execute_result",
          "data": {
            "text/html": [
              "<div>\n",
              "<style scoped>\n",
              "    .dataframe tbody tr th:only-of-type {\n",
              "        vertical-align: middle;\n",
              "    }\n",
              "\n",
              "    .dataframe tbody tr th {\n",
              "        vertical-align: top;\n",
              "    }\n",
              "\n",
              "    .dataframe thead th {\n",
              "        text-align: right;\n",
              "    }\n",
              "</style>\n",
              "<table border=\"1\" class=\"dataframe\">\n",
              "  <thead>\n",
              "    <tr style=\"text-align: right;\">\n",
              "      <th></th>\n",
              "      <th>W</th>\n",
              "      <th>X</th>\n",
              "    </tr>\n",
              "  </thead>\n",
              "  <tbody>\n",
              "    <tr>\n",
              "      <th>0</th>\n",
              "      <td>2.706850</td>\n",
              "      <td>0.628133</td>\n",
              "    </tr>\n",
              "    <tr>\n",
              "      <th>1</th>\n",
              "      <td>0.651118</td>\n",
              "      <td>-0.319318</td>\n",
              "    </tr>\n",
              "    <tr>\n",
              "      <th>2</th>\n",
              "      <td>-2.018168</td>\n",
              "      <td>0.740122</td>\n",
              "    </tr>\n",
              "    <tr>\n",
              "      <th>3</th>\n",
              "      <td>0.188695</td>\n",
              "      <td>-0.758872</td>\n",
              "    </tr>\n",
              "    <tr>\n",
              "      <th>4</th>\n",
              "      <td>0.190794</td>\n",
              "      <td>1.978757</td>\n",
              "    </tr>\n",
              "  </tbody>\n",
              "</table>\n",
              "</div>"
            ],
            "text/plain": [
              "          W         X\n",
              "0  2.706850  0.628133\n",
              "1  0.651118 -0.319318\n",
              "2 -2.018168  0.740122\n",
              "3  0.188695 -0.758872\n",
              "4  0.190794  1.978757"
            ]
          },
          "metadata": {},
          "execution_count": 14
        }
      ]
    },
    {
      "cell_type": "code",
      "metadata": {
        "id": "VAw5Rm220aUz"
      },
      "source": [],
      "execution_count": null,
      "outputs": []
    },
    {
      "cell_type": "code",
      "metadata": {
        "id": "LBBfUmgA0aaI"
      },
      "source": [],
      "execution_count": null,
      "outputs": []
    },
    {
      "cell_type": "code",
      "metadata": {
        "id": "JDxOwfF_ljoP",
        "colab": {
          "base_uri": "https://localhost:8080/",
          "height": 204
        },
        "outputId": "4aa812ac-152c-426d-dbd4-0d7eb81533aa"
      },
      "source": [
        "booldf = df > 0\n",
        "booldf"
      ],
      "execution_count": null,
      "outputs": [
        {
          "output_type": "execute_result",
          "data": {
            "text/html": [
              "<div>\n",
              "<style scoped>\n",
              "    .dataframe tbody tr th:only-of-type {\n",
              "        vertical-align: middle;\n",
              "    }\n",
              "\n",
              "    .dataframe tbody tr th {\n",
              "        vertical-align: top;\n",
              "    }\n",
              "\n",
              "    .dataframe thead th {\n",
              "        text-align: right;\n",
              "    }\n",
              "</style>\n",
              "<table border=\"1\" class=\"dataframe\">\n",
              "  <thead>\n",
              "    <tr style=\"text-align: right;\">\n",
              "      <th></th>\n",
              "      <th>W</th>\n",
              "      <th>X</th>\n",
              "      <th>Y</th>\n",
              "      <th>Z</th>\n",
              "    </tr>\n",
              "  </thead>\n",
              "  <tbody>\n",
              "    <tr>\n",
              "      <th>A</th>\n",
              "      <td>True</td>\n",
              "      <td>True</td>\n",
              "      <td>True</td>\n",
              "      <td>True</td>\n",
              "    </tr>\n",
              "    <tr>\n",
              "      <th>B</th>\n",
              "      <td>True</td>\n",
              "      <td>False</td>\n",
              "      <td>False</td>\n",
              "      <td>True</td>\n",
              "    </tr>\n",
              "    <tr>\n",
              "      <th>C</th>\n",
              "      <td>False</td>\n",
              "      <td>True</td>\n",
              "      <td>True</td>\n",
              "      <td>False</td>\n",
              "    </tr>\n",
              "    <tr>\n",
              "      <th>D</th>\n",
              "      <td>True</td>\n",
              "      <td>False</td>\n",
              "      <td>False</td>\n",
              "      <td>True</td>\n",
              "    </tr>\n",
              "    <tr>\n",
              "      <th>E</th>\n",
              "      <td>True</td>\n",
              "      <td>True</td>\n",
              "      <td>True</td>\n",
              "      <td>True</td>\n",
              "    </tr>\n",
              "  </tbody>\n",
              "</table>\n",
              "</div>"
            ],
            "text/plain": [
              "       W      X      Y      Z\n",
              "A   True   True   True   True\n",
              "B   True  False  False   True\n",
              "C  False   True   True  False\n",
              "D   True  False  False   True\n",
              "E   True   True   True   True"
            ]
          },
          "metadata": {
            "tags": []
          },
          "execution_count": 16
        }
      ]
    },
    {
      "cell_type": "code",
      "metadata": {
        "id": "9KgdFoybll4D",
        "colab": {
          "base_uri": "https://localhost:8080/",
          "height": 204
        },
        "outputId": "6990174c-9082-4fe1-a2ff-297cbea1dac0"
      },
      "source": [
        "df[booldf]"
      ],
      "execution_count": null,
      "outputs": [
        {
          "output_type": "execute_result",
          "data": {
            "text/html": [
              "<div>\n",
              "<style scoped>\n",
              "    .dataframe tbody tr th:only-of-type {\n",
              "        vertical-align: middle;\n",
              "    }\n",
              "\n",
              "    .dataframe tbody tr th {\n",
              "        vertical-align: top;\n",
              "    }\n",
              "\n",
              "    .dataframe thead th {\n",
              "        text-align: right;\n",
              "    }\n",
              "</style>\n",
              "<table border=\"1\" class=\"dataframe\">\n",
              "  <thead>\n",
              "    <tr style=\"text-align: right;\">\n",
              "      <th></th>\n",
              "      <th>W</th>\n",
              "      <th>X</th>\n",
              "      <th>Y</th>\n",
              "      <th>Z</th>\n",
              "    </tr>\n",
              "  </thead>\n",
              "  <tbody>\n",
              "    <tr>\n",
              "      <th>A</th>\n",
              "      <td>2.706850</td>\n",
              "      <td>0.628133</td>\n",
              "      <td>0.907969</td>\n",
              "      <td>0.503826</td>\n",
              "    </tr>\n",
              "    <tr>\n",
              "      <th>B</th>\n",
              "      <td>0.651118</td>\n",
              "      <td>NaN</td>\n",
              "      <td>NaN</td>\n",
              "      <td>0.605965</td>\n",
              "    </tr>\n",
              "    <tr>\n",
              "      <th>C</th>\n",
              "      <td>NaN</td>\n",
              "      <td>0.740122</td>\n",
              "      <td>0.528813</td>\n",
              "      <td>NaN</td>\n",
              "    </tr>\n",
              "    <tr>\n",
              "      <th>D</th>\n",
              "      <td>0.188695</td>\n",
              "      <td>NaN</td>\n",
              "      <td>NaN</td>\n",
              "      <td>0.955057</td>\n",
              "    </tr>\n",
              "    <tr>\n",
              "      <th>E</th>\n",
              "      <td>0.190794</td>\n",
              "      <td>1.978757</td>\n",
              "      <td>2.605967</td>\n",
              "      <td>0.683509</td>\n",
              "    </tr>\n",
              "  </tbody>\n",
              "</table>\n",
              "</div>"
            ],
            "text/plain": [
              "          W         X         Y         Z\n",
              "A  2.706850  0.628133  0.907969  0.503826\n",
              "B  0.651118       NaN       NaN  0.605965\n",
              "C       NaN  0.740122  0.528813       NaN\n",
              "D  0.188695       NaN       NaN  0.955057\n",
              "E  0.190794  1.978757  2.605967  0.683509"
            ]
          },
          "metadata": {
            "tags": []
          },
          "execution_count": 17
        }
      ]
    },
    {
      "cell_type": "code",
      "metadata": {
        "id": "2qSx1rR4loCT",
        "colab": {
          "base_uri": "https://localhost:8080/",
          "height": 204
        },
        "outputId": "2ad0a110-fa18-4838-e063-eea9807e28fb"
      },
      "source": [
        "df[df>0]"
      ],
      "execution_count": null,
      "outputs": [
        {
          "output_type": "execute_result",
          "data": {
            "text/html": [
              "<div>\n",
              "<style scoped>\n",
              "    .dataframe tbody tr th:only-of-type {\n",
              "        vertical-align: middle;\n",
              "    }\n",
              "\n",
              "    .dataframe tbody tr th {\n",
              "        vertical-align: top;\n",
              "    }\n",
              "\n",
              "    .dataframe thead th {\n",
              "        text-align: right;\n",
              "    }\n",
              "</style>\n",
              "<table border=\"1\" class=\"dataframe\">\n",
              "  <thead>\n",
              "    <tr style=\"text-align: right;\">\n",
              "      <th></th>\n",
              "      <th>W</th>\n",
              "      <th>X</th>\n",
              "      <th>Y</th>\n",
              "      <th>Z</th>\n",
              "    </tr>\n",
              "  </thead>\n",
              "  <tbody>\n",
              "    <tr>\n",
              "      <th>A</th>\n",
              "      <td>2.706850</td>\n",
              "      <td>0.628133</td>\n",
              "      <td>0.907969</td>\n",
              "      <td>0.503826</td>\n",
              "    </tr>\n",
              "    <tr>\n",
              "      <th>B</th>\n",
              "      <td>0.651118</td>\n",
              "      <td>NaN</td>\n",
              "      <td>NaN</td>\n",
              "      <td>0.605965</td>\n",
              "    </tr>\n",
              "    <tr>\n",
              "      <th>C</th>\n",
              "      <td>NaN</td>\n",
              "      <td>0.740122</td>\n",
              "      <td>0.528813</td>\n",
              "      <td>NaN</td>\n",
              "    </tr>\n",
              "    <tr>\n",
              "      <th>D</th>\n",
              "      <td>0.188695</td>\n",
              "      <td>NaN</td>\n",
              "      <td>NaN</td>\n",
              "      <td>0.955057</td>\n",
              "    </tr>\n",
              "    <tr>\n",
              "      <th>E</th>\n",
              "      <td>0.190794</td>\n",
              "      <td>1.978757</td>\n",
              "      <td>2.605967</td>\n",
              "      <td>0.683509</td>\n",
              "    </tr>\n",
              "  </tbody>\n",
              "</table>\n",
              "</div>"
            ],
            "text/plain": [
              "          W         X         Y         Z\n",
              "A  2.706850  0.628133  0.907969  0.503826\n",
              "B  0.651118       NaN       NaN  0.605965\n",
              "C       NaN  0.740122  0.528813       NaN\n",
              "D  0.188695       NaN       NaN  0.955057\n",
              "E  0.190794  1.978757  2.605967  0.683509"
            ]
          },
          "metadata": {
            "tags": []
          },
          "execution_count": 18
        }
      ]
    },
    {
      "cell_type": "code",
      "metadata": {
        "id": "OYV6kNgBlqQQ",
        "colab": {
          "base_uri": "https://localhost:8080/",
          "height": 377
        },
        "outputId": "5d367b43-d042-4f7e-9ed4-be3e6472009e"
      },
      "source": [
        "print(df['W'])\n",
        "print(df['W']>0)\n",
        "df[df['W']>0]"
      ],
      "execution_count": null,
      "outputs": [
        {
          "output_type": "stream",
          "text": [
            "A    2.706850\n",
            "B    0.651118\n",
            "C   -2.018168\n",
            "D    0.188695\n",
            "E    0.190794\n",
            "Name: W, dtype: float64\n",
            "A     True\n",
            "B     True\n",
            "C    False\n",
            "D     True\n",
            "E     True\n",
            "Name: W, dtype: bool\n"
          ],
          "name": "stdout"
        },
        {
          "output_type": "execute_result",
          "data": {
            "text/html": [
              "<div>\n",
              "<style scoped>\n",
              "    .dataframe tbody tr th:only-of-type {\n",
              "        vertical-align: middle;\n",
              "    }\n",
              "\n",
              "    .dataframe tbody tr th {\n",
              "        vertical-align: top;\n",
              "    }\n",
              "\n",
              "    .dataframe thead th {\n",
              "        text-align: right;\n",
              "    }\n",
              "</style>\n",
              "<table border=\"1\" class=\"dataframe\">\n",
              "  <thead>\n",
              "    <tr style=\"text-align: right;\">\n",
              "      <th></th>\n",
              "      <th>W</th>\n",
              "      <th>X</th>\n",
              "      <th>Y</th>\n",
              "      <th>Z</th>\n",
              "    </tr>\n",
              "  </thead>\n",
              "  <tbody>\n",
              "    <tr>\n",
              "      <th>A</th>\n",
              "      <td>2.706850</td>\n",
              "      <td>0.628133</td>\n",
              "      <td>0.907969</td>\n",
              "      <td>0.503826</td>\n",
              "    </tr>\n",
              "    <tr>\n",
              "      <th>B</th>\n",
              "      <td>0.651118</td>\n",
              "      <td>-0.319318</td>\n",
              "      <td>-0.848077</td>\n",
              "      <td>0.605965</td>\n",
              "    </tr>\n",
              "    <tr>\n",
              "      <th>D</th>\n",
              "      <td>0.188695</td>\n",
              "      <td>-0.758872</td>\n",
              "      <td>-0.933237</td>\n",
              "      <td>0.955057</td>\n",
              "    </tr>\n",
              "    <tr>\n",
              "      <th>E</th>\n",
              "      <td>0.190794</td>\n",
              "      <td>1.978757</td>\n",
              "      <td>2.605967</td>\n",
              "      <td>0.683509</td>\n",
              "    </tr>\n",
              "  </tbody>\n",
              "</table>\n",
              "</div>"
            ],
            "text/plain": [
              "          W         X         Y         Z\n",
              "A  2.706850  0.628133  0.907969  0.503826\n",
              "B  0.651118 -0.319318 -0.848077  0.605965\n",
              "D  0.188695 -0.758872 -0.933237  0.955057\n",
              "E  0.190794  1.978757  2.605967  0.683509"
            ]
          },
          "metadata": {
            "tags": []
          },
          "execution_count": 19
        }
      ]
    },
    {
      "cell_type": "code",
      "metadata": {
        "id": "1yHkDhq_lspg",
        "colab": {
          "base_uri": "https://localhost:8080/",
          "height": 284
        },
        "outputId": "64d836a8-93f4-4ddb-c058-b6846982cc13"
      },
      "source": [
        "print(df['Z'])\n",
        "print(df['Z']<0)\n",
        "df[df['W']<0]"
      ],
      "execution_count": null,
      "outputs": [
        {
          "output_type": "stream",
          "text": [
            "A    0.503826\n",
            "B    0.605965\n",
            "C   -0.589001\n",
            "D    0.955057\n",
            "E    0.683509\n",
            "Name: Z, dtype: float64\n",
            "A    False\n",
            "B    False\n",
            "C     True\n",
            "D    False\n",
            "E    False\n",
            "Name: Z, dtype: bool\n"
          ],
          "name": "stdout"
        },
        {
          "output_type": "execute_result",
          "data": {
            "text/html": [
              "<div>\n",
              "<style scoped>\n",
              "    .dataframe tbody tr th:only-of-type {\n",
              "        vertical-align: middle;\n",
              "    }\n",
              "\n",
              "    .dataframe tbody tr th {\n",
              "        vertical-align: top;\n",
              "    }\n",
              "\n",
              "    .dataframe thead th {\n",
              "        text-align: right;\n",
              "    }\n",
              "</style>\n",
              "<table border=\"1\" class=\"dataframe\">\n",
              "  <thead>\n",
              "    <tr style=\"text-align: right;\">\n",
              "      <th></th>\n",
              "      <th>W</th>\n",
              "      <th>X</th>\n",
              "      <th>Y</th>\n",
              "      <th>Z</th>\n",
              "    </tr>\n",
              "  </thead>\n",
              "  <tbody>\n",
              "    <tr>\n",
              "      <th>C</th>\n",
              "      <td>-2.018168</td>\n",
              "      <td>0.740122</td>\n",
              "      <td>0.528813</td>\n",
              "      <td>-0.589001</td>\n",
              "    </tr>\n",
              "  </tbody>\n",
              "</table>\n",
              "</div>"
            ],
            "text/plain": [
              "          W         X         Y         Z\n",
              "C -2.018168  0.740122  0.528813 -0.589001"
            ]
          },
          "metadata": {
            "tags": []
          },
          "execution_count": 20
        }
      ]
    },
    {
      "cell_type": "code",
      "metadata": {
        "id": "rbCk-7cvlujv",
        "colab": {
          "base_uri": "https://localhost:8080/",
          "height": 102
        },
        "outputId": "db642d61-d352-45b2-91a6-5faf9e39c3bd"
      },
      "source": [
        "df[df['W']>0]['X']"
      ],
      "execution_count": null,
      "outputs": [
        {
          "output_type": "execute_result",
          "data": {
            "text/plain": [
              "A    0.628133\n",
              "B   -0.319318\n",
              "D   -0.758872\n",
              "E    1.978757\n",
              "Name: X, dtype: float64"
            ]
          },
          "metadata": {
            "tags": []
          },
          "execution_count": 21
        }
      ]
    },
    {
      "cell_type": "code",
      "metadata": {
        "id": "dTKxfPwrlwU1",
        "colab": {
          "base_uri": "https://localhost:8080/",
          "height": 173
        },
        "outputId": "45c9b58d-2e20-4f98-ac76-49e8c3c2d693"
      },
      "source": [
        "df[df['W']>0][['X','Y']]"
      ],
      "execution_count": null,
      "outputs": [
        {
          "output_type": "execute_result",
          "data": {
            "text/html": [
              "<div>\n",
              "<style scoped>\n",
              "    .dataframe tbody tr th:only-of-type {\n",
              "        vertical-align: middle;\n",
              "    }\n",
              "\n",
              "    .dataframe tbody tr th {\n",
              "        vertical-align: top;\n",
              "    }\n",
              "\n",
              "    .dataframe thead th {\n",
              "        text-align: right;\n",
              "    }\n",
              "</style>\n",
              "<table border=\"1\" class=\"dataframe\">\n",
              "  <thead>\n",
              "    <tr style=\"text-align: right;\">\n",
              "      <th></th>\n",
              "      <th>X</th>\n",
              "      <th>Y</th>\n",
              "    </tr>\n",
              "  </thead>\n",
              "  <tbody>\n",
              "    <tr>\n",
              "      <th>A</th>\n",
              "      <td>0.628133</td>\n",
              "      <td>0.907969</td>\n",
              "    </tr>\n",
              "    <tr>\n",
              "      <th>B</th>\n",
              "      <td>-0.319318</td>\n",
              "      <td>-0.848077</td>\n",
              "    </tr>\n",
              "    <tr>\n",
              "      <th>D</th>\n",
              "      <td>-0.758872</td>\n",
              "      <td>-0.933237</td>\n",
              "    </tr>\n",
              "    <tr>\n",
              "      <th>E</th>\n",
              "      <td>1.978757</td>\n",
              "      <td>2.605967</td>\n",
              "    </tr>\n",
              "  </tbody>\n",
              "</table>\n",
              "</div>"
            ],
            "text/plain": [
              "          X         Y\n",
              "A  0.628133  0.907969\n",
              "B -0.319318 -0.848077\n",
              "D -0.758872 -0.933237\n",
              "E  1.978757  2.605967"
            ]
          },
          "metadata": {
            "tags": []
          },
          "execution_count": 22
        }
      ]
    },
    {
      "cell_type": "code",
      "metadata": {
        "id": "7J4g0SfIlyF-",
        "colab": {
          "base_uri": "https://localhost:8080/",
          "height": 173
        },
        "outputId": "7ddb5704-adc9-49a9-8b71-e743ccc86733"
      },
      "source": [
        "df[(df['W']>0)&(df['Y']>1)]# multiple condition with and\n",
        "df[(df['W']>0) | (df['Y']>1)]# multiple condition with OR"
      ],
      "execution_count": null,
      "outputs": [
        {
          "output_type": "execute_result",
          "data": {
            "text/html": [
              "<div>\n",
              "<style scoped>\n",
              "    .dataframe tbody tr th:only-of-type {\n",
              "        vertical-align: middle;\n",
              "    }\n",
              "\n",
              "    .dataframe tbody tr th {\n",
              "        vertical-align: top;\n",
              "    }\n",
              "\n",
              "    .dataframe thead th {\n",
              "        text-align: right;\n",
              "    }\n",
              "</style>\n",
              "<table border=\"1\" class=\"dataframe\">\n",
              "  <thead>\n",
              "    <tr style=\"text-align: right;\">\n",
              "      <th></th>\n",
              "      <th>W</th>\n",
              "      <th>X</th>\n",
              "      <th>Y</th>\n",
              "      <th>Z</th>\n",
              "    </tr>\n",
              "  </thead>\n",
              "  <tbody>\n",
              "    <tr>\n",
              "      <th>A</th>\n",
              "      <td>2.706850</td>\n",
              "      <td>0.628133</td>\n",
              "      <td>0.907969</td>\n",
              "      <td>0.503826</td>\n",
              "    </tr>\n",
              "    <tr>\n",
              "      <th>B</th>\n",
              "      <td>0.651118</td>\n",
              "      <td>-0.319318</td>\n",
              "      <td>-0.848077</td>\n",
              "      <td>0.605965</td>\n",
              "    </tr>\n",
              "    <tr>\n",
              "      <th>D</th>\n",
              "      <td>0.188695</td>\n",
              "      <td>-0.758872</td>\n",
              "      <td>-0.933237</td>\n",
              "      <td>0.955057</td>\n",
              "    </tr>\n",
              "    <tr>\n",
              "      <th>E</th>\n",
              "      <td>0.190794</td>\n",
              "      <td>1.978757</td>\n",
              "      <td>2.605967</td>\n",
              "      <td>0.683509</td>\n",
              "    </tr>\n",
              "  </tbody>\n",
              "</table>\n",
              "</div>"
            ],
            "text/plain": [
              "          W         X         Y         Z\n",
              "A  2.706850  0.628133  0.907969  0.503826\n",
              "B  0.651118 -0.319318 -0.848077  0.605965\n",
              "D  0.188695 -0.758872 -0.933237  0.955057\n",
              "E  0.190794  1.978757  2.605967  0.683509"
            ]
          },
          "metadata": {
            "tags": []
          },
          "execution_count": 23
        }
      ]
    },
    {
      "cell_type": "code",
      "metadata": {
        "id": "lbXSfD6tlz-O",
        "colab": {
          "base_uri": "https://localhost:8080/",
          "height": 204
        },
        "outputId": "f2f38bf4-853a-4178-96c4-ac9a0a7c16e9"
      },
      "source": [
        "df.reset_index()#reset index Note: it is temparary reset untill you use inplace=true"
      ],
      "execution_count": null,
      "outputs": [
        {
          "output_type": "execute_result",
          "data": {
            "text/html": [
              "<div>\n",
              "<style scoped>\n",
              "    .dataframe tbody tr th:only-of-type {\n",
              "        vertical-align: middle;\n",
              "    }\n",
              "\n",
              "    .dataframe tbody tr th {\n",
              "        vertical-align: top;\n",
              "    }\n",
              "\n",
              "    .dataframe thead th {\n",
              "        text-align: right;\n",
              "    }\n",
              "</style>\n",
              "<table border=\"1\" class=\"dataframe\">\n",
              "  <thead>\n",
              "    <tr style=\"text-align: right;\">\n",
              "      <th></th>\n",
              "      <th>index</th>\n",
              "      <th>W</th>\n",
              "      <th>X</th>\n",
              "      <th>Y</th>\n",
              "      <th>Z</th>\n",
              "    </tr>\n",
              "  </thead>\n",
              "  <tbody>\n",
              "    <tr>\n",
              "      <th>0</th>\n",
              "      <td>A</td>\n",
              "      <td>2.706850</td>\n",
              "      <td>0.628133</td>\n",
              "      <td>0.907969</td>\n",
              "      <td>0.503826</td>\n",
              "    </tr>\n",
              "    <tr>\n",
              "      <th>1</th>\n",
              "      <td>B</td>\n",
              "      <td>0.651118</td>\n",
              "      <td>-0.319318</td>\n",
              "      <td>-0.848077</td>\n",
              "      <td>0.605965</td>\n",
              "    </tr>\n",
              "    <tr>\n",
              "      <th>2</th>\n",
              "      <td>C</td>\n",
              "      <td>-2.018168</td>\n",
              "      <td>0.740122</td>\n",
              "      <td>0.528813</td>\n",
              "      <td>-0.589001</td>\n",
              "    </tr>\n",
              "    <tr>\n",
              "      <th>3</th>\n",
              "      <td>D</td>\n",
              "      <td>0.188695</td>\n",
              "      <td>-0.758872</td>\n",
              "      <td>-0.933237</td>\n",
              "      <td>0.955057</td>\n",
              "    </tr>\n",
              "    <tr>\n",
              "      <th>4</th>\n",
              "      <td>E</td>\n",
              "      <td>0.190794</td>\n",
              "      <td>1.978757</td>\n",
              "      <td>2.605967</td>\n",
              "      <td>0.683509</td>\n",
              "    </tr>\n",
              "  </tbody>\n",
              "</table>\n",
              "</div>"
            ],
            "text/plain": [
              "  index         W         X         Y         Z\n",
              "0     A  2.706850  0.628133  0.907969  0.503826\n",
              "1     B  0.651118 -0.319318 -0.848077  0.605965\n",
              "2     C -2.018168  0.740122  0.528813 -0.589001\n",
              "3     D  0.188695 -0.758872 -0.933237  0.955057\n",
              "4     E  0.190794  1.978757  2.605967  0.683509"
            ]
          },
          "metadata": {
            "tags": []
          },
          "execution_count": 24
        }
      ]
    },
    {
      "cell_type": "code",
      "metadata": {
        "id": "L0IjQsKKl12L",
        "colab": {
          "base_uri": "https://localhost:8080/",
          "height": 235
        },
        "outputId": "85569861-19e2-4224-dcba-9185270599c6"
      },
      "source": [
        "#set column as index\n",
        "state = ['GJ','MH','RJ','GO','PJ']\n",
        "df['state'] = state\n",
        "df\n",
        "df.set_index('state')"
      ],
      "execution_count": null,
      "outputs": [
        {
          "output_type": "execute_result",
          "data": {
            "text/html": [
              "<div>\n",
              "<style scoped>\n",
              "    .dataframe tbody tr th:only-of-type {\n",
              "        vertical-align: middle;\n",
              "    }\n",
              "\n",
              "    .dataframe tbody tr th {\n",
              "        vertical-align: top;\n",
              "    }\n",
              "\n",
              "    .dataframe thead th {\n",
              "        text-align: right;\n",
              "    }\n",
              "</style>\n",
              "<table border=\"1\" class=\"dataframe\">\n",
              "  <thead>\n",
              "    <tr style=\"text-align: right;\">\n",
              "      <th></th>\n",
              "      <th>W</th>\n",
              "      <th>X</th>\n",
              "      <th>Y</th>\n",
              "      <th>Z</th>\n",
              "    </tr>\n",
              "    <tr>\n",
              "      <th>state</th>\n",
              "      <th></th>\n",
              "      <th></th>\n",
              "      <th></th>\n",
              "      <th></th>\n",
              "    </tr>\n",
              "  </thead>\n",
              "  <tbody>\n",
              "    <tr>\n",
              "      <th>GJ</th>\n",
              "      <td>2.706850</td>\n",
              "      <td>0.628133</td>\n",
              "      <td>0.907969</td>\n",
              "      <td>0.503826</td>\n",
              "    </tr>\n",
              "    <tr>\n",
              "      <th>MH</th>\n",
              "      <td>0.651118</td>\n",
              "      <td>-0.319318</td>\n",
              "      <td>-0.848077</td>\n",
              "      <td>0.605965</td>\n",
              "    </tr>\n",
              "    <tr>\n",
              "      <th>RJ</th>\n",
              "      <td>-2.018168</td>\n",
              "      <td>0.740122</td>\n",
              "      <td>0.528813</td>\n",
              "      <td>-0.589001</td>\n",
              "    </tr>\n",
              "    <tr>\n",
              "      <th>GO</th>\n",
              "      <td>0.188695</td>\n",
              "      <td>-0.758872</td>\n",
              "      <td>-0.933237</td>\n",
              "      <td>0.955057</td>\n",
              "    </tr>\n",
              "    <tr>\n",
              "      <th>PJ</th>\n",
              "      <td>0.190794</td>\n",
              "      <td>1.978757</td>\n",
              "      <td>2.605967</td>\n",
              "      <td>0.683509</td>\n",
              "    </tr>\n",
              "  </tbody>\n",
              "</table>\n",
              "</div>"
            ],
            "text/plain": [
              "              W         X         Y         Z\n",
              "state                                        \n",
              "GJ     2.706850  0.628133  0.907969  0.503826\n",
              "MH     0.651118 -0.319318 -0.848077  0.605965\n",
              "RJ    -2.018168  0.740122  0.528813 -0.589001\n",
              "GO     0.188695 -0.758872 -0.933237  0.955057\n",
              "PJ     0.190794  1.978757  2.605967  0.683509"
            ]
          },
          "metadata": {
            "tags": []
          },
          "execution_count": 25
        }
      ]
    },
    {
      "cell_type": "code",
      "metadata": {
        "id": "lU94nsXul6LL",
        "colab": {
          "base_uri": "https://localhost:8080/",
          "height": 142
        },
        "outputId": "b94f0707-f564-4849-9f7f-12657b64f738"
      },
      "source": [
        "import numpy as np\n",
        "import pandas as pd\n",
        "d = {'A':[1,2,np.nan],'B':[5,np.nan,np.nan],'C':[7,8,9]}\n",
        "df = pd.DataFrame(d)\n",
        "df"
      ],
      "execution_count": null,
      "outputs": [
        {
          "output_type": "execute_result",
          "data": {
            "text/html": [
              "<div>\n",
              "<style scoped>\n",
              "    .dataframe tbody tr th:only-of-type {\n",
              "        vertical-align: middle;\n",
              "    }\n",
              "\n",
              "    .dataframe tbody tr th {\n",
              "        vertical-align: top;\n",
              "    }\n",
              "\n",
              "    .dataframe thead th {\n",
              "        text-align: right;\n",
              "    }\n",
              "</style>\n",
              "<table border=\"1\" class=\"dataframe\">\n",
              "  <thead>\n",
              "    <tr style=\"text-align: right;\">\n",
              "      <th></th>\n",
              "      <th>A</th>\n",
              "      <th>B</th>\n",
              "      <th>C</th>\n",
              "    </tr>\n",
              "  </thead>\n",
              "  <tbody>\n",
              "    <tr>\n",
              "      <th>0</th>\n",
              "      <td>1.0</td>\n",
              "      <td>5.0</td>\n",
              "      <td>7</td>\n",
              "    </tr>\n",
              "    <tr>\n",
              "      <th>1</th>\n",
              "      <td>2.0</td>\n",
              "      <td>NaN</td>\n",
              "      <td>8</td>\n",
              "    </tr>\n",
              "    <tr>\n",
              "      <th>2</th>\n",
              "      <td>NaN</td>\n",
              "      <td>NaN</td>\n",
              "      <td>9</td>\n",
              "    </tr>\n",
              "  </tbody>\n",
              "</table>\n",
              "</div>"
            ],
            "text/plain": [
              "     A    B  C\n",
              "0  1.0  5.0  7\n",
              "1  2.0  NaN  8\n",
              "2  NaN  NaN  9"
            ]
          },
          "metadata": {
            "tags": []
          },
          "execution_count": 26
        }
      ]
    },
    {
      "cell_type": "code",
      "metadata": {
        "id": "k2XDWqc4l7wd",
        "colab": {
          "base_uri": "https://localhost:8080/",
          "height": 170
        },
        "outputId": "15883bac-bd3d-458a-e1b3-0c99d5411012"
      },
      "source": [
        "print(df.dropna())\n",
        "print(df.dropna(axis=1)) # it indicates column\n",
        "print(df.dropna(thresh=2)) #it is a threshold so that we can define how many non-na value should be there in each row."
      ],
      "execution_count": null,
      "outputs": [
        {
          "output_type": "stream",
          "text": [
            "     A    B  C\n",
            "0  1.0  5.0  7\n",
            "   C\n",
            "0  7\n",
            "1  8\n",
            "2  9\n",
            "     A    B  C\n",
            "0  1.0  5.0  7\n",
            "1  2.0  NaN  8\n"
          ],
          "name": "stdout"
        }
      ]
    },
    {
      "cell_type": "code",
      "metadata": {
        "id": "x-g5goS-l9s2",
        "colab": {
          "base_uri": "https://localhost:8080/",
          "height": 153
        },
        "outputId": "b741e189-563b-4b1c-a2ce-2c02a6b77d81"
      },
      "source": [
        "print(df.fillna(value='Juned'))\n",
        "print(df['A'].fillna(value=df['A'].mean())) #filll na value with mean of that column"
      ],
      "execution_count": null,
      "outputs": [
        {
          "output_type": "stream",
          "text": [
            "       A      B  C\n",
            "0      1      5  7\n",
            "1      2  Juned  8\n",
            "2  Juned  Juned  9\n",
            "0    1.0\n",
            "1    2.0\n",
            "2    1.5\n",
            "Name: A, dtype: float64\n"
          ],
          "name": "stdout"
        }
      ]
    },
    {
      "cell_type": "code",
      "metadata": {
        "id": "lYi87IV5l_1d",
        "colab": {
          "base_uri": "https://localhost:8080/",
          "height": 235
        },
        "outputId": "8225dade-a669-4242-86ae-677c7233470d"
      },
      "source": [
        "#Groupby\n",
        "data = {'company':['google','google','microsft','microsft','facebook','facebook'],\n",
        "        'person': ['juned','fatima','mayur','zeeshan','nimesh','sandip'],\n",
        "        'sales':  [100,200,400,200,130,300]\n",
        "       }\n",
        "df = pd.DataFrame(data)\n",
        "df"
      ],
      "execution_count": null,
      "outputs": [
        {
          "output_type": "execute_result",
          "data": {
            "text/html": [
              "<div>\n",
              "<style scoped>\n",
              "    .dataframe tbody tr th:only-of-type {\n",
              "        vertical-align: middle;\n",
              "    }\n",
              "\n",
              "    .dataframe tbody tr th {\n",
              "        vertical-align: top;\n",
              "    }\n",
              "\n",
              "    .dataframe thead th {\n",
              "        text-align: right;\n",
              "    }\n",
              "</style>\n",
              "<table border=\"1\" class=\"dataframe\">\n",
              "  <thead>\n",
              "    <tr style=\"text-align: right;\">\n",
              "      <th></th>\n",
              "      <th>company</th>\n",
              "      <th>person</th>\n",
              "      <th>sales</th>\n",
              "    </tr>\n",
              "  </thead>\n",
              "  <tbody>\n",
              "    <tr>\n",
              "      <th>0</th>\n",
              "      <td>google</td>\n",
              "      <td>juned</td>\n",
              "      <td>100</td>\n",
              "    </tr>\n",
              "    <tr>\n",
              "      <th>1</th>\n",
              "      <td>google</td>\n",
              "      <td>fatima</td>\n",
              "      <td>200</td>\n",
              "    </tr>\n",
              "    <tr>\n",
              "      <th>2</th>\n",
              "      <td>microsft</td>\n",
              "      <td>mayur</td>\n",
              "      <td>400</td>\n",
              "    </tr>\n",
              "    <tr>\n",
              "      <th>3</th>\n",
              "      <td>microsft</td>\n",
              "      <td>zeeshan</td>\n",
              "      <td>200</td>\n",
              "    </tr>\n",
              "    <tr>\n",
              "      <th>4</th>\n",
              "      <td>facebook</td>\n",
              "      <td>nimesh</td>\n",
              "      <td>130</td>\n",
              "    </tr>\n",
              "    <tr>\n",
              "      <th>5</th>\n",
              "      <td>facebook</td>\n",
              "      <td>sandip</td>\n",
              "      <td>300</td>\n",
              "    </tr>\n",
              "  </tbody>\n",
              "</table>\n",
              "</div>"
            ],
            "text/plain": [
              "    company   person  sales\n",
              "0    google    juned    100\n",
              "1    google   fatima    200\n",
              "2  microsft    mayur    400\n",
              "3  microsft  zeeshan    200\n",
              "4  facebook   nimesh    130\n",
              "5  facebook   sandip    300"
            ]
          },
          "metadata": {
            "tags": []
          },
          "execution_count": 29
        }
      ]
    },
    {
      "cell_type": "code",
      "metadata": {
        "id": "M-fITd33mB31",
        "colab": {
          "base_uri": "https://localhost:8080/",
          "height": 136
        },
        "outputId": "6008e8a7-766d-4915-e637-d9b144dd3fb5"
      },
      "source": [
        "print(df.groupby('company').sum())\n",
        "df.groupby('company').sum().loc['facebook']"
      ],
      "execution_count": null,
      "outputs": [
        {
          "output_type": "stream",
          "text": [
            "          sales\n",
            "company        \n",
            "facebook    430\n",
            "google      300\n",
            "microsft    600\n"
          ],
          "name": "stdout"
        },
        {
          "output_type": "execute_result",
          "data": {
            "text/plain": [
              "sales    430\n",
              "Name: facebook, dtype: int64"
            ]
          },
          "metadata": {
            "tags": []
          },
          "execution_count": 30
        }
      ]
    },
    {
      "cell_type": "code",
      "metadata": {
        "id": "F-T4tRGhmDxl",
        "colab": {
          "base_uri": "https://localhost:8080/",
          "height": 173
        },
        "outputId": "6cd37c6e-fcd2-4116-e6a7-9fe21580fc6d"
      },
      "source": [
        "df.groupby('company').count()"
      ],
      "execution_count": null,
      "outputs": [
        {
          "output_type": "execute_result",
          "data": {
            "text/html": [
              "<div>\n",
              "<style scoped>\n",
              "    .dataframe tbody tr th:only-of-type {\n",
              "        vertical-align: middle;\n",
              "    }\n",
              "\n",
              "    .dataframe tbody tr th {\n",
              "        vertical-align: top;\n",
              "    }\n",
              "\n",
              "    .dataframe thead th {\n",
              "        text-align: right;\n",
              "    }\n",
              "</style>\n",
              "<table border=\"1\" class=\"dataframe\">\n",
              "  <thead>\n",
              "    <tr style=\"text-align: right;\">\n",
              "      <th></th>\n",
              "      <th>person</th>\n",
              "      <th>sales</th>\n",
              "    </tr>\n",
              "    <tr>\n",
              "      <th>company</th>\n",
              "      <th></th>\n",
              "      <th></th>\n",
              "    </tr>\n",
              "  </thead>\n",
              "  <tbody>\n",
              "    <tr>\n",
              "      <th>facebook</th>\n",
              "      <td>2</td>\n",
              "      <td>2</td>\n",
              "    </tr>\n",
              "    <tr>\n",
              "      <th>google</th>\n",
              "      <td>2</td>\n",
              "      <td>2</td>\n",
              "    </tr>\n",
              "    <tr>\n",
              "      <th>microsft</th>\n",
              "      <td>2</td>\n",
              "      <td>2</td>\n",
              "    </tr>\n",
              "  </tbody>\n",
              "</table>\n",
              "</div>"
            ],
            "text/plain": [
              "          person  sales\n",
              "company                \n",
              "facebook       2      2\n",
              "google         2      2\n",
              "microsft       2      2"
            ]
          },
          "metadata": {
            "tags": []
          },
          "execution_count": 31
        }
      ]
    },
    {
      "cell_type": "code",
      "metadata": {
        "id": "7RqGojgmmFY1",
        "colab": {
          "base_uri": "https://localhost:8080/",
          "height": 102
        },
        "outputId": "d9e22ab0-facb-492b-adf4-fc0520808339"
      },
      "source": [
        "df.groupby('company').min()['sales']"
      ],
      "execution_count": null,
      "outputs": [
        {
          "output_type": "execute_result",
          "data": {
            "text/plain": [
              "company\n",
              "facebook    130\n",
              "google      100\n",
              "microsft    200\n",
              "Name: sales, dtype: int64"
            ]
          },
          "metadata": {
            "tags": []
          },
          "execution_count": 32
        }
      ]
    },
    {
      "cell_type": "code",
      "metadata": {
        "id": "Kqx8Vz88mHEK",
        "colab": {
          "base_uri": "https://localhost:8080/",
          "height": 173
        },
        "outputId": "55077027-5988-4d7a-9a17-a5acbed7aaac"
      },
      "source": [
        "df.groupby('company').mean()"
      ],
      "execution_count": null,
      "outputs": [
        {
          "output_type": "execute_result",
          "data": {
            "text/html": [
              "<div>\n",
              "<style scoped>\n",
              "    .dataframe tbody tr th:only-of-type {\n",
              "        vertical-align: middle;\n",
              "    }\n",
              "\n",
              "    .dataframe tbody tr th {\n",
              "        vertical-align: top;\n",
              "    }\n",
              "\n",
              "    .dataframe thead th {\n",
              "        text-align: right;\n",
              "    }\n",
              "</style>\n",
              "<table border=\"1\" class=\"dataframe\">\n",
              "  <thead>\n",
              "    <tr style=\"text-align: right;\">\n",
              "      <th></th>\n",
              "      <th>sales</th>\n",
              "    </tr>\n",
              "    <tr>\n",
              "      <th>company</th>\n",
              "      <th></th>\n",
              "    </tr>\n",
              "  </thead>\n",
              "  <tbody>\n",
              "    <tr>\n",
              "      <th>facebook</th>\n",
              "      <td>215</td>\n",
              "    </tr>\n",
              "    <tr>\n",
              "      <th>google</th>\n",
              "      <td>150</td>\n",
              "    </tr>\n",
              "    <tr>\n",
              "      <th>microsft</th>\n",
              "      <td>300</td>\n",
              "    </tr>\n",
              "  </tbody>\n",
              "</table>\n",
              "</div>"
            ],
            "text/plain": [
              "          sales\n",
              "company        \n",
              "facebook    215\n",
              "google      150\n",
              "microsft    300"
            ]
          },
          "metadata": {
            "tags": []
          },
          "execution_count": 33
        }
      ]
    },
    {
      "cell_type": "code",
      "metadata": {
        "id": "hQOrzOzDmJO5",
        "colab": {
          "base_uri": "https://localhost:8080/",
          "height": 173
        },
        "outputId": "1b0aea77-1917-4d0c-f364-fe8c271f3057"
      },
      "source": [
        "df.groupby('company').std()"
      ],
      "execution_count": null,
      "outputs": [
        {
          "output_type": "execute_result",
          "data": {
            "text/html": [
              "<div>\n",
              "<style scoped>\n",
              "    .dataframe tbody tr th:only-of-type {\n",
              "        vertical-align: middle;\n",
              "    }\n",
              "\n",
              "    .dataframe tbody tr th {\n",
              "        vertical-align: top;\n",
              "    }\n",
              "\n",
              "    .dataframe thead th {\n",
              "        text-align: right;\n",
              "    }\n",
              "</style>\n",
              "<table border=\"1\" class=\"dataframe\">\n",
              "  <thead>\n",
              "    <tr style=\"text-align: right;\">\n",
              "      <th></th>\n",
              "      <th>sales</th>\n",
              "    </tr>\n",
              "    <tr>\n",
              "      <th>company</th>\n",
              "      <th></th>\n",
              "    </tr>\n",
              "  </thead>\n",
              "  <tbody>\n",
              "    <tr>\n",
              "      <th>facebook</th>\n",
              "      <td>120.208153</td>\n",
              "    </tr>\n",
              "    <tr>\n",
              "      <th>google</th>\n",
              "      <td>70.710678</td>\n",
              "    </tr>\n",
              "    <tr>\n",
              "      <th>microsft</th>\n",
              "      <td>141.421356</td>\n",
              "    </tr>\n",
              "  </tbody>\n",
              "</table>\n",
              "</div>"
            ],
            "text/plain": [
              "               sales\n",
              "company             \n",
              "facebook  120.208153\n",
              "google     70.710678\n",
              "microsft  141.421356"
            ]
          },
          "metadata": {
            "tags": []
          },
          "execution_count": 34
        }
      ]
    },
    {
      "cell_type": "code",
      "metadata": {
        "id": "coLiR2KMmLGh",
        "colab": {
          "base_uri": "https://localhost:8080/",
          "height": 297
        },
        "outputId": "98acd994-12dc-4056-a2c9-679bc3351695"
      },
      "source": [
        "df.groupby('company').describe().transpose()"
      ],
      "execution_count": null,
      "outputs": [
        {
          "output_type": "execute_result",
          "data": {
            "text/html": [
              "<div>\n",
              "<style scoped>\n",
              "    .dataframe tbody tr th:only-of-type {\n",
              "        vertical-align: middle;\n",
              "    }\n",
              "\n",
              "    .dataframe tbody tr th {\n",
              "        vertical-align: top;\n",
              "    }\n",
              "\n",
              "    .dataframe thead th {\n",
              "        text-align: right;\n",
              "    }\n",
              "</style>\n",
              "<table border=\"1\" class=\"dataframe\">\n",
              "  <thead>\n",
              "    <tr style=\"text-align: right;\">\n",
              "      <th></th>\n",
              "      <th>company</th>\n",
              "      <th>facebook</th>\n",
              "      <th>google</th>\n",
              "      <th>microsft</th>\n",
              "    </tr>\n",
              "  </thead>\n",
              "  <tbody>\n",
              "    <tr>\n",
              "      <th rowspan=\"8\" valign=\"top\">sales</th>\n",
              "      <th>count</th>\n",
              "      <td>2.000000</td>\n",
              "      <td>2.000000</td>\n",
              "      <td>2.000000</td>\n",
              "    </tr>\n",
              "    <tr>\n",
              "      <th>mean</th>\n",
              "      <td>215.000000</td>\n",
              "      <td>150.000000</td>\n",
              "      <td>300.000000</td>\n",
              "    </tr>\n",
              "    <tr>\n",
              "      <th>std</th>\n",
              "      <td>120.208153</td>\n",
              "      <td>70.710678</td>\n",
              "      <td>141.421356</td>\n",
              "    </tr>\n",
              "    <tr>\n",
              "      <th>min</th>\n",
              "      <td>130.000000</td>\n",
              "      <td>100.000000</td>\n",
              "      <td>200.000000</td>\n",
              "    </tr>\n",
              "    <tr>\n",
              "      <th>25%</th>\n",
              "      <td>172.500000</td>\n",
              "      <td>125.000000</td>\n",
              "      <td>250.000000</td>\n",
              "    </tr>\n",
              "    <tr>\n",
              "      <th>50%</th>\n",
              "      <td>215.000000</td>\n",
              "      <td>150.000000</td>\n",
              "      <td>300.000000</td>\n",
              "    </tr>\n",
              "    <tr>\n",
              "      <th>75%</th>\n",
              "      <td>257.500000</td>\n",
              "      <td>175.000000</td>\n",
              "      <td>350.000000</td>\n",
              "    </tr>\n",
              "    <tr>\n",
              "      <th>max</th>\n",
              "      <td>300.000000</td>\n",
              "      <td>200.000000</td>\n",
              "      <td>400.000000</td>\n",
              "    </tr>\n",
              "  </tbody>\n",
              "</table>\n",
              "</div>"
            ],
            "text/plain": [
              "company        facebook      google    microsft\n",
              "sales count    2.000000    2.000000    2.000000\n",
              "      mean   215.000000  150.000000  300.000000\n",
              "      std    120.208153   70.710678  141.421356\n",
              "      min    130.000000  100.000000  200.000000\n",
              "      25%    172.500000  125.000000  250.000000\n",
              "      50%    215.000000  150.000000  300.000000\n",
              "      75%    257.500000  175.000000  350.000000\n",
              "      max    300.000000  200.000000  400.000000"
            ]
          },
          "metadata": {
            "tags": []
          },
          "execution_count": 35
        }
      ]
    },
    {
      "cell_type": "code",
      "metadata": {
        "id": "1xKENLytmNBR"
      },
      "source": [
        "left = pd.DataFrame({'A':['A0','A1','A2'],'B':['B0','B1','B2']},index=['ko','k1','k2'])\n",
        "right = pd.DataFrame({'C':['C0','C1','C2'],'D':['D0','D1','D2']},index=['ko','k2','k3'])"
      ],
      "execution_count": null,
      "outputs": []
    },
    {
      "cell_type": "code",
      "metadata": {
        "id": "yEekLpYKmPnq",
        "colab": {
          "base_uri": "https://localhost:8080/",
          "height": 142
        },
        "outputId": "54044428-6756-4def-eaa7-9d9a8724be8c"
      },
      "source": [
        "left"
      ],
      "execution_count": null,
      "outputs": [
        {
          "output_type": "execute_result",
          "data": {
            "text/html": [
              "<div>\n",
              "<style scoped>\n",
              "    .dataframe tbody tr th:only-of-type {\n",
              "        vertical-align: middle;\n",
              "    }\n",
              "\n",
              "    .dataframe tbody tr th {\n",
              "        vertical-align: top;\n",
              "    }\n",
              "\n",
              "    .dataframe thead th {\n",
              "        text-align: right;\n",
              "    }\n",
              "</style>\n",
              "<table border=\"1\" class=\"dataframe\">\n",
              "  <thead>\n",
              "    <tr style=\"text-align: right;\">\n",
              "      <th></th>\n",
              "      <th>A</th>\n",
              "      <th>B</th>\n",
              "    </tr>\n",
              "  </thead>\n",
              "  <tbody>\n",
              "    <tr>\n",
              "      <th>ko</th>\n",
              "      <td>A0</td>\n",
              "      <td>B0</td>\n",
              "    </tr>\n",
              "    <tr>\n",
              "      <th>k1</th>\n",
              "      <td>A1</td>\n",
              "      <td>B1</td>\n",
              "    </tr>\n",
              "    <tr>\n",
              "      <th>k2</th>\n",
              "      <td>A2</td>\n",
              "      <td>B2</td>\n",
              "    </tr>\n",
              "  </tbody>\n",
              "</table>\n",
              "</div>"
            ],
            "text/plain": [
              "     A   B\n",
              "ko  A0  B0\n",
              "k1  A1  B1\n",
              "k2  A2  B2"
            ]
          },
          "metadata": {
            "tags": []
          },
          "execution_count": 37
        }
      ]
    },
    {
      "cell_type": "code",
      "metadata": {
        "id": "uxTbPoHWmRNh",
        "colab": {
          "base_uri": "https://localhost:8080/",
          "height": 142
        },
        "outputId": "e5a0021e-41a2-4540-f73a-2bef6b416a42"
      },
      "source": [
        "right"
      ],
      "execution_count": null,
      "outputs": [
        {
          "output_type": "execute_result",
          "data": {
            "text/html": [
              "<div>\n",
              "<style scoped>\n",
              "    .dataframe tbody tr th:only-of-type {\n",
              "        vertical-align: middle;\n",
              "    }\n",
              "\n",
              "    .dataframe tbody tr th {\n",
              "        vertical-align: top;\n",
              "    }\n",
              "\n",
              "    .dataframe thead th {\n",
              "        text-align: right;\n",
              "    }\n",
              "</style>\n",
              "<table border=\"1\" class=\"dataframe\">\n",
              "  <thead>\n",
              "    <tr style=\"text-align: right;\">\n",
              "      <th></th>\n",
              "      <th>C</th>\n",
              "      <th>D</th>\n",
              "    </tr>\n",
              "  </thead>\n",
              "  <tbody>\n",
              "    <tr>\n",
              "      <th>ko</th>\n",
              "      <td>C0</td>\n",
              "      <td>D0</td>\n",
              "    </tr>\n",
              "    <tr>\n",
              "      <th>k2</th>\n",
              "      <td>C1</td>\n",
              "      <td>D1</td>\n",
              "    </tr>\n",
              "    <tr>\n",
              "      <th>k3</th>\n",
              "      <td>C2</td>\n",
              "      <td>D2</td>\n",
              "    </tr>\n",
              "  </tbody>\n",
              "</table>\n",
              "</div>"
            ],
            "text/plain": [
              "     C   D\n",
              "ko  C0  D0\n",
              "k2  C1  D1\n",
              "k3  C2  D2"
            ]
          },
          "metadata": {
            "tags": []
          },
          "execution_count": 38
        }
      ]
    },
    {
      "cell_type": "code",
      "metadata": {
        "id": "XDt82CKTmS3U",
        "colab": {
          "base_uri": "https://localhost:8080/",
          "height": 142
        },
        "outputId": "663ff749-35aa-424a-e5f7-c069a9fe1bfb"
      },
      "source": [
        "left.join(right)"
      ],
      "execution_count": null,
      "outputs": [
        {
          "output_type": "execute_result",
          "data": {
            "text/html": [
              "<div>\n",
              "<style scoped>\n",
              "    .dataframe tbody tr th:only-of-type {\n",
              "        vertical-align: middle;\n",
              "    }\n",
              "\n",
              "    .dataframe tbody tr th {\n",
              "        vertical-align: top;\n",
              "    }\n",
              "\n",
              "    .dataframe thead th {\n",
              "        text-align: right;\n",
              "    }\n",
              "</style>\n",
              "<table border=\"1\" class=\"dataframe\">\n",
              "  <thead>\n",
              "    <tr style=\"text-align: right;\">\n",
              "      <th></th>\n",
              "      <th>A</th>\n",
              "      <th>B</th>\n",
              "      <th>C</th>\n",
              "      <th>D</th>\n",
              "    </tr>\n",
              "  </thead>\n",
              "  <tbody>\n",
              "    <tr>\n",
              "      <th>ko</th>\n",
              "      <td>A0</td>\n",
              "      <td>B0</td>\n",
              "      <td>C0</td>\n",
              "      <td>D0</td>\n",
              "    </tr>\n",
              "    <tr>\n",
              "      <th>k1</th>\n",
              "      <td>A1</td>\n",
              "      <td>B1</td>\n",
              "      <td>NaN</td>\n",
              "      <td>NaN</td>\n",
              "    </tr>\n",
              "    <tr>\n",
              "      <th>k2</th>\n",
              "      <td>A2</td>\n",
              "      <td>B2</td>\n",
              "      <td>C1</td>\n",
              "      <td>D1</td>\n",
              "    </tr>\n",
              "  </tbody>\n",
              "</table>\n",
              "</div>"
            ],
            "text/plain": [
              "     A   B    C    D\n",
              "ko  A0  B0   C0   D0\n",
              "k1  A1  B1  NaN  NaN\n",
              "k2  A2  B2   C1   D1"
            ]
          },
          "metadata": {
            "tags": []
          },
          "execution_count": 39
        }
      ]
    },
    {
      "cell_type": "code",
      "metadata": {
        "id": "F8_wQKBJmVRp"
      },
      "source": [
        "df = pd.Series([1,1,2,2,2,2,2,2,2,3,4,5,8])"
      ],
      "execution_count": null,
      "outputs": []
    },
    {
      "cell_type": "code",
      "metadata": {
        "id": "XdRLDJ5CmXtZ",
        "colab": {
          "base_uri": "https://localhost:8080/",
          "height": 34
        },
        "outputId": "96c27abc-16e2-4e30-c23e-4471f32019e0"
      },
      "source": [
        "df.unique() #print unique values in dataframe"
      ],
      "execution_count": null,
      "outputs": [
        {
          "output_type": "execute_result",
          "data": {
            "text/plain": [
              "array([1, 2, 3, 4, 5, 8])"
            ]
          },
          "metadata": {
            "tags": []
          },
          "execution_count": 41
        }
      ]
    },
    {
      "cell_type": "code",
      "metadata": {
        "id": "dtvPQ3p8mZZY",
        "colab": {
          "base_uri": "https://localhost:8080/",
          "height": 34
        },
        "outputId": "465d7f36-c3e7-4057-fc1f-7d19288af0b7"
      },
      "source": [
        "df.nunique() #print number of unique values count"
      ],
      "execution_count": null,
      "outputs": [
        {
          "output_type": "execute_result",
          "data": {
            "text/plain": [
              "6"
            ]
          },
          "metadata": {
            "tags": []
          },
          "execution_count": 42
        }
      ]
    },
    {
      "cell_type": "code",
      "metadata": {
        "id": "lB55NDZ5mcVX",
        "colab": {
          "base_uri": "https://localhost:8080/",
          "height": 136
        },
        "outputId": "a50eb4cc-9cdb-4138-9523-7ec3c3df2a24"
      },
      "source": [
        "df.value_counts() #howmany times count"
      ],
      "execution_count": null,
      "outputs": [
        {
          "output_type": "execute_result",
          "data": {
            "text/plain": [
              "2    7\n",
              "1    2\n",
              "8    1\n",
              "5    1\n",
              "4    1\n",
              "3    1\n",
              "dtype: int64"
            ]
          },
          "metadata": {
            "tags": []
          },
          "execution_count": 43
        }
      ]
    },
    {
      "cell_type": "code",
      "metadata": {
        "id": "yvcb5qy-md7z"
      },
      "source": [
        "def test(var):\n",
        "    return var*2"
      ],
      "execution_count": null,
      "outputs": []
    },
    {
      "cell_type": "code",
      "metadata": {
        "id": "9OnrEO8bmffP",
        "colab": {
          "base_uri": "https://localhost:8080/",
          "height": 255
        },
        "outputId": "88f6be95-ee1b-4762-9344-61c57e1d78fc"
      },
      "source": [
        "df.apply(test) #apply function to dataframe"
      ],
      "execution_count": null,
      "outputs": [
        {
          "output_type": "execute_result",
          "data": {
            "text/plain": [
              "0      2\n",
              "1      2\n",
              "2      4\n",
              "3      4\n",
              "4      4\n",
              "5      4\n",
              "6      4\n",
              "7      4\n",
              "8      4\n",
              "9      6\n",
              "10     8\n",
              "11    10\n",
              "12    16\n",
              "dtype: int64"
            ]
          },
          "metadata": {
            "tags": []
          },
          "execution_count": 45
        }
      ]
    },
    {
      "cell_type": "code",
      "metadata": {
        "id": "i8BrLCOamh33",
        "colab": {
          "base_uri": "https://localhost:8080/",
          "height": 235
        },
        "outputId": "23afa016-527a-4515-c5d4-e118d51a4c6b"
      },
      "source": [
        "#apply buildin funtion to dataframe\n",
        "data = {'company':['google','google','microsft','microsft','facebook','facebook'],\n",
        "        'person': ['juned','fatima','mayur','zeeshan','nimesh','sandip'],\n",
        "        'sales':  [100,200,400,200,130,300]\n",
        "       }\n",
        "df = pd.DataFrame(data)\n",
        "df"
      ],
      "execution_count": null,
      "outputs": [
        {
          "output_type": "execute_result",
          "data": {
            "text/html": [
              "<div>\n",
              "<style scoped>\n",
              "    .dataframe tbody tr th:only-of-type {\n",
              "        vertical-align: middle;\n",
              "    }\n",
              "\n",
              "    .dataframe tbody tr th {\n",
              "        vertical-align: top;\n",
              "    }\n",
              "\n",
              "    .dataframe thead th {\n",
              "        text-align: right;\n",
              "    }\n",
              "</style>\n",
              "<table border=\"1\" class=\"dataframe\">\n",
              "  <thead>\n",
              "    <tr style=\"text-align: right;\">\n",
              "      <th></th>\n",
              "      <th>company</th>\n",
              "      <th>person</th>\n",
              "      <th>sales</th>\n",
              "    </tr>\n",
              "  </thead>\n",
              "  <tbody>\n",
              "    <tr>\n",
              "      <th>0</th>\n",
              "      <td>google</td>\n",
              "      <td>juned</td>\n",
              "      <td>100</td>\n",
              "    </tr>\n",
              "    <tr>\n",
              "      <th>1</th>\n",
              "      <td>google</td>\n",
              "      <td>fatima</td>\n",
              "      <td>200</td>\n",
              "    </tr>\n",
              "    <tr>\n",
              "      <th>2</th>\n",
              "      <td>microsft</td>\n",
              "      <td>mayur</td>\n",
              "      <td>400</td>\n",
              "    </tr>\n",
              "    <tr>\n",
              "      <th>3</th>\n",
              "      <td>microsft</td>\n",
              "      <td>zeeshan</td>\n",
              "      <td>200</td>\n",
              "    </tr>\n",
              "    <tr>\n",
              "      <th>4</th>\n",
              "      <td>facebook</td>\n",
              "      <td>nimesh</td>\n",
              "      <td>130</td>\n",
              "    </tr>\n",
              "    <tr>\n",
              "      <th>5</th>\n",
              "      <td>facebook</td>\n",
              "      <td>sandip</td>\n",
              "      <td>300</td>\n",
              "    </tr>\n",
              "  </tbody>\n",
              "</table>\n",
              "</div>"
            ],
            "text/plain": [
              "    company   person  sales\n",
              "0    google    juned    100\n",
              "1    google   fatima    200\n",
              "2  microsft    mayur    400\n",
              "3  microsft  zeeshan    200\n",
              "4  facebook   nimesh    130\n",
              "5  facebook   sandip    300"
            ]
          },
          "metadata": {
            "tags": []
          },
          "execution_count": 46
        }
      ]
    },
    {
      "cell_type": "code",
      "metadata": {
        "id": "pDv2915imncw",
        "colab": {
          "base_uri": "https://localhost:8080/",
          "height": 235
        },
        "outputId": "573c2b89-7e17-4faa-ca80-ee2161cbed8f"
      },
      "source": [
        "df['length'] = df['person'].apply(len)\n",
        "df"
      ],
      "execution_count": null,
      "outputs": [
        {
          "output_type": "execute_result",
          "data": {
            "text/html": [
              "<div>\n",
              "<style scoped>\n",
              "    .dataframe tbody tr th:only-of-type {\n",
              "        vertical-align: middle;\n",
              "    }\n",
              "\n",
              "    .dataframe tbody tr th {\n",
              "        vertical-align: top;\n",
              "    }\n",
              "\n",
              "    .dataframe thead th {\n",
              "        text-align: right;\n",
              "    }\n",
              "</style>\n",
              "<table border=\"1\" class=\"dataframe\">\n",
              "  <thead>\n",
              "    <tr style=\"text-align: right;\">\n",
              "      <th></th>\n",
              "      <th>company</th>\n",
              "      <th>person</th>\n",
              "      <th>sales</th>\n",
              "      <th>length</th>\n",
              "    </tr>\n",
              "  </thead>\n",
              "  <tbody>\n",
              "    <tr>\n",
              "      <th>0</th>\n",
              "      <td>google</td>\n",
              "      <td>juned</td>\n",
              "      <td>100</td>\n",
              "      <td>5</td>\n",
              "    </tr>\n",
              "    <tr>\n",
              "      <th>1</th>\n",
              "      <td>google</td>\n",
              "      <td>fatima</td>\n",
              "      <td>200</td>\n",
              "      <td>6</td>\n",
              "    </tr>\n",
              "    <tr>\n",
              "      <th>2</th>\n",
              "      <td>microsft</td>\n",
              "      <td>mayur</td>\n",
              "      <td>400</td>\n",
              "      <td>5</td>\n",
              "    </tr>\n",
              "    <tr>\n",
              "      <th>3</th>\n",
              "      <td>microsft</td>\n",
              "      <td>zeeshan</td>\n",
              "      <td>200</td>\n",
              "      <td>7</td>\n",
              "    </tr>\n",
              "    <tr>\n",
              "      <th>4</th>\n",
              "      <td>facebook</td>\n",
              "      <td>nimesh</td>\n",
              "      <td>130</td>\n",
              "      <td>6</td>\n",
              "    </tr>\n",
              "    <tr>\n",
              "      <th>5</th>\n",
              "      <td>facebook</td>\n",
              "      <td>sandip</td>\n",
              "      <td>300</td>\n",
              "      <td>6</td>\n",
              "    </tr>\n",
              "  </tbody>\n",
              "</table>\n",
              "</div>"
            ],
            "text/plain": [
              "    company   person  sales  length\n",
              "0    google    juned    100       5\n",
              "1    google   fatima    200       6\n",
              "2  microsft    mayur    400       5\n",
              "3  microsft  zeeshan    200       7\n",
              "4  facebook   nimesh    130       6\n",
              "5  facebook   sandip    300       6"
            ]
          },
          "metadata": {
            "tags": []
          },
          "execution_count": 47
        }
      ]
    },
    {
      "cell_type": "code",
      "metadata": {
        "id": "rAOq_1FFmpqZ",
        "colab": {
          "base_uri": "https://localhost:8080/",
          "height": 235
        },
        "outputId": "0bbb3c7c-ea45-4cb5-8a14-ecd042c399f1"
      },
      "source": [
        "df['length_2'] = df['length'].apply(lambda x:x*2)\n",
        "df"
      ],
      "execution_count": null,
      "outputs": [
        {
          "output_type": "execute_result",
          "data": {
            "text/html": [
              "<div>\n",
              "<style scoped>\n",
              "    .dataframe tbody tr th:only-of-type {\n",
              "        vertical-align: middle;\n",
              "    }\n",
              "\n",
              "    .dataframe tbody tr th {\n",
              "        vertical-align: top;\n",
              "    }\n",
              "\n",
              "    .dataframe thead th {\n",
              "        text-align: right;\n",
              "    }\n",
              "</style>\n",
              "<table border=\"1\" class=\"dataframe\">\n",
              "  <thead>\n",
              "    <tr style=\"text-align: right;\">\n",
              "      <th></th>\n",
              "      <th>company</th>\n",
              "      <th>person</th>\n",
              "      <th>sales</th>\n",
              "      <th>length</th>\n",
              "      <th>length_2</th>\n",
              "    </tr>\n",
              "  </thead>\n",
              "  <tbody>\n",
              "    <tr>\n",
              "      <th>0</th>\n",
              "      <td>google</td>\n",
              "      <td>juned</td>\n",
              "      <td>100</td>\n",
              "      <td>5</td>\n",
              "      <td>10</td>\n",
              "    </tr>\n",
              "    <tr>\n",
              "      <th>1</th>\n",
              "      <td>google</td>\n",
              "      <td>fatima</td>\n",
              "      <td>200</td>\n",
              "      <td>6</td>\n",
              "      <td>12</td>\n",
              "    </tr>\n",
              "    <tr>\n",
              "      <th>2</th>\n",
              "      <td>microsft</td>\n",
              "      <td>mayur</td>\n",
              "      <td>400</td>\n",
              "      <td>5</td>\n",
              "      <td>10</td>\n",
              "    </tr>\n",
              "    <tr>\n",
              "      <th>3</th>\n",
              "      <td>microsft</td>\n",
              "      <td>zeeshan</td>\n",
              "      <td>200</td>\n",
              "      <td>7</td>\n",
              "      <td>14</td>\n",
              "    </tr>\n",
              "    <tr>\n",
              "      <th>4</th>\n",
              "      <td>facebook</td>\n",
              "      <td>nimesh</td>\n",
              "      <td>130</td>\n",
              "      <td>6</td>\n",
              "      <td>12</td>\n",
              "    </tr>\n",
              "    <tr>\n",
              "      <th>5</th>\n",
              "      <td>facebook</td>\n",
              "      <td>sandip</td>\n",
              "      <td>300</td>\n",
              "      <td>6</td>\n",
              "      <td>12</td>\n",
              "    </tr>\n",
              "  </tbody>\n",
              "</table>\n",
              "</div>"
            ],
            "text/plain": [
              "    company   person  sales  length  length_2\n",
              "0    google    juned    100       5        10\n",
              "1    google   fatima    200       6        12\n",
              "2  microsft    mayur    400       5        10\n",
              "3  microsft  zeeshan    200       7        14\n",
              "4  facebook   nimesh    130       6        12\n",
              "5  facebook   sandip    300       6        12"
            ]
          },
          "metadata": {
            "tags": []
          },
          "execution_count": 48
        }
      ]
    },
    {
      "cell_type": "code",
      "metadata": {
        "id": "2CNdjqP7msXZ"
      },
      "source": [
        "df.drop('length_2',axis=1,inplace=True) #drop the column"
      ],
      "execution_count": null,
      "outputs": []
    },
    {
      "cell_type": "code",
      "metadata": {
        "id": "L_KAkd09mxlt",
        "colab": {
          "base_uri": "https://localhost:8080/",
          "height": 235
        },
        "outputId": "ecd8bfa4-e75d-4b9a-fb36-9a92a6dd40aa"
      },
      "source": [
        "df"
      ],
      "execution_count": null,
      "outputs": [
        {
          "output_type": "execute_result",
          "data": {
            "text/html": [
              "<div>\n",
              "<style scoped>\n",
              "    .dataframe tbody tr th:only-of-type {\n",
              "        vertical-align: middle;\n",
              "    }\n",
              "\n",
              "    .dataframe tbody tr th {\n",
              "        vertical-align: top;\n",
              "    }\n",
              "\n",
              "    .dataframe thead th {\n",
              "        text-align: right;\n",
              "    }\n",
              "</style>\n",
              "<table border=\"1\" class=\"dataframe\">\n",
              "  <thead>\n",
              "    <tr style=\"text-align: right;\">\n",
              "      <th></th>\n",
              "      <th>company</th>\n",
              "      <th>person</th>\n",
              "      <th>sales</th>\n",
              "      <th>length</th>\n",
              "    </tr>\n",
              "  </thead>\n",
              "  <tbody>\n",
              "    <tr>\n",
              "      <th>0</th>\n",
              "      <td>google</td>\n",
              "      <td>juned</td>\n",
              "      <td>100</td>\n",
              "      <td>5</td>\n",
              "    </tr>\n",
              "    <tr>\n",
              "      <th>1</th>\n",
              "      <td>google</td>\n",
              "      <td>fatima</td>\n",
              "      <td>200</td>\n",
              "      <td>6</td>\n",
              "    </tr>\n",
              "    <tr>\n",
              "      <th>2</th>\n",
              "      <td>microsft</td>\n",
              "      <td>mayur</td>\n",
              "      <td>400</td>\n",
              "      <td>5</td>\n",
              "    </tr>\n",
              "    <tr>\n",
              "      <th>3</th>\n",
              "      <td>microsft</td>\n",
              "      <td>zeeshan</td>\n",
              "      <td>200</td>\n",
              "      <td>7</td>\n",
              "    </tr>\n",
              "    <tr>\n",
              "      <th>4</th>\n",
              "      <td>facebook</td>\n",
              "      <td>nimesh</td>\n",
              "      <td>130</td>\n",
              "      <td>6</td>\n",
              "    </tr>\n",
              "    <tr>\n",
              "      <th>5</th>\n",
              "      <td>facebook</td>\n",
              "      <td>sandip</td>\n",
              "      <td>300</td>\n",
              "      <td>6</td>\n",
              "    </tr>\n",
              "  </tbody>\n",
              "</table>\n",
              "</div>"
            ],
            "text/plain": [
              "    company   person  sales  length\n",
              "0    google    juned    100       5\n",
              "1    google   fatima    200       6\n",
              "2  microsft    mayur    400       5\n",
              "3  microsft  zeeshan    200       7\n",
              "4  facebook   nimesh    130       6\n",
              "5  facebook   sandip    300       6"
            ]
          },
          "metadata": {
            "tags": []
          },
          "execution_count": 50
        }
      ]
    },
    {
      "cell_type": "code",
      "metadata": {
        "id": "f5FT9zQ_mztA",
        "colab": {
          "base_uri": "https://localhost:8080/",
          "height": 235
        },
        "outputId": "40858db3-adac-42cd-98f0-c326051fcba5"
      },
      "source": [
        "df.sort_values('person')"
      ],
      "execution_count": null,
      "outputs": [
        {
          "output_type": "execute_result",
          "data": {
            "text/html": [
              "<div>\n",
              "<style scoped>\n",
              "    .dataframe tbody tr th:only-of-type {\n",
              "        vertical-align: middle;\n",
              "    }\n",
              "\n",
              "    .dataframe tbody tr th {\n",
              "        vertical-align: top;\n",
              "    }\n",
              "\n",
              "    .dataframe thead th {\n",
              "        text-align: right;\n",
              "    }\n",
              "</style>\n",
              "<table border=\"1\" class=\"dataframe\">\n",
              "  <thead>\n",
              "    <tr style=\"text-align: right;\">\n",
              "      <th></th>\n",
              "      <th>company</th>\n",
              "      <th>person</th>\n",
              "      <th>sales</th>\n",
              "      <th>length</th>\n",
              "    </tr>\n",
              "  </thead>\n",
              "  <tbody>\n",
              "    <tr>\n",
              "      <th>1</th>\n",
              "      <td>google</td>\n",
              "      <td>fatima</td>\n",
              "      <td>200</td>\n",
              "      <td>6</td>\n",
              "    </tr>\n",
              "    <tr>\n",
              "      <th>0</th>\n",
              "      <td>google</td>\n",
              "      <td>juned</td>\n",
              "      <td>100</td>\n",
              "      <td>5</td>\n",
              "    </tr>\n",
              "    <tr>\n",
              "      <th>2</th>\n",
              "      <td>microsft</td>\n",
              "      <td>mayur</td>\n",
              "      <td>400</td>\n",
              "      <td>5</td>\n",
              "    </tr>\n",
              "    <tr>\n",
              "      <th>4</th>\n",
              "      <td>facebook</td>\n",
              "      <td>nimesh</td>\n",
              "      <td>130</td>\n",
              "      <td>6</td>\n",
              "    </tr>\n",
              "    <tr>\n",
              "      <th>5</th>\n",
              "      <td>facebook</td>\n",
              "      <td>sandip</td>\n",
              "      <td>300</td>\n",
              "      <td>6</td>\n",
              "    </tr>\n",
              "    <tr>\n",
              "      <th>3</th>\n",
              "      <td>microsft</td>\n",
              "      <td>zeeshan</td>\n",
              "      <td>200</td>\n",
              "      <td>7</td>\n",
              "    </tr>\n",
              "  </tbody>\n",
              "</table>\n",
              "</div>"
            ],
            "text/plain": [
              "    company   person  sales  length\n",
              "1    google   fatima    200       6\n",
              "0    google    juned    100       5\n",
              "2  microsft    mayur    400       5\n",
              "4  facebook   nimesh    130       6\n",
              "5  facebook   sandip    300       6\n",
              "3  microsft  zeeshan    200       7"
            ]
          },
          "metadata": {
            "tags": []
          },
          "execution_count": 51
        }
      ]
    },
    {
      "cell_type": "code",
      "metadata": {
        "id": "_LqADzPQm1WI"
      },
      "source": [
        "## Inner Joins\n",
        "pd.merge(product,customer,on='Product_ID')\n",
        "pd.merge(product,customer,left_on='Product_name',right_on='Purchased_Product')\n",
        "pd.merge(product,customer,how='inner',left_on=['Product_ID','Seller_City'],right_on=['Product_ID','City'])\n",
        "\n",
        "## Outer Join\n",
        "pd.merge(product,customer,on='Product_ID',how='outer')\n",
        "\n",
        "## Left Join\n",
        "pd.merge(product,customer,on='Product_ID',how='left')\n",
        "\n",
        "## Right Join\n",
        "pd.merge(product,customer,on='Product_ID',how='right')"
      ],
      "execution_count": null,
      "outputs": []
    },
    {
      "cell_type": "code",
      "metadata": {
        "id": "UIyKgzQPyXje"
      },
      "source": [
        "## Concatination\n",
        "df1 = pd.DataFrame({'A': ['A0', 'A1', 'A2', 'A3'],\n",
        "                    'B': ['B0', 'B1', 'B2', 'B3'],\n",
        "                    'C': ['C0', 'C1', 'C2', 'C3'],\n",
        "                    'D': ['D0', 'D1', 'D2', 'D3']},\n",
        "                    index=[0, 1, 2, 3])\n",
        "\n",
        "df2 = pd.DataFrame({'A': ['A4', 'A5', 'A6', 'A7'],\n",
        "                    'B': ['B4', 'B5', 'B6', 'B7'],\n",
        "                    'C': ['C4', 'C5', 'C6', 'C7'],\n",
        "                    'D': ['D4', 'D5', 'D6', 'D7']},\n",
        "                   index=[4, 5, 6, 7])\n",
        "\n",
        "df3 = pd.DataFrame({'A': ['A8', 'A9', 'A10', 'A11'],\n",
        "                    'B': ['B8', 'B9', 'B10', 'B11'],\n",
        "                    'C': ['C8', 'C9', 'C10', 'C11'],\n",
        "                    'D': ['D8', 'D9', 'D10', 'D11']},\n",
        "                    index=[8, 9, 10, 11])\n",
        "\n",
        "result = pd.concat([df1,df2,df3])\n",
        "result = pd.concat([df1, df4], axis=1, sort=False)\n",
        "result = pd.concat([df1, df4], axis=1, join='inner')\n",
        "result = df1.append(df2)"
      ],
      "execution_count": null,
      "outputs": []
    },
    {
      "cell_type": "code",
      "metadata": {
        "id": "JZiW1Haiyvl2"
      },
      "source": [
        "#"
      ],
      "execution_count": null,
      "outputs": []
    }
  ]
}